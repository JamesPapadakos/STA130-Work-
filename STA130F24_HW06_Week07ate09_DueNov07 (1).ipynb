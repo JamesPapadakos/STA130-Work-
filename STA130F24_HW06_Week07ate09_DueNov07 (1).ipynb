{
 "cells": [
  {
   "cell_type": "markdown",
   "id": "6cd8c93b",
   "metadata": {},
   "source": [
    "# STA130 Homework 06\n",
    "\n",
    "Please see the course [wiki-textbook](https://github.com/pointOfive/stat130chat130/wiki) for the list of topics covered in this homework assignment, and a list of topics that might appear during ChatBot conversations which are \"out of scope\" for the purposes of this homework assignment (and hence can be safely ignored if encountered)"
   ]
  },
  {
   "cell_type": "markdown",
   "id": "991dc719",
   "metadata": {},
   "source": [
    "<details class=\"details-example\"><summary style=\"color:blue\"><u>Introduction</u></summary>\n",
    "\n",
    "### Introduction\n",
    "    \n",
    "A reasonable characterization of STA130 Homework is that it simply defines a weekly reading comprehension assignment. \n",
    "Indeed, STA130 Homework essentially boils down to completing various understanding confirmation exercises oriented around coding and writing tasks.\n",
    "However, rather than reading a textbook, STA130 Homework is based on ChatBots so students can interactively follow up to clarify questions or confusion that they may still have regarding learning objective assignments.\n",
    "\n",
    "> Communication is a fundamental skill underlying statistics and data science, so STA130 Homework based on ChatBots helps practice effective two-way communication as part of a \"realistic\" dialogue activity supporting underlying conceptual understanding building. \n",
    "\n",
    "It will likely become increasingly tempting to rely on ChatBots to \"do the work for you\". But when you find yourself frustrated with a ChatBots inability to give you the results you're looking for, this is a \"hint\" that you've become overreliant on the ChatBots. Your objective should not be to have ChatBots \"do the work for you\", but to use ChatBots to help you build your understanding so you can efficiently leverage ChatBots (and other resources) to help you work more efficiently.<br><br>\n",
    "\n",
    "</details>\n",
    "\n",
    "<details class=\"details-example\"><summary style=\"color:blue\"><u>Instructions</u></summary>\n",
    "\n",
    "### Instructions\n",
    "    \n",
    "1. Code and write all your answers (for both the \"Pre-lecture\" and \"Post-lecture\" HW) in a python notebook (in code and markdown cells) \n",
    "    \n",
    "> It is *suggested but not mandatory* that you complete the \"Pre-lecture\" HW prior to the Monday LEC since (a) all HW is due at the same time; but, (b) completing some of the HW early will mean better readiness for LEC and less of a \"procrastentation cruch\" towards the end of the week...\n",
    "    \n",
    "2. Paste summaries of your ChatBot sessions (including link(s) to chat log histories if you're using ChatGPT) within your notebook\n",
    "    \n",
    "> Create summaries of your ChatBot sessions by using concluding prompts such as \"Please provide a summary of our exchanges here so I can submit them as a record of our interactions as part of a homework assignment\" or, \"Please provide me with the final working verson of the code that we created together\"\n",
    "    \n",
    "3. Save your python jupyter notebook in your own account and \"repo\" on [github.com](github.com) and submit a link to that notebook though Quercus for assignment marking<br><br>\n",
    "\n",
    "</details>\n",
    "\n",
    "<details class=\"details-example\"><summary style=\"color:blue\"><u>Prompt Engineering?</u></summary>\n",
    "    \n",
    "### Prompt Engineering? \n",
    "    \n",
    "The questions (as copy-pasted prompts) are designed to initialize appropriate ChatBot conversations which can be explored in the manner of an interactive and dynamic textbook; but, it is nonetheless **strongly recommendated** that your rephrase the questions in a way that you find natural to ensure a clear understanding of the question. Given sensible prompts the represent a question well, the two primary challenges observed to arise from ChatBots are \n",
    "\n",
    "1. conversations going beyond the intended scope of the material addressed by the question; and, \n",
    "2. unrecoverable confusion as a result of sequential layers logial inquiry that cannot be resolved. \n",
    "\n",
    "In the case of the former (1), adding constraints specifying the limits of considerations of interest tends to be helpful; whereas, the latter (2) is often the result of initial prompting that leads to poor developments in navigating the material, which are likely just best resolve by a \"hard reset\" with a new initial approach to prompting.  Indeed, this is exactly the behavior [hardcoded into copilot](https://answers.microsoft.com/en-us/bing/forum/all/is-this-even-normal/0b6dcab3-7d6c-4373-8efe-d74158af3c00)...\n",
    "\n",
    "</details>"
   ]
  },
  {
   "cell_type": "markdown",
   "id": "3d0ed17b",
   "metadata": {},
   "source": [
    "### Marking Rubric (which may award partial credit) \n",
    "\n",
    "- [0.1 points]: All relevant ChatBot summaries [including link(s) to chat log histories if you're using ChatGPT] are reported within the notebook\n",
    "- [0.2 points]: Evaluation of correctness and clarity in written communication for Question \"3\"\n",
    "- [0.2 points]: Evaluation of correctness and clarity in written communication for Question \"4\"\n",
    "- [0.2 points]: Evaluation of submitted work and conclusions for Question \"9\"\n",
    "- [0.3 points]: Evaluation of written communication of the \"big picture\" differences and correct evidence assessement for Question \"11\"\n"
   ]
  },
  {
   "cell_type": "markdown",
   "id": "a326d8bb",
   "metadata": {},
   "source": [
    "## \"Pre-lecture\" versus \"Post-lecture\" HW? \n",
    "\n",
    "- _**Your HW submission is due prior to the Nov08 TUT on Friday after you return from Reading Week; however,**_\n",
    "- _**this homework assignment is longer since it covers material from both the Oct21 and Nov04 LEC (rather than a single LEC); so,**_\n",
    "- _**we'll brake the assignment into \"Week of Oct21\" and \"Week of Nov04\" HW and/but ALL of it will be DUE prior to the Nov08 TUT**_\n"
   ]
  },
  {
   "cell_type": "markdown",
   "id": "49cc8cd7",
   "metadata": {},
   "source": [
    "## \"Week of Oct21\" HW [*due prior to the Nov08 TUT*]"
   ]
  },
  {
   "cell_type": "markdown",
   "id": "d8140d3a",
   "metadata": {},
   "source": [
    "### 1. Explain the theoretical Simple Linear Regression model in your own words by describing its components (of predictor and outcome variables, slope and intercept coefficients, and an error term) and how they combine to form a sample from normal distribution; then, create *python* code explicitly demonstrating your explanation using *numpy* and *scipy.stats* <br>\n",
    "\n",
    "<details class=\"details-example\"><summary style=\"color:blue\"><u>Further Guidance</u></summary>\n",
    "\n",
    "> _Your answer can be quite concise and will likely just address the \"mathematical\" and \"statistical\" aspects of the process of a **Simple Linear Model** specification, perhaps giving an intuitive interpretation summary of the result as a whole_\n",
    ">   \n",
    "> - _Your code could be based on values for `n`, `x`, `beta0`, `beta1`, and `sigma`; and, then create the `errors` and `Y`_\n",
    "> \n",
    "> - _The predictors $x_i$ can be fixed arbitrarily to start the process (perhaps sampled using `stats.uniform`), and they are conceptually different from the creation of **error** (or **noise**) terms $\\epsilon_i$ which are sampled from a **normal distribution** (with some aribtrarily *a priori* chosen **standard deviation** `scale` parameter $\\sigma$) which are then combined with $x_i$ through the **Simple Linear Model** equation (based on aribtrarily *a priori* chosen **slope** and **intercept coefficients**) to produce the $Y_i$ outcomes_\n",
    "> \n",
    "> - _It should be fairly easy to visualize the \"a + bx\" line defined by the **Simple Linear Model** equation, and some **simulated** data points around the line in a `plotly` figure using the help of a ChatBot_\n",
    "> \n",
    "> _If you use a ChatBot (as expected for this problem), **don't forget to ask for summaries of your ChatBot session(s) and paste these into your homework notebook (including link(s) to chat log histories if you're using ChatGPT)**_\n",
    ">\n",
    "> \n",
    "> _**Question Scope Warning:** Be careful when using a ChatBot to help you with creating an example dataset and coding up a visualization though, **because it might suggest creating (and visualizing) a fitted model for to your data (rather than the theoretical model); but, this is not what this question is asking you to demonstrate**. This question is not asking about how to produce a fitted **Simple Linear Regression** model or explain how model **slope** and **intercept coefficients** are calculated (e.g., using \"ordinary least squares\" or analytical equations to estimate the **coefficients**  for an observed dataset)._\n",
    "> \n",
    "> ```python\n",
    "> # There are two distinct ways to use `plotly` here\n",
    ">\n",
    "> import plotly.express as px\n",
    "> px.scatter(df, x='x',  y='Y', color='Data', \n",
    ">            trendline='ols', title='Y vs. x')\n",
    ">        \n",
    "> import plotly.graph_objects as go\n",
    "> fig = go.Figure()\n",
    "> fig.add_trace(go.Scatter(x=x, y=Y, mode='markers', name='Data'))\n",
    "> \n",
    "> # The latter is preferable since `trendline='ols'` in the former \n",
    "> # creates a fitted model for the data and adds it to the figure\n",
    "> # and, again, THAT IS NOT what this problem is asking for right now\n",
    "> ```\n",
    ">    \n",
    "> ---\n",
    "> \n",
    "> _Don't forget to ask for summaries of all your different ChatBot sessions and organize and paste these into your homework notebook (including link(s) to chat log histories if you're using ChatBot) But if you're using the STA130 custom NBLM ChatBot, you'll only be able to ask for summaries, of course!_  \n",
    "</details>\n"
   ]
  },
  {
   "cell_type": "markdown",
   "id": "78be4b8c",
   "metadata": {},
   "source": [
    "Theoretical Simple Linear Regression relates a variable Y to a predictor variable X. beta0 represents the value of Y when X = 0 and beta1 represents the slope coefficient. "
   ]
  },
  {
   "cell_type": "code",
   "execution_count": 7,
   "id": "f55a53cd",
   "metadata": {
    "scrolled": false
   },
   "outputs": [
    {
     "data": {
      "image/png": "[encoded data removed]"
     },
     "metadata": {},
     "output_type": "display_data"
    }
   ],
   "source": [
    "import numpy as np\n",
    "import plotly.graph_objects as go\n",
    "\n",
    "# Generate 100 random data points for x\n",
    "np.random.seed(0)  # For reproducibility\n",
    "x = np.linspace(1, 10, 100)\n",
    "Y = 2 * x + np.random.normal(0, 2, 100)  # Add some noise to make it realistic\n",
    "\n",
    "# Calculate the coefficients for the line of best fit manually\n",
    "n = len(x)\n",
    "mean_x, mean_y = np.mean(x), np.mean(Y)\n",
    "SS_xy = np.sum(Y * x) - n * mean_y * mean_x\n",
    "SS_xx = np.sum(x * x) - n * mean_x * mean_x\n",
    "slope = SS_xy / SS_xx\n",
    "intercept = mean_y - slope * mean_x\n",
    "\n",
    "# Generate the line values based on the manually calculated slope and intercept\n",
    "Y_theoretical = intercept + slope * x\n",
    "\n",
    "# Plot the data and theoretical regression line using plotly.graph_objects\n",
    "fig = go.Figure()\n",
    "fig.add_trace(go.Scatter(x=x, y=Y, mode='markers', name='Data'))\n",
    "fig.add_trace(go.Scatter(x=x, y=Y_theoretical, mode='lines', name='Theoretical Fit',\n",
    "                         line=dict(dash='dash')))\n",
    "\n",
    "# Add titles and labels\n",
    "fig.update_layout(\n",
    "    title=\"Theoretical Simple Linear Regression Model with 100 Data Points\",\n",
    "    xaxis_title=\"x\",\n",
    "    yaxis_title=\"Y\",\n",
    ")\n",
    "\n",
    "fig.show(renderer=\"png\")"
   ]
  },
  {
   "cell_type": "markdown",
   "id": "b44ff4d1",
   "metadata": {},
   "source": [
    "https://chatgpt.com/share/672d004d-0224-8001-911e-c32ec2ae8afa"
   ]
  },
  {
   "cell_type": "markdown",
   "id": "8a0f9cdf",
   "metadata": {},
   "source": [
    "### 2. Use a dataset simulated from your theoretical Simple Linear Regression model to demonstrate how to create and visualize a fitted Simple Linear Regression model using *pandas* and *import statsmodels.formula.api as smf*<br>\n",
    "\n",
    "<details class=\"details-example\"><summary style=\"color:blue\"><u>Further Guidance</u></summary>\n",
    "\n",
    "> - _Combine the **simulated** `x` and `Y` into a `pandas` data frame object named `df` with the column names \"x\" and \"Y\"_\n",
    "> \n",
    "> - _Replace the inline question comments below with their answers (working with a ChatBot if needed)_\n",
    ">\n",
    "> ```python\n",
    "> import statsmodels.formula.api as smf  # what is this library for?\n",
    "> import plotly.express as px  # this is a ploting library\n",
    ">\n",
    "> # what are the following two steps doing?\n",
    "> model_data_specification = smf.ols(\"Y~x\", data=df) \n",
    "> fitted_model = model_data_specification.fit() \n",
    ">\n",
    "> # what do each of the following provide?\n",
    "> fitted_model.summary()  # simple explanation? \n",
    "> fitted_model.summary().tables[1]  # simple explanation?\n",
    "> fitted_model.params  # simple explanation?\n",
    "> fitted_model.params.values  # simple explanation?\n",
    "> fitted_model.rsquared  # simple explanation?\n",
    ">\n",
    "> # what two things does this add onto the figure?\n",
    "> df['Data'] = 'Data' # hack to add data to legend \n",
    "> fig = px.scatter(df, x='x',  y='Y', color='Data', \n",
    ">                  trendline='ols', title='Y vs. x')\n",
    ">\n",
    "> # This is essentially what above `trendline='ols'` does\n",
    "> fig.add_scatter(x=df['x'], y=fitted_model.fittedvalues,\n",
    ">                 line=dict(color='blue'), name=\"trendline='ols'\")\n",
    "> \n",
    "> fig.show() # USE `fig.show(renderer=\"png\")` FOR ALL GitHub and MarkUs SUBMISSIONS\n",
    "> ```\n",
    ">\n",
    "> _The plotting here uses the `plotly.express` form `fig.add_scatter(x=x, y=Y)` rather than the `plotly.graph_objects` form `fig.add_trace(go.Scatter(x=x, y=Y))`. The difference between these two was noted in the \"Further Guidance\" comments in the previous question; but, the preference for the former in this case is because `px` allows us to access `trendline='ols'` through `px.scatter(df, x='x',  y='Y', trendline='ols')`_\n",
    ">\n",
    "> ---\n",
    "> \n",
    "> _Don't forget to ask for summaries of all your different ChatBot sessions and organize and paste these into your homework notebook (including link(s) to chat log histories if you're using ChatBot) But if you're using the STA130 custom NBLM ChatBot, you'll only be able to ask for summaries, of course!_      \n",
    "\n",
    "</details>"
   ]
  },
  {
   "cell_type": "code",
   "execution_count": 6,
   "id": "f9cf68d2",
   "metadata": {},
   "outputs": [
    {
     "data": {
      "image/png": "[encoded data removed]"
     },
     "metadata": {},
     "output_type": "display_data"
    }
   ],
   "source": [
    "import statsmodels.formula.api as smf  # what is this library for?\n",
    "import plotly.express as px  # this is a ploting library\n",
    "\n",
    "#The following steps are creating a regression model where Y is the dependent variable and x is the independent variable\n",
    "model_data_specification = smf.ols(\"Y~x\", data=df) \n",
    "fitted_model = model_data_specification.fit() \n",
    "\n",
    "# what do each of the following provide?\n",
    "fitted_model.summary()  #Provides a summary of the regression results\n",
    "fitted_model.summary().tables[1]  #Displays table\n",
    "fitted_model.params  #Shows the estimated coefficients of the regression model\n",
    "fitted_model.params.values  #Returns the parameter values as a numpy array of values.\n",
    "fitted_model.rsquared  #Shows the R-squared value\n",
    "\n",
    "# what two things does this add onto the figure?\n",
    "df['Data'] = 'Data' # Adds a 'Data' label to all points in the DataFrame\n",
    "fig = px.scatter(df, x='x',  y='Y', color='Data', \n",
    "                 trendline='ols', title='Y vs. x')\n",
    "\n",
    "# This is essentially what above `trendline='ols'` does\n",
    "fig.add_scatter(x=df['x'], y=fitted_model.fittedvalues,\n",
    "                line=dict(color='blue'), name=\"trendline='ols'\")\n",
    "\n",
    "fig.show(renderer=\"png\") # USE `fig.show(renderer=\"png\")` FOR ALL GitHub and MarkUs SUBMISSIONS"
   ]
  },
  {
   "cell_type": "markdown",
   "id": "59b70bc0",
   "metadata": {},
   "source": [
    "### 3. Add the line from Question 1 on the figure of Question 2 and explain the difference between the nature of the two lines in your own words; *but, hint though: simulation of random sampling variation*<br>\n",
    "\n",
    "<details class=\"details-example\"><summary style=\"color:blue\"><u>Further Guidance</u></summary>\n",
    "\n",
    "> _This question is effectively asking you to explain what the combined code you produced for Questions 1 and 2 is trying to demonstrate overall. If you're working with a ChatBot (as expected), giving these two sets of code as context, and asking what the purpose of comparing these lines could be would be a way to get some help in formulating your answer_\n",
    "> \n",
    "> _The graphical visualization aspect of this question could be accomplished by appending the following code to the code provided in Question 2._\n",
    "> \n",
    "> ```python\n",
    "> # what does this add onto the figure in constrast to `trendline='ols'`?\n",
    "> x_range = np.array([df['x'].min(), df['x'].max()])\n",
    "> # beta0 and beta1 are assumed to be defined\n",
    "> y_line = beta0 + beta1 * x_range\n",
    "> fig.add_scatter(x=x_range, y=y_line, mode='lines',\n",
    ">                 name=str(beta0)+' + '+str(beta1)+' * x', \n",
    ">                 line=dict(dash='dot', color='orange'))\n",
    ">\n",
    "> fig.show() # USE `fig.show(renderer=\"png\")` FOR ALL GitHub and MarkUs SUBMISSIONS\n",
    "> ```\n",
    "> \n",
    "> _The right way to interactively \"see\" the answer to this question is to repeatedly create different dataset **simulations** using your theoretical model and the corresponding fitted models, and repeatedly visualize the data and the two lines over and over... this would be as easy as rerunning a single cell containing your simulation and visualization code..._\n",
    ">    \n",
    "> ---\n",
    "> \n",
    "> _Don't forget to ask for summaries of all your different ChatBot sessions and organize and paste these into your homework notebook (including link(s) to chat log histories if you're using ChatBot) But if you're using the STA130 custom NBLM ChatBot, you'll only be able to ask for summaries, of course!_  \n",
    "</details>"
   ]
  },
  {
   "cell_type": "markdown",
   "id": "2b68e71c",
   "metadata": {},
   "source": [
    "### 4. Explain how *fitted_model.fittedvalues* are derived on the basis of *fitted_model.summary().tables[1]* (or more specifically  *fitted_model.params* or *fitted_model.params.values*)<br>\n",
    "\n",
    "<details class=\"details-example\"><summary style=\"color:blue\"><u>Further Guidance</u></summary>\n",
    "\n",
    "> _The previous questions used code to explore the distinction between theoretical (true) $Y_i = \\beta_0 + \\beta_1 x_i + \\epsilon_i \\;[\\text{where } \\epsilon_i \\sim \\mathcal{N}(0, \\sigma)]\\;$ and fitted (estimated) $\\hat{y}_i = \\hat{\\beta}_0 + \\hat{\\beta}_1 x_i$ **Simple Linear Regression** models_\n",
    ">\n",
    "> _This question asks you to explicitly illustrate how the the latter \"in sample predictions\" of the fitted **Simple Linear Regression** model $\\hat{y}_i = \\hat{\\beta}_0 + \\hat{\\beta}_1 x_i$ are made (in contrast to the linear equation of the theoretical model)_\n",
    ">    \n",
    "> ---\n",
    "> \n",
    "> _Don't forget to ask for summaries of all your different ChatBot sessions and organize and paste these into your homework notebook (including link(s) to chat log histories if you're using ChatBot) But if you're using the STA130 custom NBLM ChatBot, you'll only be able to ask for summaries, of course!_  \n",
    "</details>"
   ]
  },
  {
   "cell_type": "markdown",
   "id": "9fc2a3d8",
   "metadata": {},
   "source": [
    "The fitted_model.fittedvalues are the estimated 𝑌 values based on the actual data and estimated parameters from the sample.\n",
    "\n",
    "Use fitted_model.params to find the intercept and slope and use the formula to calculate the fitted values. "
   ]
  },
  {
   "cell_type": "markdown",
   "id": "3e9fdfa9",
   "metadata": {},
   "source": [
    "### 5. Explain concisely in your own words what line is chosen for the fitted model based on observed data using the \"ordinary least squares\" method (as is done by *trendline='ols'* and *smf.ols(...).fit()*) and why it requires \"squares\"<br>\n",
    "    \n",
    "<details class=\"details-example\"><summary style=\"color:blue\"><u>Further Guidance</u></summary>\n",
    "\n",
    "> _This question addresses the use of **residuals** $\\text{e}_i = \\hat \\epsilon_i = Y_i - \\hat y_i$ (in contrast to the **error** terms $\\epsilon_i$ of the theoretical model), and particularly, asks for an explanation based on the following visualization_\n",
    ">\n",
    "> ```python \n",
    "> import scipy.stats as stats\n",
    "> import numpy as np\n",
    "> import pandas as pd\n",
    "> import statsmodels.formula.api as smf\n",
    "> import plotly.express as px\n",
    "> \n",
    "> n,x_min,x_range,beta0,beta1,sigma = 20,5,5,2,3,5\n",
    "> x = stats.uniform(x_min, x_range).rvs(size=n)\n",
    "> errors = stats.norm(loc=0, scale=sigma).rvs(size=n)\n",
    "> Y = beta0 + beta1 * x + errors\n",
    "> \n",
    "> df = pd.DataFrame({'x': x, 'y': Y})\n",
    "> model_data_specification = smf.ols(\"Y~x\", data=df) \n",
    "> fitted_model = model_data_specification.fit() \n",
    "> \n",
    "> df['Data'] = 'Data' # hack to add data to legend \n",
    "> fig = px.scatter(df, x='x',  y='Y', color='Data', \n",
    ">                  trendline='ols', title='Y vs. x')\n",
    "> \n",
    "> # This is what `trendline='ols'` is\n",
    "> fig.add_scatter(x=df['x'], y=fitted_model.fittedvalues,\n",
    ">                 line=dict(color='blue'), name=\"trendline='ols'\")\n",
    "> \n",
    "> x_range = np.array([df['x'].min(), df['x'].max()])\n",
    "> y_line = beta0 + beta1 * x_range\n",
    "> fig.add_scatter(x=x_range, y=y_line, mode='lines',\n",
    ">                 name=str(beta0)+' + '+str(beta1)+' * x', \n",
    ">                 line=dict(dash='dot', color='orange'))\n",
    "> \n",
    "> # Add vertical lines for residuals\n",
    "> for i in range(len(df)):\n",
    ">     fig.add_scatter(x=[df['x'][i], df['x'][i]],\n",
    ">                     y=[fitted_model.fittedvalues[i], df['Y'][i]],\n",
    ">                     mode='lines',\n",
    ">                     line=dict(color='red', dash='dash'),\n",
    ">                     showlegend=False)\n",
    ">     \n",
    "> # Add horizontal line at y-bar\n",
    "> fig.add_scatter(x=x_range, y=[df['Y'].mean()]*2, mode='lines',\n",
    ">                 line=dict(color='black', dash='dot'), name='y-bar')\n",
    "> \n",
    "> fig.show() # USE `fig.show(renderer=\"png\")` FOR ALL GitHub and MarkUs SUBMISSIONS\n",
    "> ```\n",
    ">\n",
    "> _**Question Scope Warning**: we are not looking for any explanation realted to the mathematical equations for the line chosen for the **Simple Linear Regression** model by the \"ordinary least squares\" method, which happen to be_\n",
    "> \n",
    "> _$$\\hat \\beta_1 = r_{xy}\\frac{s_y}{s_x} \\quad \\text{ and } \\quad  \\hat\\beta_0 = \\bar {y}-\\hat \\beta_1\\bar {x}$$_\n",
    ">\n",
    "> _where $r_{xy}$ is the **correlation** between $x$ and $Y$ and $s_x$ and $s_Y$ are the **sample standard deviations** of $x$ and $y$_\n",
    ">\n",
    "> ---\n",
    "> \n",
    "> ```python \n",
    "> # Use this if you need it    \n",
    "> # https://stackoverflow.com/questions/52771328/plotly-chart-not-showing-in-jupyter-notebook\n",
    "> import plotly.offline as pyo\n",
    "> # Set notebook mode to work in offline\n",
    "> pyo.init_notebook_mode()    \n",
    "> ```\n",
    ">\n",
    "> ---\n",
    "> \n",
    "> _Don't forget to ask for summaries of all your different ChatBot sessions and organize and paste these into your homework notebook (including link(s) to chat log histories if you're using ChatBot) But if you're using the STA130 custom NBLM ChatBot, you'll only be able to ask for summaries, of course!_  \n",
    "    \n",
    "</details>"
   ]
  },
  {
   "cell_type": "markdown",
   "id": "5f33a003",
   "metadata": {},
   "source": [
    "The OLS method will choose the line that gets teh lowest squared residuals. \"Squares\" are used because firstly it prevents positive and negative residuals from cancelling eachother out. Secondly, squaring gives more impact to larger deviations. "
   ]
  },
  {
   "cell_type": "markdown",
   "id": "dc5ba222",
   "metadata": {},
   "source": [
    "### 6. Explain why the first expression below can be interpreted as \"the proportion of variation in (outcome) Y explained by the model (i.e. _fitted_model.fittedvalues_)\"; and therefore, why _fitted_model.rsquared_ can be interpreted as a measure of the accuracy of the model; and, therefore what the two _np.corrcoef(...)[0,1]\\*\\*2_ expressions capture in the context of _Simple Linear Regression models_.\n",
    "\n",
    "1. `1-((Y-fitted_model.fittedvalues)**2).sum()/((Y-Y.mean())**2).sum()`\n",
    "2. `fitted_model.rsquared`\n",
    "3. `np.corrcoef(Y,fitted_model.fittedvalues)[0,1]**2`\n",
    "4. `np.corrcoef(Y,x)[0,1]**2`<br><br>\n",
    "\n",
    "<details class=\"details-example\"><summary style=\"color:blue\"><u>Further Guidance</u></summary>\n",
    "\n",
    "> _**R-squared** is the \"the proportion of variation in (outcome) $Y$ explained by the model ($\\hat y_i$)\" and is defined as_\n",
    ">\n",
    "> _$R^2 = 1 - \\frac{\\sum_{i=1}^n(Y_i-\\hat y)^2}{\\sum_{i=1}^n(Y_i-\\bar Y)^2}$_\n",
    ">\n",
    "> _The visuzation provided in the previous problem can be used to consider $(Y_i-\\bar Y)^2$ as the squared distance of the $Y_i$ to their sample average $\\bar Y$ as opposed to the squared **residuals** $(Y_i-\\hat y)^2$ which is the squared distance of the $Y_i$ to their fitted (predicted) values $Y_i$._\n",
    ">    \n",
    "> ---\n",
    "> \n",
    "> _Don't forget to ask for summaries of all your different ChatBot sessions and organize and paste these into your homework notebook (including link(s) to chat log histories if you're using ChatBot) But if you're using the STA130 custom NBLM ChatBot, you'll only be able to ask for summaries, of course!_  \n",
    "</details>"
   ]
  },
  {
   "cell_type": "markdown",
   "id": "5c00facb",
   "metadata": {},
   "source": [
    "𝑅2 calculates variance in Y by dividing the sum of squared residulas by the total sum of squares. \n",
    "\n",
    "fitted_model.rsquared gives an insight of how well the linear regression model fits the data, and lets to understand its predictive accuracy."
   ]
  },
  {
   "cell_type": "markdown",
   "id": "d821fd86",
   "metadata": {},
   "source": [
    "### 7. Indicate a couple of the assumptions of the *Simple Linear Regression* model specification that do not seem compatible with the example data below<br>\n",
    "\n",
    "<details class=\"details-example\"><summary style=\"color:blue\"><u>Further Guidance</u></summary>\n",
    "\n",
    "> _Hint: What even ARE the assumptions of the  **Simple Linear Regression** model, you ask? Have a look at the mathematical specification and see if what it seems to be assuming._\n",
    "> \n",
    "> _Don't forget to ask for summaries of all your different ChatBot sessions and organize and paste these into your homework notebook (including link(s) to chat log histories if you're using ChatBot) But if you're using the STA130 custom NBLM ChatBot, you'll only be able to ask for summaries, of course!_  \n",
    "</details>"
   ]
  },
  {
   "cell_type": "code",
   "execution_count": 8,
   "id": "ec7fda0d",
   "metadata": {},
   "outputs": [
    {
     "data": {
      "application/vnd.plotly.v1+json": {
       "config": {
        "plotlyServerURL": "https://plot.ly"
       },
       "data": [
        {
         "hovertemplate": "Amount of Fertilizer (kg) (x)=%{x}<br>Crop Yield (tons) (Y)=%{y}<extra></extra>",
         "legendgroup": "",
         "marker": {
          "color": "#636efa",
          "symbol": "circle"
         },
         "mode": "markers",
         "name": "",
         "orientation": "v",
         "showlegend": false,
         "type": "scatter",
         "x": [
          1,
          1.2,
          1.4,
          1.6,
          1.8,
          2,
          2.2,
          2.4,
          2.6,
          2.8,
          3,
          3.2,
          3.4,
          3.6,
          3.8,
          4,
          4.2,
          4.4,
          4.6,
          4.8,
          5,
          5.2,
          5.4,
          5.6,
          5.8,
          6,
          6.2,
          6.4,
          6.6,
          6.8,
          7,
          7.2,
          7.4,
          7.6,
          7.8,
          8,
          8.2,
          8.4,
          8.6,
          8.8,
          9,
          9.2,
          9.4,
          9.6
         ],
         "xaxis": "x",
         "y": [
          18.7,
          16.9,
          16.1,
          13.4,
          48.4,
          51.9,
          31.8,
          51.3,
          63.9,
          50.6,
          58.7,
          82.4,
          66.7,
          81.2,
          96.5,
          112.2,
          132.5,
          119.8,
          127.7,
          136.3,
          148.5,
          169.4,
          177.9,
          186.7,
          198.1,
          215.7,
          230.7,
          250.4,
          258,
          267.8,
          320.4,
          302,
          307.2,
          331.5,
          375.3,
          403.4,
          393.5,
          434.9,
          431.9,
          451.1,
          491.2,
          546.8,
          546.4,
          558.9
         ],
         "yaxis": "y"
        },
        {
         "hovertemplate": "<b>OLS trendline</b><br>Crop Yield (tons) (Y) = 62.3653 * Amount of Fertilizer (kg) (x) + -117.475<br>R<sup>2</sup>=0.940931<br><br>Amount of Fertilizer (kg) (x)=%{x}<br>Crop Yield (tons) (Y)=%{y} <b>(trend)</b><extra></extra>",
         "legendgroup": "",
         "marker": {
          "color": "#636efa",
          "symbol": "circle"
         },
         "mode": "lines",
         "name": "",
         "showlegend": false,
         "type": "scatter",
         "x": [
          1,
          1.2,
          1.4,
          1.6,
          1.8,
          2,
          2.2,
          2.4,
          2.6,
          2.8,
          3,
          3.2,
          3.4,
          3.6,
          3.8,
          4,
          4.2,
          4.4,
          4.6,
          4.8,
          5,
          5.2,
          5.4,
          5.6,
          5.8,
          6,
          6.2,
          6.4,
          6.6,
          6.8,
          7,
          7.2,
          7.4,
          7.6,
          7.8,
          8,
          8.2,
          8.4,
          8.6,
          8.8,
          9,
          9.2,
          9.4,
          9.6
         ],
         "xaxis": "x",
         "y": [
          -55.109393939394074,
          -42.63633544749837,
          -30.16327695560267,
          -17.690218463706955,
          -5.217159971811242,
          7.2558985200844575,
          19.72895701198017,
          32.20201550387587,
          44.67507399577157,
          57.14813248766727,
          69.621190979563,
          82.0942494714587,
          94.5673079633544,
          107.04036645525012,
          119.5134249471458,
          131.98648343904154,
          144.45954193093723,
          156.93260042283293,
          169.40565891472858,
          181.87871740662433,
          194.35177589852003,
          206.82483439041573,
          219.2978928823115,
          231.77095137420713,
          244.24400986610283,
          256.7170683579986,
          269.1901268498943,
          281.66318534179,
          294.1362438336857,
          306.6093023255814,
          319.0823608174771,
          331.55541930937284,
          344.02847780126854,
          356.5015362931642,
          368.97459478505994,
          381.44765327695563,
          393.9207117688513,
          406.3937702607471,
          418.8668287526427,
          431.3398872445385,
          443.8129457364342,
          456.2860042283298,
          468.7590627202256,
          481.2321212121213
         ],
         "yaxis": "y"
        },
        {
         "alignmentgroup": "True",
         "bingroup": "x",
         "hovertemplate": "Residuals=%{x}<br>count=%{y}<extra></extra>",
         "legendgroup": "",
         "marker": {
          "color": "#636efa",
          "pattern": {
           "shape": ""
          }
         },
         "name": "",
         "nbinsx": 10,
         "offsetgroup": "",
         "orientation": "v",
         "showlegend": false,
         "type": "histogram",
         "x": [
          73.80939393939391,
          59.536335447498224,
          46.26327695560253,
          31.09021846370681,
          53.61715997181111,
          44.64410147991541,
          12.071042988019702,
          19.097984496124027,
          19.2249260042283,
          -6.548132487667367,
          -10.921190979563093,
          0.30575052854121054,
          -27.86730796335449,
          -25.84036645525019,
          -23.013424947145893,
          -19.78648343904159,
          -11.95954193093732,
          -37.13260042283302,
          -41.70565891472866,
          -45.57871740662435,
          -45.85177589852012,
          -37.42483439041581,
          -41.39789288231151,
          -45.07095137420717,
          -46.14400986610292,
          -41.01706835799865,
          -38.49012684989435,
          -31.263185341790034,
          -36.136243833685626,
          -38.80930232558143,
          1.3176391825228393,
          -29.555419309372837,
          -36.82847780126855,
          -25.001536293164236,
          6.325405214940076,
          21.952346723044343,
          -0.42071176885121986,
          28.506229739252944,
          13.033171247357359,
          19.76011275546159,
          47.38705426356586,
          90.51399577167024,
          77.64093727977445,
          77.66787878787886
         ],
         "xaxis": "x2",
         "yaxis": "y2"
        }
       ],
       "layout": {
        "annotations": [
         {
          "font": {
           "size": 16
          },
          "showarrow": false,
          "text": "Crop Yield vs. Amount of Fertilizer",
          "x": 0.225,
          "xanchor": "center",
          "xref": "paper",
          "y": 1,
          "yanchor": "bottom",
          "yref": "paper"
         },
         {
          "font": {
           "size": 16
          },
          "showarrow": false,
          "text": "Histogram of Residuals",
          "x": 0.775,
          "xanchor": "center",
          "xref": "paper",
          "y": 1,
          "yanchor": "bottom",
          "yref": "paper"
         }
        ],
        "showlegend": false,
        "template": {
         "data": {
          "bar": [
           {
            "error_x": {
             "color": "#2a3f5f"
            },
            "error_y": {
             "color": "#2a3f5f"
            },
            "marker": {
             "line": {
              "color": "#E5ECF6",
              "width": 0.5
             },
             "pattern": {
              "fillmode": "overlay",
              "size": 10,
              "solidity": 0.2
             }
            },
            "type": "bar"
           }
          ],
          "barpolar": [
           {
            "marker": {
             "line": {
              "color": "#E5ECF6",
              "width": 0.5
             },
             "pattern": {
              "fillmode": "overlay",
              "size": 10,
              "solidity": 0.2
             }
            },
            "type": "barpolar"
           }
          ],
          "carpet": [
           {
            "aaxis": {
             "endlinecolor": "#2a3f5f",
             "gridcolor": "white",
             "linecolor": "white",
             "minorgridcolor": "white",
             "startlinecolor": "#2a3f5f"
            },
            "baxis": {
             "endlinecolor": "#2a3f5f",
             "gridcolor": "white",
             "linecolor": "white",
             "minorgridcolor": "white",
             "startlinecolor": "#2a3f5f"
            },
            "type": "carpet"
           }
          ],
          "choropleth": [
           {
            "colorbar": {
             "outlinewidth": 0,
             "ticks": ""
            },
            "type": "choropleth"
           }
          ],
          "contour": [
           {
            "colorbar": {
             "outlinewidth": 0,
             "ticks": ""
            },
            "colorscale": [
             [
              0,
              "#0d0887"
             ],
             [
              0.1111111111111111,
              "#46039f"
             ],
             [
              0.2222222222222222,
              "#7201a8"
             ],
             [
              0.3333333333333333,
              "#9c179e"
             ],
             [
              0.4444444444444444,
              "#bd3786"
             ],
             [
              0.5555555555555556,
              "#d8576b"
             ],
             [
              0.6666666666666666,
              "#ed7953"
             ],
             [
              0.7777777777777778,
              "#fb9f3a"
             ],
             [
              0.8888888888888888,
              "#fdca26"
             ],
             [
              1,
              "#f0f921"
             ]
            ],
            "type": "contour"
           }
          ],
          "contourcarpet": [
           {
            "colorbar": {
             "outlinewidth": 0,
             "ticks": ""
            },
            "type": "contourcarpet"
           }
          ],
          "heatmap": [
           {
            "colorbar": {
             "outlinewidth": 0,
             "ticks": ""
            },
            "colorscale": [
             [
              0,
              "#0d0887"
             ],
             [
              0.1111111111111111,
              "#46039f"
             ],
             [
              0.2222222222222222,
              "#7201a8"
             ],
             [
              0.3333333333333333,
              "#9c179e"
             ],
             [
              0.4444444444444444,
              "#bd3786"
             ],
             [
              0.5555555555555556,
              "#d8576b"
             ],
             [
              0.6666666666666666,
              "#ed7953"
             ],
             [
              0.7777777777777778,
              "#fb9f3a"
             ],
             [
              0.8888888888888888,
              "#fdca26"
             ],
             [
              1,
              "#f0f921"
             ]
            ],
            "type": "heatmap"
           }
          ],
          "heatmapgl": [
           {
            "colorbar": {
             "outlinewidth": 0,
             "ticks": ""
            },
            "colorscale": [
             [
              0,
              "#0d0887"
             ],
             [
              0.1111111111111111,
              "#46039f"
             ],
             [
              0.2222222222222222,
              "#7201a8"
             ],
             [
              0.3333333333333333,
              "#9c179e"
             ],
             [
              0.4444444444444444,
              "#bd3786"
             ],
             [
              0.5555555555555556,
              "#d8576b"
             ],
             [
              0.6666666666666666,
              "#ed7953"
             ],
             [
              0.7777777777777778,
              "#fb9f3a"
             ],
             [
              0.8888888888888888,
              "#fdca26"
             ],
             [
              1,
              "#f0f921"
             ]
            ],
            "type": "heatmapgl"
           }
          ],
          "histogram": [
           {
            "marker": {
             "pattern": {
              "fillmode": "overlay",
              "size": 10,
              "solidity": 0.2
             }
            },
            "type": "histogram"
           }
          ],
          "histogram2d": [
           {
            "colorbar": {
             "outlinewidth": 0,
             "ticks": ""
            },
            "colorscale": [
             [
              0,
              "#0d0887"
             ],
             [
              0.1111111111111111,
              "#46039f"
             ],
             [
              0.2222222222222222,
              "#7201a8"
             ],
             [
              0.3333333333333333,
              "#9c179e"
             ],
             [
              0.4444444444444444,
              "#bd3786"
             ],
             [
              0.5555555555555556,
              "#d8576b"
             ],
             [
              0.6666666666666666,
              "#ed7953"
             ],
             [
              0.7777777777777778,
              "#fb9f3a"
             ],
             [
              0.8888888888888888,
              "#fdca26"
             ],
             [
              1,
              "#f0f921"
             ]
            ],
            "type": "histogram2d"
           }
          ],
          "histogram2dcontour": [
           {
            "colorbar": {
             "outlinewidth": 0,
             "ticks": ""
            },
            "colorscale": [
             [
              0,
              "#0d0887"
             ],
             [
              0.1111111111111111,
              "#46039f"
             ],
             [
              0.2222222222222222,
              "#7201a8"
             ],
             [
              0.3333333333333333,
              "#9c179e"
             ],
             [
              0.4444444444444444,
              "#bd3786"
             ],
             [
              0.5555555555555556,
              "#d8576b"
             ],
             [
              0.6666666666666666,
              "#ed7953"
             ],
             [
              0.7777777777777778,
              "#fb9f3a"
             ],
             [
              0.8888888888888888,
              "#fdca26"
             ],
             [
              1,
              "#f0f921"
             ]
            ],
            "type": "histogram2dcontour"
           }
          ],
          "mesh3d": [
           {
            "colorbar": {
             "outlinewidth": 0,
             "ticks": ""
            },
            "type": "mesh3d"
           }
          ],
          "parcoords": [
           {
            "line": {
             "colorbar": {
              "outlinewidth": 0,
              "ticks": ""
             }
            },
            "type": "parcoords"
           }
          ],
          "pie": [
           {
            "automargin": true,
            "type": "pie"
           }
          ],
          "scatter": [
           {
            "fillpattern": {
             "fillmode": "overlay",
             "size": 10,
             "solidity": 0.2
            },
            "type": "scatter"
           }
          ],
          "scatter3d": [
           {
            "line": {
             "colorbar": {
              "outlinewidth": 0,
              "ticks": ""
             }
            },
            "marker": {
             "colorbar": {
              "outlinewidth": 0,
              "ticks": ""
             }
            },
            "type": "scatter3d"
           }
          ],
          "scattercarpet": [
           {
            "marker": {
             "colorbar": {
              "outlinewidth": 0,
              "ticks": ""
             }
            },
            "type": "scattercarpet"
           }
          ],
          "scattergeo": [
           {
            "marker": {
             "colorbar": {
              "outlinewidth": 0,
              "ticks": ""
             }
            },
            "type": "scattergeo"
           }
          ],
          "scattergl": [
           {
            "marker": {
             "colorbar": {
              "outlinewidth": 0,
              "ticks": ""
             }
            },
            "type": "scattergl"
           }
          ],
          "scattermapbox": [
           {
            "marker": {
             "colorbar": {
              "outlinewidth": 0,
              "ticks": ""
             }
            },
            "type": "scattermapbox"
           }
          ],
          "scatterpolar": [
           {
            "marker": {
             "colorbar": {
              "outlinewidth": 0,
              "ticks": ""
             }
            },
            "type": "scatterpolar"
           }
          ],
          "scatterpolargl": [
           {
            "marker": {
             "colorbar": {
              "outlinewidth": 0,
              "ticks": ""
             }
            },
            "type": "scatterpolargl"
           }
          ],
          "scatterternary": [
           {
            "marker": {
             "colorbar": {
              "outlinewidth": 0,
              "ticks": ""
             }
            },
            "type": "scatterternary"
           }
          ],
          "surface": [
           {
            "colorbar": {
             "outlinewidth": 0,
             "ticks": ""
            },
            "colorscale": [
             [
              0,
              "#0d0887"
             ],
             [
              0.1111111111111111,
              "#46039f"
             ],
             [
              0.2222222222222222,
              "#7201a8"
             ],
             [
              0.3333333333333333,
              "#9c179e"
             ],
             [
              0.4444444444444444,
              "#bd3786"
             ],
             [
              0.5555555555555556,
              "#d8576b"
             ],
             [
              0.6666666666666666,
              "#ed7953"
             ],
             [
              0.7777777777777778,
              "#fb9f3a"
             ],
             [
              0.8888888888888888,
              "#fdca26"
             ],
             [
              1,
              "#f0f921"
             ]
            ],
            "type": "surface"
           }
          ],
          "table": [
           {
            "cells": {
             "fill": {
              "color": "#EBF0F8"
             },
             "line": {
              "color": "white"
             }
            },
            "header": {
             "fill": {
              "color": "#C8D4E3"
             },
             "line": {
              "color": "white"
             }
            },
            "type": "table"
           }
          ]
         },
         "layout": {
          "annotationdefaults": {
           "arrowcolor": "#2a3f5f",
           "arrowhead": 0,
           "arrowwidth": 1
          },
          "autotypenumbers": "strict",
          "coloraxis": {
           "colorbar": {
            "outlinewidth": 0,
            "ticks": ""
           }
          },
          "colorscale": {
           "diverging": [
            [
             0,
             "#8e0152"
            ],
            [
             0.1,
             "#c51b7d"
            ],
            [
             0.2,
             "#de77ae"
            ],
            [
             0.3,
             "#f1b6da"
            ],
            [
             0.4,
             "#fde0ef"
            ],
            [
             0.5,
             "#f7f7f7"
            ],
            [
             0.6,
             "#e6f5d0"
            ],
            [
             0.7,
             "#b8e186"
            ],
            [
             0.8,
             "#7fbc41"
            ],
            [
             0.9,
             "#4d9221"
            ],
            [
             1,
             "#276419"
            ]
           ],
           "sequential": [
            [
             0,
             "#0d0887"
            ],
            [
             0.1111111111111111,
             "#46039f"
            ],
            [
             0.2222222222222222,
             "#7201a8"
            ],
            [
             0.3333333333333333,
             "#9c179e"
            ],
            [
             0.4444444444444444,
             "#bd3786"
            ],
            [
             0.5555555555555556,
             "#d8576b"
            ],
            [
             0.6666666666666666,
             "#ed7953"
            ],
            [
             0.7777777777777778,
             "#fb9f3a"
            ],
            [
             0.8888888888888888,
             "#fdca26"
            ],
            [
             1,
             "#f0f921"
            ]
           ],
           "sequentialminus": [
            [
             0,
             "#0d0887"
            ],
            [
             0.1111111111111111,
             "#46039f"
            ],
            [
             0.2222222222222222,
             "#7201a8"
            ],
            [
             0.3333333333333333,
             "#9c179e"
            ],
            [
             0.4444444444444444,
             "#bd3786"
            ],
            [
             0.5555555555555556,
             "#d8576b"
            ],
            [
             0.6666666666666666,
             "#ed7953"
            ],
            [
             0.7777777777777778,
             "#fb9f3a"
            ],
            [
             0.8888888888888888,
             "#fdca26"
            ],
            [
             1,
             "#f0f921"
            ]
           ]
          },
          "colorway": [
           "#636efa",
           "#EF553B",
           "#00cc96",
           "#ab63fa",
           "#FFA15A",
           "#19d3f3",
           "#FF6692",
           "#B6E880",
           "#FF97FF",
           "#FECB52"
          ],
          "font": {
           "color": "#2a3f5f"
          },
          "geo": {
           "bgcolor": "white",
           "lakecolor": "white",
           "landcolor": "#E5ECF6",
           "showlakes": true,
           "showland": true,
           "subunitcolor": "white"
          },
          "hoverlabel": {
           "align": "left"
          },
          "hovermode": "closest",
          "mapbox": {
           "style": "light"
          },
          "paper_bgcolor": "white",
          "plot_bgcolor": "#E5ECF6",
          "polar": {
           "angularaxis": {
            "gridcolor": "white",
            "linecolor": "white",
            "ticks": ""
           },
           "bgcolor": "#E5ECF6",
           "radialaxis": {
            "gridcolor": "white",
            "linecolor": "white",
            "ticks": ""
           }
          },
          "scene": {
           "xaxis": {
            "backgroundcolor": "#E5ECF6",
            "gridcolor": "white",
            "gridwidth": 2,
            "linecolor": "white",
            "showbackground": true,
            "ticks": "",
            "zerolinecolor": "white"
           },
           "yaxis": {
            "backgroundcolor": "#E5ECF6",
            "gridcolor": "white",
            "gridwidth": 2,
            "linecolor": "white",
            "showbackground": true,
            "ticks": "",
            "zerolinecolor": "white"
           },
           "zaxis": {
            "backgroundcolor": "#E5ECF6",
            "gridcolor": "white",
            "gridwidth": 2,
            "linecolor": "white",
            "showbackground": true,
            "ticks": "",
            "zerolinecolor": "white"
           }
          },
          "shapedefaults": {
           "line": {
            "color": "#2a3f5f"
           }
          },
          "ternary": {
           "aaxis": {
            "gridcolor": "white",
            "linecolor": "white",
            "ticks": ""
           },
           "baxis": {
            "gridcolor": "white",
            "linecolor": "white",
            "ticks": ""
           },
           "bgcolor": "#E5ECF6",
           "caxis": {
            "gridcolor": "white",
            "linecolor": "white",
            "ticks": ""
           }
          },
          "title": {
           "x": 0.05
          },
          "xaxis": {
           "automargin": true,
           "gridcolor": "white",
           "linecolor": "white",
           "ticks": "",
           "title": {
            "standoff": 15
           },
           "zerolinecolor": "white",
           "zerolinewidth": 2
          },
          "yaxis": {
           "automargin": true,
           "gridcolor": "white",
           "linecolor": "white",
           "ticks": "",
           "title": {
            "standoff": 15
           },
           "zerolinecolor": "white",
           "zerolinewidth": 2
          }
         }
        },
        "title": {
         "text": "Scatter Plot and Histogram of Residuals"
        },
        "xaxis": {
         "anchor": "y",
         "domain": [
          0,
          0.45
         ],
         "title": {
          "text": "Amount of Fertilizer (kg)"
         }
        },
        "xaxis2": {
         "anchor": "y2",
         "domain": [
          0.55,
          1
         ],
         "title": {
          "text": "Residuals"
         }
        },
        "yaxis": {
         "anchor": "x",
         "domain": [
          0,
          1
         ],
         "title": {
          "text": "Crop Yield (tons)"
         }
        },
        "yaxis2": {
         "anchor": "x2",
         "domain": [
          0,
          1
         ],
         "title": {
          "text": "Frequency"
         }
        }
       }
      },
      "text/html": [
       "<div>                            <div id=\"080231c0-0255-4037-a63c-be159682fb44\" class=\"plotly-graph-div\" style=\"height:525px; width:100%;\"></div>            <script type=\"text/javascript\">                require([\"plotly\"], function(Plotly) {                    window.PLOTLYENV=window.PLOTLYENV || {};                                    if (document.getElementById(\"080231c0-0255-4037-a63c-be159682fb44\")) {                    Plotly.newPlot(                        \"080231c0-0255-4037-a63c-be159682fb44\",                        [{\"hovertemplate\":\"Amount of Fertilizer (kg) (x)=%{x}\\u003cbr\\u003eCrop Yield (tons) (Y)=%{y}\\u003cextra\\u003e\\u003c\\u002fextra\\u003e\",\"legendgroup\":\"\",\"marker\":{\"color\":\"#636efa\",\"symbol\":\"circle\"},\"mode\":\"markers\",\"name\":\"\",\"orientation\":\"v\",\"showlegend\":false,\"x\":[1.0,1.2,1.4,1.6,1.8,2.0,2.2,2.4,2.6,2.8,3.0,3.2,3.4,3.6,3.8,4.0,4.2,4.4,4.6,4.8,5.0,5.2,5.4,5.6,5.8,6.0,6.2,6.4,6.6,6.8,7.0,7.2,7.4,7.6,7.8,8.0,8.2,8.4,8.6,8.8,9.0,9.2,9.4,9.6],\"xaxis\":\"x\",\"y\":[18.7,16.9,16.1,13.4,48.4,51.9,31.8,51.3,63.9,50.6,58.7,82.4,66.7,81.2,96.5,112.2,132.5,119.8,127.7,136.3,148.5,169.4,177.9,186.7,198.1,215.7,230.7,250.4,258.0,267.8,320.4,302.0,307.2,331.5,375.3,403.4,393.5,434.9,431.9,451.1,491.2,546.8,546.4,558.9],\"yaxis\":\"y\",\"type\":\"scatter\"},{\"hovertemplate\":\"\\u003cb\\u003eOLS trendline\\u003c\\u002fb\\u003e\\u003cbr\\u003eCrop Yield (tons) (Y) = 62.3653 * Amount of Fertilizer (kg) (x) + -117.475\\u003cbr\\u003eR\\u003csup\\u003e2\\u003c\\u002fsup\\u003e=0.940931\\u003cbr\\u003e\\u003cbr\\u003eAmount of Fertilizer (kg) (x)=%{x}\\u003cbr\\u003eCrop Yield (tons) (Y)=%{y} \\u003cb\\u003e(trend)\\u003c\\u002fb\\u003e\\u003cextra\\u003e\\u003c\\u002fextra\\u003e\",\"legendgroup\":\"\",\"marker\":{\"color\":\"#636efa\",\"symbol\":\"circle\"},\"mode\":\"lines\",\"name\":\"\",\"showlegend\":false,\"x\":[1.0,1.2,1.4,1.6,1.8,2.0,2.2,2.4,2.6,2.8,3.0,3.2,3.4,3.6,3.8,4.0,4.2,4.4,4.6,4.8,5.0,5.2,5.4,5.6,5.8,6.0,6.2,6.4,6.6,6.8,7.0,7.2,7.4,7.6,7.8,8.0,8.2,8.4,8.6,8.8,9.0,9.2,9.4,9.6],\"xaxis\":\"x\",\"y\":[-55.109393939394074,-42.63633544749837,-30.16327695560267,-17.690218463706955,-5.217159971811242,7.2558985200844575,19.72895701198017,32.20201550387587,44.67507399577157,57.14813248766727,69.621190979563,82.0942494714587,94.5673079633544,107.04036645525012,119.5134249471458,131.98648343904154,144.45954193093723,156.93260042283293,169.40565891472858,181.87871740662433,194.35177589852003,206.82483439041573,219.2978928823115,231.77095137420713,244.24400986610283,256.7170683579986,269.1901268498943,281.66318534179,294.1362438336857,306.6093023255814,319.0823608174771,331.55541930937284,344.02847780126854,356.5015362931642,368.97459478505994,381.44765327695563,393.9207117688513,406.3937702607471,418.8668287526427,431.3398872445385,443.8129457364342,456.2860042283298,468.7590627202256,481.2321212121213],\"yaxis\":\"y\",\"type\":\"scatter\"},{\"alignmentgroup\":\"True\",\"bingroup\":\"x\",\"hovertemplate\":\"Residuals=%{x}\\u003cbr\\u003ecount=%{y}\\u003cextra\\u003e\\u003c\\u002fextra\\u003e\",\"legendgroup\":\"\",\"marker\":{\"color\":\"#636efa\",\"pattern\":{\"shape\":\"\"}},\"name\":\"\",\"nbinsx\":10,\"offsetgroup\":\"\",\"orientation\":\"v\",\"showlegend\":false,\"x\":[73.80939393939391,59.536335447498224,46.26327695560253,31.09021846370681,53.61715997181111,44.64410147991541,12.071042988019702,19.097984496124027,19.2249260042283,-6.548132487667367,-10.921190979563093,0.30575052854121054,-27.86730796335449,-25.84036645525019,-23.013424947145893,-19.78648343904159,-11.95954193093732,-37.13260042283302,-41.70565891472866,-45.57871740662435,-45.85177589852012,-37.42483439041581,-41.39789288231151,-45.07095137420717,-46.14400986610292,-41.01706835799865,-38.49012684989435,-31.263185341790034,-36.136243833685626,-38.80930232558143,1.3176391825228393,-29.555419309372837,-36.82847780126855,-25.001536293164236,6.325405214940076,21.952346723044343,-0.42071176885121986,28.506229739252944,13.033171247357359,19.76011275546159,47.38705426356586,90.51399577167024,77.64093727977445,77.66787878787886],\"xaxis\":\"x2\",\"yaxis\":\"y2\",\"type\":\"histogram\"}],                        {\"template\":{\"data\":{\"histogram2dcontour\":[{\"type\":\"histogram2dcontour\",\"colorbar\":{\"outlinewidth\":0,\"ticks\":\"\"},\"colorscale\":[[0.0,\"#0d0887\"],[0.1111111111111111,\"#46039f\"],[0.2222222222222222,\"#7201a8\"],[0.3333333333333333,\"#9c179e\"],[0.4444444444444444,\"#bd3786\"],[0.5555555555555556,\"#d8576b\"],[0.6666666666666666,\"#ed7953\"],[0.7777777777777778,\"#fb9f3a\"],[0.8888888888888888,\"#fdca26\"],[1.0,\"#f0f921\"]]}],\"choropleth\":[{\"type\":\"choropleth\",\"colorbar\":{\"outlinewidth\":0,\"ticks\":\"\"}}],\"histogram2d\":[{\"type\":\"histogram2d\",\"colorbar\":{\"outlinewidth\":0,\"ticks\":\"\"},\"colorscale\":[[0.0,\"#0d0887\"],[0.1111111111111111,\"#46039f\"],[0.2222222222222222,\"#7201a8\"],[0.3333333333333333,\"#9c179e\"],[0.4444444444444444,\"#bd3786\"],[0.5555555555555556,\"#d8576b\"],[0.6666666666666666,\"#ed7953\"],[0.7777777777777778,\"#fb9f3a\"],[0.8888888888888888,\"#fdca26\"],[1.0,\"#f0f921\"]]}],\"heatmap\":[{\"type\":\"heatmap\",\"colorbar\":{\"outlinewidth\":0,\"ticks\":\"\"},\"colorscale\":[[0.0,\"#0d0887\"],[0.1111111111111111,\"#46039f\"],[0.2222222222222222,\"#7201a8\"],[0.3333333333333333,\"#9c179e\"],[0.4444444444444444,\"#bd3786\"],[0.5555555555555556,\"#d8576b\"],[0.6666666666666666,\"#ed7953\"],[0.7777777777777778,\"#fb9f3a\"],[0.8888888888888888,\"#fdca26\"],[1.0,\"#f0f921\"]]}],\"heatmapgl\":[{\"type\":\"heatmapgl\",\"colorbar\":{\"outlinewidth\":0,\"ticks\":\"\"},\"colorscale\":[[0.0,\"#0d0887\"],[0.1111111111111111,\"#46039f\"],[0.2222222222222222,\"#7201a8\"],[0.3333333333333333,\"#9c179e\"],[0.4444444444444444,\"#bd3786\"],[0.5555555555555556,\"#d8576b\"],[0.6666666666666666,\"#ed7953\"],[0.7777777777777778,\"#fb9f3a\"],[0.8888888888888888,\"#fdca26\"],[1.0,\"#f0f921\"]]}],\"contourcarpet\":[{\"type\":\"contourcarpet\",\"colorbar\":{\"outlinewidth\":0,\"ticks\":\"\"}}],\"contour\":[{\"type\":\"contour\",\"colorbar\":{\"outlinewidth\":0,\"ticks\":\"\"},\"colorscale\":[[0.0,\"#0d0887\"],[0.1111111111111111,\"#46039f\"],[0.2222222222222222,\"#7201a8\"],[0.3333333333333333,\"#9c179e\"],[0.4444444444444444,\"#bd3786\"],[0.5555555555555556,\"#d8576b\"],[0.6666666666666666,\"#ed7953\"],[0.7777777777777778,\"#fb9f3a\"],[0.8888888888888888,\"#fdca26\"],[1.0,\"#f0f921\"]]}],\"surface\":[{\"type\":\"surface\",\"colorbar\":{\"outlinewidth\":0,\"ticks\":\"\"},\"colorscale\":[[0.0,\"#0d0887\"],[0.1111111111111111,\"#46039f\"],[0.2222222222222222,\"#7201a8\"],[0.3333333333333333,\"#9c179e\"],[0.4444444444444444,\"#bd3786\"],[0.5555555555555556,\"#d8576b\"],[0.6666666666666666,\"#ed7953\"],[0.7777777777777778,\"#fb9f3a\"],[0.8888888888888888,\"#fdca26\"],[1.0,\"#f0f921\"]]}],\"mesh3d\":[{\"type\":\"mesh3d\",\"colorbar\":{\"outlinewidth\":0,\"ticks\":\"\"}}],\"scatter\":[{\"fillpattern\":{\"fillmode\":\"overlay\",\"size\":10,\"solidity\":0.2},\"type\":\"scatter\"}],\"parcoords\":[{\"type\":\"parcoords\",\"line\":{\"colorbar\":{\"outlinewidth\":0,\"ticks\":\"\"}}}],\"scatterpolargl\":[{\"type\":\"scatterpolargl\",\"marker\":{\"colorbar\":{\"outlinewidth\":0,\"ticks\":\"\"}}}],\"bar\":[{\"error_x\":{\"color\":\"#2a3f5f\"},\"error_y\":{\"color\":\"#2a3f5f\"},\"marker\":{\"line\":{\"color\":\"#E5ECF6\",\"width\":0.5},\"pattern\":{\"fillmode\":\"overlay\",\"size\":10,\"solidity\":0.2}},\"type\":\"bar\"}],\"scattergeo\":[{\"type\":\"scattergeo\",\"marker\":{\"colorbar\":{\"outlinewidth\":0,\"ticks\":\"\"}}}],\"scatterpolar\":[{\"type\":\"scatterpolar\",\"marker\":{\"colorbar\":{\"outlinewidth\":0,\"ticks\":\"\"}}}],\"histogram\":[{\"marker\":{\"pattern\":{\"fillmode\":\"overlay\",\"size\":10,\"solidity\":0.2}},\"type\":\"histogram\"}],\"scattergl\":[{\"type\":\"scattergl\",\"marker\":{\"colorbar\":{\"outlinewidth\":0,\"ticks\":\"\"}}}],\"scatter3d\":[{\"type\":\"scatter3d\",\"line\":{\"colorbar\":{\"outlinewidth\":0,\"ticks\":\"\"}},\"marker\":{\"colorbar\":{\"outlinewidth\":0,\"ticks\":\"\"}}}],\"scattermapbox\":[{\"type\":\"scattermapbox\",\"marker\":{\"colorbar\":{\"outlinewidth\":0,\"ticks\":\"\"}}}],\"scatterternary\":[{\"type\":\"scatterternary\",\"marker\":{\"colorbar\":{\"outlinewidth\":0,\"ticks\":\"\"}}}],\"scattercarpet\":[{\"type\":\"scattercarpet\",\"marker\":{\"colorbar\":{\"outlinewidth\":0,\"ticks\":\"\"}}}],\"carpet\":[{\"aaxis\":{\"endlinecolor\":\"#2a3f5f\",\"gridcolor\":\"white\",\"linecolor\":\"white\",\"minorgridcolor\":\"white\",\"startlinecolor\":\"#2a3f5f\"},\"baxis\":{\"endlinecolor\":\"#2a3f5f\",\"gridcolor\":\"white\",\"linecolor\":\"white\",\"minorgridcolor\":\"white\",\"startlinecolor\":\"#2a3f5f\"},\"type\":\"carpet\"}],\"table\":[{\"cells\":{\"fill\":{\"color\":\"#EBF0F8\"},\"line\":{\"color\":\"white\"}},\"header\":{\"fill\":{\"color\":\"#C8D4E3\"},\"line\":{\"color\":\"white\"}},\"type\":\"table\"}],\"barpolar\":[{\"marker\":{\"line\":{\"color\":\"#E5ECF6\",\"width\":0.5},\"pattern\":{\"fillmode\":\"overlay\",\"size\":10,\"solidity\":0.2}},\"type\":\"barpolar\"}],\"pie\":[{\"automargin\":true,\"type\":\"pie\"}]},\"layout\":{\"autotypenumbers\":\"strict\",\"colorway\":[\"#636efa\",\"#EF553B\",\"#00cc96\",\"#ab63fa\",\"#FFA15A\",\"#19d3f3\",\"#FF6692\",\"#B6E880\",\"#FF97FF\",\"#FECB52\"],\"font\":{\"color\":\"#2a3f5f\"},\"hovermode\":\"closest\",\"hoverlabel\":{\"align\":\"left\"},\"paper_bgcolor\":\"white\",\"plot_bgcolor\":\"#E5ECF6\",\"polar\":{\"bgcolor\":\"#E5ECF6\",\"angularaxis\":{\"gridcolor\":\"white\",\"linecolor\":\"white\",\"ticks\":\"\"},\"radialaxis\":{\"gridcolor\":\"white\",\"linecolor\":\"white\",\"ticks\":\"\"}},\"ternary\":{\"bgcolor\":\"#E5ECF6\",\"aaxis\":{\"gridcolor\":\"white\",\"linecolor\":\"white\",\"ticks\":\"\"},\"baxis\":{\"gridcolor\":\"white\",\"linecolor\":\"white\",\"ticks\":\"\"},\"caxis\":{\"gridcolor\":\"white\",\"linecolor\":\"white\",\"ticks\":\"\"}},\"coloraxis\":{\"colorbar\":{\"outlinewidth\":0,\"ticks\":\"\"}},\"colorscale\":{\"sequential\":[[0.0,\"#0d0887\"],[0.1111111111111111,\"#46039f\"],[0.2222222222222222,\"#7201a8\"],[0.3333333333333333,\"#9c179e\"],[0.4444444444444444,\"#bd3786\"],[0.5555555555555556,\"#d8576b\"],[0.6666666666666666,\"#ed7953\"],[0.7777777777777778,\"#fb9f3a\"],[0.8888888888888888,\"#fdca26\"],[1.0,\"#f0f921\"]],\"sequentialminus\":[[0.0,\"#0d0887\"],[0.1111111111111111,\"#46039f\"],[0.2222222222222222,\"#7201a8\"],[0.3333333333333333,\"#9c179e\"],[0.4444444444444444,\"#bd3786\"],[0.5555555555555556,\"#d8576b\"],[0.6666666666666666,\"#ed7953\"],[0.7777777777777778,\"#fb9f3a\"],[0.8888888888888888,\"#fdca26\"],[1.0,\"#f0f921\"]],\"diverging\":[[0,\"#8e0152\"],[0.1,\"#c51b7d\"],[0.2,\"#de77ae\"],[0.3,\"#f1b6da\"],[0.4,\"#fde0ef\"],[0.5,\"#f7f7f7\"],[0.6,\"#e6f5d0\"],[0.7,\"#b8e186\"],[0.8,\"#7fbc41\"],[0.9,\"#4d9221\"],[1,\"#276419\"]]},\"xaxis\":{\"gridcolor\":\"white\",\"linecolor\":\"white\",\"ticks\":\"\",\"title\":{\"standoff\":15},\"zerolinecolor\":\"white\",\"automargin\":true,\"zerolinewidth\":2},\"yaxis\":{\"gridcolor\":\"white\",\"linecolor\":\"white\",\"ticks\":\"\",\"title\":{\"standoff\":15},\"zerolinecolor\":\"white\",\"automargin\":true,\"zerolinewidth\":2},\"scene\":{\"xaxis\":{\"backgroundcolor\":\"#E5ECF6\",\"gridcolor\":\"white\",\"linecolor\":\"white\",\"showbackground\":true,\"ticks\":\"\",\"zerolinecolor\":\"white\",\"gridwidth\":2},\"yaxis\":{\"backgroundcolor\":\"#E5ECF6\",\"gridcolor\":\"white\",\"linecolor\":\"white\",\"showbackground\":true,\"ticks\":\"\",\"zerolinecolor\":\"white\",\"gridwidth\":2},\"zaxis\":{\"backgroundcolor\":\"#E5ECF6\",\"gridcolor\":\"white\",\"linecolor\":\"white\",\"showbackground\":true,\"ticks\":\"\",\"zerolinecolor\":\"white\",\"gridwidth\":2}},\"shapedefaults\":{\"line\":{\"color\":\"#2a3f5f\"}},\"annotationdefaults\":{\"arrowcolor\":\"#2a3f5f\",\"arrowhead\":0,\"arrowwidth\":1},\"geo\":{\"bgcolor\":\"white\",\"landcolor\":\"#E5ECF6\",\"subunitcolor\":\"white\",\"showland\":true,\"showlakes\":true,\"lakecolor\":\"white\"},\"title\":{\"x\":0.05},\"mapbox\":{\"style\":\"light\"}}},\"xaxis\":{\"anchor\":\"y\",\"domain\":[0.0,0.45],\"title\":{\"text\":\"Amount of Fertilizer (kg)\"}},\"yaxis\":{\"anchor\":\"x\",\"domain\":[0.0,1.0],\"title\":{\"text\":\"Crop Yield (tons)\"}},\"xaxis2\":{\"anchor\":\"y2\",\"domain\":[0.55,1.0],\"title\":{\"text\":\"Residuals\"}},\"yaxis2\":{\"anchor\":\"x2\",\"domain\":[0.0,1.0],\"title\":{\"text\":\"Frequency\"}},\"annotations\":[{\"font\":{\"size\":16},\"showarrow\":false,\"text\":\"Crop Yield vs. Amount of Fertilizer\",\"x\":0.225,\"xanchor\":\"center\",\"xref\":\"paper\",\"y\":1.0,\"yanchor\":\"bottom\",\"yref\":\"paper\"},{\"font\":{\"size\":16},\"showarrow\":false,\"text\":\"Histogram of Residuals\",\"x\":0.775,\"xanchor\":\"center\",\"xref\":\"paper\",\"y\":1.0,\"yanchor\":\"bottom\",\"yref\":\"paper\"}],\"title\":{\"text\":\"Scatter Plot and Histogram of Residuals\"},\"showlegend\":false},                        {\"responsive\": true}                    ).then(function(){\n",
       "                            \n",
       "var gd = document.getElementById('080231c0-0255-4037-a63c-be159682fb44');\n",
       "var x = new MutationObserver(function (mutations, observer) {{\n",
       "        var display = window.getComputedStyle(gd).display;\n",
       "        if (!display || display === 'none') {{\n",
       "            console.log([gd, 'removed!']);\n",
       "            Plotly.purge(gd);\n",
       "            observer.disconnect();\n",
       "        }}\n",
       "}});\n",
       "\n",
       "// Listen for the removal of the full notebook cells\n",
       "var notebookContainer = gd.closest('#notebook-container');\n",
       "if (notebookContainer) {{\n",
       "    x.observe(notebookContainer, {childList: true});\n",
       "}}\n",
       "\n",
       "// Listen for the clearing of the current output cell\n",
       "var outputEl = gd.closest('.output');\n",
       "if (outputEl) {{\n",
       "    x.observe(outputEl, {childList: true});\n",
       "}}\n",
       "\n",
       "                        })                };                });            </script>        </div>"
      ]
     },
     "metadata": {},
     "output_type": "display_data"
    }
   ],
   "source": [
    "import pandas as pd\n",
    "from scipy import stats\n",
    "import plotly.express as px\n",
    "from plotly.subplots import make_subplots\n",
    "\n",
    "# This data shows the relationship between the amount of fertilizer used and crop yield\n",
    "data = {'Amount of Fertilizer (kg) (x)': [1, 1.2, 1.4, 1.6, 1.8, 2, 2.2, 2.4, 2.6, \n",
    "                                          2.8, 3, 3.2, 3.4, 3.6, 3.8, 4, 4.2, 4.4, \n",
    "                                          4.6, 4.8, 5, 5.2, 5.4, 5.6, 5.8, 6, 6.2, \n",
    "                                          6.4, 6.6, 6.8, 7, 7.2, 7.4, 7.6, 7.8, 8, \n",
    "                                          8.2, 8.4, 8.6, 8.8,9, 9.2, 9.4, 9.6],\n",
    "        'Crop Yield (tons) (Y)': [18.7, 16.9, 16.1, 13.4, 48.4, 51.9, 31.8, 51.3, \n",
    "                                  63.9, 50.6, 58.7, 82.4, 66.7, 81.2, 96.5, 112.2, \n",
    "                                  132.5, 119.8, 127.7, 136.3, 148.5, 169.4, 177.9, \n",
    "                                  186.7, 198.1, 215.7, 230.7, 250.4, 258. , 267.8, \n",
    "                                  320.4, 302. , 307.2, 331.5, 375.3, 403.4, 393.5,\n",
    "                                  434.9, 431.9, 451.1, 491.2, 546.8, 546.4, 558.9]}\n",
    "df = pd.DataFrame(data)\n",
    "fig1 = px.scatter(df, x='Amount of Fertilizer (kg) (x)', y='Crop Yield (tons) (Y)',\n",
    "                  trendline='ols', title='Crop Yield vs. Amount of Fertilizer')\n",
    "\n",
    "# Perform linear regression using scipy.stats\n",
    "slope, intercept, r_value, p_value, std_err = \\\n",
    "    stats.linregress(df['Amount of Fertilizer (kg) (x)'], df['Crop Yield (tons) (Y)'])\n",
    "# Predict the values and calculate residuals\n",
    "y_hat = intercept + slope * df['Amount of Fertilizer (kg) (x)']\n",
    "residuals = df['Crop Yield (tons) (Y)'] - y_hat\n",
    "df['Residuals'] = residuals\n",
    "fig2 = px.histogram(df, x='Residuals', nbins=10, title='Histogram of Residuals',\n",
    "                    labels={'Residuals': 'Residuals'})\n",
    "\n",
    "fig = make_subplots(rows=1, cols=2,\n",
    "                    subplot_titles=('Crop Yield vs. Amount of Fertilizer', \n",
    "                                    'Histogram of Residuals'))\n",
    "for trace in fig1.data:\n",
    "    fig.add_trace(trace, row=1, col=1)\n",
    "for trace in fig2.data:\n",
    "    fig.add_trace(trace, row=1, col=2)\n",
    "fig.update_layout(title='Scatter Plot and Histogram of Residuals',\n",
    "    xaxis_title='Amount of Fertilizer (kg)', yaxis_title='Crop Yield (tons)',\n",
    "    xaxis2_title='Residuals', yaxis2_title='Frequency', showlegend=False)\n",
    "\n",
    "fig.show() # USE `fig.show(renderer=\"png\")` FOR ALL GitHub and MarkUs SUBMISSIONS"
   ]
  },
  {
   "cell_type": "markdown",
   "id": "c0ed5294",
   "metadata": {},
   "source": [
    "One simple linear regression assumption is that the relationship between the dependent and indepentent variable are linear. If you look at the scatter plot the relationship looks more exponential then linear. This means linear regression is not a appropriate moddel to capture the relationship between both variables. \n",
    "\n",
    "Another simple linear regression assumption is homoscedasticity. It assumes that the variance of residuals is constant accross all levels of x. In this case, when you look at the histogram you should see a normal distribution but in this case you do not. It does not follow the assumption. \n"
   ]
  },
  {
   "cell_type": "markdown",
   "id": "a977ba64",
   "metadata": {},
   "source": [
    "## \"Week of Nov04\" HW [due prior to the Nov08 TUT]\n",
    "\n",
    "_**In place of the \"Data Analysis Assignment\" format we introduced for the previous weeks' HW, the remaining questions will be a collection of exercises based around the following data**_\n",
    "\n",
    "> The details of the \"LOWESS Trendline\" shown below are not a part of the intended scope of the activities here, but it is included since it is suggestive of the questions we will consider and address here\n"
   ]
  },
  {
   "cell_type": "code",
   "execution_count": 9,
   "id": "a29449cd",
   "metadata": {},
   "outputs": [
    {
     "data": {
      "application/vnd.plotly.v1+json": {
       "config": {
        "plotlyServerURL": "https://plot.ly"
       },
       "data": [
        {
         "hovertemplate": "waiting=%{x}<br>duration=%{y}<extra></extra>",
         "legendgroup": "",
         "marker": {
          "color": "#636efa",
          "symbol": "circle"
         },
         "mode": "markers",
         "name": "",
         "orientation": "v",
         "showlegend": false,
         "type": "scatter",
         "x": [
          79,
          54,
          74,
          62,
          85,
          55,
          88,
          85,
          51,
          85,
          54,
          84,
          78,
          47,
          83,
          52,
          62,
          84,
          52,
          79,
          51,
          47,
          78,
          69,
          74,
          83,
          55,
          76,
          78,
          79,
          73,
          77,
          66,
          80,
          74,
          52,
          48,
          80,
          59,
          90,
          80,
          58,
          84,
          58,
          73,
          83,
          64,
          53,
          82,
          59,
          75,
          90,
          54,
          80,
          54,
          83,
          71,
          64,
          77,
          81,
          59,
          84,
          48,
          82,
          60,
          92,
          78,
          78,
          65,
          73,
          82,
          56,
          79,
          71,
          62,
          76,
          60,
          78,
          76,
          83,
          75,
          82,
          70,
          65,
          73,
          88,
          76,
          80,
          48,
          86,
          60,
          90,
          50,
          78,
          63,
          72,
          84,
          75,
          51,
          82,
          62,
          88,
          49,
          83,
          81,
          47,
          84,
          52,
          86,
          81,
          75,
          59,
          89,
          79,
          59,
          81,
          50,
          85,
          59,
          87,
          53,
          69,
          77,
          56,
          88,
          81,
          45,
          82,
          55,
          90,
          45,
          83,
          56,
          89,
          46,
          82,
          51,
          86,
          53,
          79,
          81,
          60,
          82,
          77,
          76,
          59,
          80,
          49,
          96,
          53,
          77,
          77,
          65,
          81,
          71,
          70,
          81,
          93,
          53,
          89,
          45,
          86,
          58,
          78,
          66,
          76,
          63,
          88,
          52,
          93,
          49,
          57,
          77,
          68,
          81,
          81,
          73,
          50,
          85,
          74,
          55,
          77,
          83,
          83,
          51,
          78,
          84,
          46,
          83,
          55,
          81,
          57,
          76,
          84,
          77,
          81,
          87,
          77,
          51,
          78,
          60,
          82,
          91,
          53,
          78,
          46,
          77,
          84,
          49,
          83,
          71,
          80,
          49,
          75,
          64,
          76,
          53,
          94,
          55,
          76,
          50,
          82,
          54,
          75,
          78,
          79,
          78,
          78,
          70,
          79,
          70,
          54,
          86,
          50,
          90,
          54,
          54,
          77,
          79,
          64,
          75,
          47,
          86,
          63,
          85,
          82,
          57,
          82,
          67,
          74,
          54,
          83,
          73,
          73,
          88,
          80,
          71,
          83,
          56,
          79,
          78,
          84,
          58,
          83,
          43,
          60,
          75,
          81,
          46,
          90,
          46,
          74
         ],
         "xaxis": "x",
         "y": [
          3.6,
          1.8,
          3.333,
          2.283,
          4.533,
          2.883,
          4.7,
          3.6,
          1.95,
          4.35,
          1.833,
          3.917,
          4.2,
          1.75,
          4.7,
          2.167,
          1.75,
          4.8,
          1.6,
          4.25,
          1.8,
          1.75,
          3.45,
          3.067,
          4.533,
          3.6,
          1.967,
          4.083,
          3.85,
          4.433,
          4.3,
          4.467,
          3.367,
          4.033,
          3.833,
          2.017,
          1.867,
          4.833,
          1.833,
          4.783,
          4.35,
          1.883,
          4.567,
          1.75,
          4.533,
          3.317,
          3.833,
          2.1,
          4.633,
          2,
          4.8,
          4.716,
          1.833,
          4.833,
          1.733,
          4.883,
          3.717,
          1.6669999999999998,
          4.567,
          4.317,
          2.233,
          4.5,
          1.75,
          4.8,
          1.817,
          4.4,
          4.167,
          4.7,
          2.067,
          4.7,
          4.033,
          1.967,
          4.5,
          4,
          1.983,
          5.067,
          2.017,
          4.567,
          3.883,
          3.6,
          4.133,
          4.333,
          4.1,
          2.633,
          4.067,
          4.933,
          3.95,
          4.517,
          2.167,
          4,
          2.2,
          4.333,
          1.867,
          4.817,
          1.833,
          4.3,
          4.667,
          3.75,
          1.867,
          4.9,
          2.483,
          4.367,
          2.1,
          4.5,
          4.05,
          1.867,
          4.7,
          1.783,
          4.85,
          3.683,
          4.7330000000000005,
          2.3,
          4.9,
          4.417,
          1.7,
          4.633,
          2.317,
          4.6,
          1.817,
          4.417,
          2.617,
          4.067,
          4.25,
          1.967,
          4.6,
          3.767,
          1.917,
          4.5,
          2.267,
          4.65,
          1.867,
          4.167,
          2.8,
          4.333,
          1.833,
          4.383,
          1.883,
          4.933,
          2.033,
          3.733,
          4.2330000000000005,
          2.233,
          4.533,
          4.817,
          4.333,
          1.983,
          4.633,
          2.017,
          5.1,
          1.8,
          5.033,
          4,
          2.4,
          4.6,
          3.567,
          4,
          4.5,
          4.083,
          1.8,
          3.967,
          2.2,
          4.15,
          2,
          3.833,
          3.5,
          4.583,
          2.367,
          5,
          1.933,
          4.617,
          1.917,
          2.083,
          4.583,
          3.333,
          4.167,
          4.333,
          4.5,
          2.417,
          4,
          4.167,
          1.883,
          4.583,
          4.25,
          3.767,
          2.033,
          4.433,
          4.083,
          1.833,
          4.417,
          2.1830000000000003,
          4.8,
          1.833,
          4.8,
          4.1,
          3.966,
          4.2330000000000005,
          3.5,
          4.3660000000000005,
          2.25,
          4.667,
          2.1,
          4.35,
          4.133,
          1.867,
          4.6,
          1.783,
          4.367,
          3.85,
          1.933,
          4.5,
          2.383,
          4.7,
          1.867,
          3.833,
          3.417,
          4.2330000000000005,
          2.4,
          4.8,
          2,
          4.15,
          1.867,
          4.267,
          1.75,
          4.4830000000000005,
          4,
          4.117,
          4.083,
          4.267,
          3.917,
          4.55,
          4.083,
          2.417,
          4.183,
          2.217,
          4.45,
          1.883,
          1.85,
          4.283,
          3.95,
          2.333,
          4.15,
          2.35,
          4.933,
          2.9,
          4.583,
          3.833,
          2.083,
          4.367,
          2.133,
          4.35,
          2.2,
          4.45,
          3.567,
          4.5,
          4.15,
          3.817,
          3.917,
          4.45,
          2,
          4.283,
          4.767,
          4.533,
          1.85,
          4.25,
          1.983,
          2.25,
          4.75,
          4.117,
          2.15,
          4.417,
          1.817,
          4.467
         ],
         "yaxis": "y"
        },
        {
         "hovertemplate": "<b>OLS trendline</b><br>duration = 0.0756279 * waiting + -1.87402<br>R<sup>2</sup>=0.811461<br><br>waiting=%{x}<br>duration=%{y} <b>(trend)</b><extra></extra>",
         "legendgroup": "",
         "marker": {
          "color": "#636efa",
          "symbol": "circle"
         },
         "mode": "lines",
         "name": "",
         "showlegend": false,
         "type": "scatter",
         "x": [
          43,
          45,
          45,
          45,
          46,
          46,
          46,
          46,
          46,
          47,
          47,
          47,
          47,
          48,
          48,
          48,
          49,
          49,
          49,
          49,
          49,
          50,
          50,
          50,
          50,
          50,
          51,
          51,
          51,
          51,
          51,
          51,
          52,
          52,
          52,
          52,
          52,
          53,
          53,
          53,
          53,
          53,
          53,
          53,
          54,
          54,
          54,
          54,
          54,
          54,
          54,
          54,
          54,
          55,
          55,
          55,
          55,
          55,
          55,
          56,
          56,
          56,
          56,
          57,
          57,
          57,
          58,
          58,
          58,
          58,
          59,
          59,
          59,
          59,
          59,
          59,
          59,
          60,
          60,
          60,
          60,
          60,
          60,
          62,
          62,
          62,
          62,
          63,
          63,
          63,
          64,
          64,
          64,
          64,
          65,
          65,
          65,
          66,
          66,
          67,
          68,
          69,
          69,
          70,
          70,
          70,
          70,
          71,
          71,
          71,
          71,
          71,
          72,
          73,
          73,
          73,
          73,
          73,
          73,
          73,
          74,
          74,
          74,
          74,
          74,
          74,
          75,
          75,
          75,
          75,
          75,
          75,
          75,
          75,
          76,
          76,
          76,
          76,
          76,
          76,
          76,
          76,
          76,
          77,
          77,
          77,
          77,
          77,
          77,
          77,
          77,
          77,
          77,
          77,
          77,
          78,
          78,
          78,
          78,
          78,
          78,
          78,
          78,
          78,
          78,
          78,
          78,
          78,
          78,
          78,
          79,
          79,
          79,
          79,
          79,
          79,
          79,
          79,
          79,
          79,
          80,
          80,
          80,
          80,
          80,
          80,
          80,
          80,
          81,
          81,
          81,
          81,
          81,
          81,
          81,
          81,
          81,
          81,
          81,
          81,
          81,
          82,
          82,
          82,
          82,
          82,
          82,
          82,
          82,
          82,
          82,
          82,
          82,
          83,
          83,
          83,
          83,
          83,
          83,
          83,
          83,
          83,
          83,
          83,
          83,
          83,
          83,
          84,
          84,
          84,
          84,
          84,
          84,
          84,
          84,
          84,
          84,
          85,
          85,
          85,
          85,
          85,
          85,
          86,
          86,
          86,
          86,
          86,
          86,
          87,
          87,
          88,
          88,
          88,
          88,
          88,
          88,
          89,
          89,
          89,
          90,
          90,
          90,
          90,
          90,
          90,
          91,
          92,
          93,
          93,
          94,
          96
         ],
         "xaxis": "x",
         "y": [
          1.3779857755193614,
          1.5292416714230868,
          1.5292416714230868,
          1.5292416714230868,
          1.6048696193749494,
          1.6048696193749494,
          1.6048696193749494,
          1.6048696193749494,
          1.6048696193749494,
          1.680497567326812,
          1.680497567326812,
          1.680497567326812,
          1.680497567326812,
          1.7561255152786748,
          1.7561255152786748,
          1.7561255152786748,
          1.8317534632305374,
          1.8317534632305374,
          1.8317534632305374,
          1.8317534632305374,
          1.8317534632305374,
          1.9073814111824001,
          1.9073814111824001,
          1.9073814111824001,
          1.9073814111824001,
          1.9073814111824001,
          1.9830093591342628,
          1.9830093591342628,
          1.9830093591342628,
          1.9830093591342628,
          1.9830093591342628,
          1.9830093591342628,
          2.0586373070861255,
          2.0586373070861255,
          2.0586373070861255,
          2.0586373070861255,
          2.0586373070861255,
          2.1342652550379886,
          2.1342652550379886,
          2.1342652550379886,
          2.1342652550379886,
          2.1342652550379886,
          2.1342652550379886,
          2.1342652550379886,
          2.2098932029898513,
          2.2098932029898513,
          2.2098932029898513,
          2.2098932029898513,
          2.2098932029898513,
          2.2098932029898513,
          2.2098932029898513,
          2.2098932029898513,
          2.2098932029898513,
          2.285521150941714,
          2.285521150941714,
          2.285521150941714,
          2.285521150941714,
          2.285521150941714,
          2.285521150941714,
          2.3611490988935766,
          2.3611490988935766,
          2.3611490988935766,
          2.3611490988935766,
          2.4367770468454393,
          2.4367770468454393,
          2.4367770468454393,
          2.512404994797302,
          2.512404994797302,
          2.512404994797302,
          2.512404994797302,
          2.5880329427491646,
          2.5880329427491646,
          2.5880329427491646,
          2.5880329427491646,
          2.5880329427491646,
          2.5880329427491646,
          2.5880329427491646,
          2.6636608907010273,
          2.6636608907010273,
          2.6636608907010273,
          2.6636608907010273,
          2.6636608907010273,
          2.6636608907010273,
          2.8149167866047526,
          2.8149167866047526,
          2.8149167866047526,
          2.8149167866047526,
          2.8905447345566153,
          2.8905447345566153,
          2.8905447345566153,
          2.966172682508478,
          2.966172682508478,
          2.966172682508478,
          2.966172682508478,
          3.0418006304603407,
          3.0418006304603407,
          3.0418006304603407,
          3.1174285784122033,
          3.1174285784122033,
          3.193056526364066,
          3.2686844743159287,
          3.3443124222677914,
          3.3443124222677914,
          3.419940370219654,
          3.419940370219654,
          3.419940370219654,
          3.419940370219654,
          3.4955683181715167,
          3.4955683181715167,
          3.4955683181715167,
          3.4955683181715167,
          3.4955683181715167,
          3.5711962661233794,
          3.646824214075242,
          3.646824214075242,
          3.646824214075242,
          3.646824214075242,
          3.646824214075242,
          3.646824214075242,
          3.646824214075242,
          3.7224521620271047,
          3.7224521620271047,
          3.7224521620271047,
          3.7224521620271047,
          3.7224521620271047,
          3.7224521620271047,
          3.7980801099789674,
          3.7980801099789674,
          3.7980801099789674,
          3.7980801099789674,
          3.7980801099789674,
          3.7980801099789674,
          3.7980801099789674,
          3.7980801099789674,
          3.87370805793083,
          3.87370805793083,
          3.87370805793083,
          3.87370805793083,
          3.87370805793083,
          3.87370805793083,
          3.87370805793083,
          3.87370805793083,
          3.87370805793083,
          3.9493360058826927,
          3.9493360058826927,
          3.9493360058826927,
          3.9493360058826927,
          3.9493360058826927,
          3.9493360058826927,
          3.9493360058826927,
          3.9493360058826927,
          3.9493360058826927,
          3.9493360058826927,
          3.9493360058826927,
          3.9493360058826927,
          4.024963953834556,
          4.024963953834556,
          4.024963953834556,
          4.024963953834556,
          4.024963953834556,
          4.024963953834556,
          4.024963953834556,
          4.024963953834556,
          4.024963953834556,
          4.024963953834556,
          4.024963953834556,
          4.024963953834556,
          4.024963953834556,
          4.024963953834556,
          4.024963953834556,
          4.100591901786418,
          4.100591901786418,
          4.100591901786418,
          4.100591901786418,
          4.100591901786418,
          4.100591901786418,
          4.100591901786418,
          4.100591901786418,
          4.100591901786418,
          4.100591901786418,
          4.176219849738281,
          4.176219849738281,
          4.176219849738281,
          4.176219849738281,
          4.176219849738281,
          4.176219849738281,
          4.176219849738281,
          4.176219849738281,
          4.251847797690145,
          4.251847797690145,
          4.251847797690145,
          4.251847797690145,
          4.251847797690145,
          4.251847797690145,
          4.251847797690145,
          4.251847797690145,
          4.251847797690145,
          4.251847797690145,
          4.251847797690145,
          4.251847797690145,
          4.251847797690145,
          4.3274757456420065,
          4.3274757456420065,
          4.3274757456420065,
          4.3274757456420065,
          4.3274757456420065,
          4.3274757456420065,
          4.3274757456420065,
          4.3274757456420065,
          4.3274757456420065,
          4.3274757456420065,
          4.3274757456420065,
          4.3274757456420065,
          4.40310369359387,
          4.40310369359387,
          4.40310369359387,
          4.40310369359387,
          4.40310369359387,
          4.40310369359387,
          4.40310369359387,
          4.40310369359387,
          4.40310369359387,
          4.40310369359387,
          4.40310369359387,
          4.40310369359387,
          4.40310369359387,
          4.40310369359387,
          4.478731641545732,
          4.478731641545732,
          4.478731641545732,
          4.478731641545732,
          4.478731641545732,
          4.478731641545732,
          4.478731641545732,
          4.478731641545732,
          4.478731641545732,
          4.478731641545732,
          4.5543595894975955,
          4.5543595894975955,
          4.5543595894975955,
          4.5543595894975955,
          4.5543595894975955,
          4.5543595894975955,
          4.629987537449457,
          4.629987537449457,
          4.629987537449457,
          4.629987537449457,
          4.629987537449457,
          4.629987537449457,
          4.705615485401321,
          4.705615485401321,
          4.781243433353183,
          4.781243433353183,
          4.781243433353183,
          4.781243433353183,
          4.781243433353183,
          4.781243433353183,
          4.856871381305046,
          4.856871381305046,
          4.856871381305046,
          4.932499329256908,
          4.932499329256908,
          4.932499329256908,
          4.932499329256908,
          4.932499329256908,
          4.932499329256908,
          5.0081272772087715,
          5.083755225160633,
          5.159383173112497,
          5.159383173112497,
          5.235011121064359,
          5.386267016968084
         ],
         "yaxis": "y"
        },
        {
         "mode": "lines",
         "name": "LOWESS Trendline",
         "type": "scatter",
         "x": [
          43,
          45,
          45,
          45,
          46,
          46,
          46,
          46,
          46,
          47,
          47,
          47,
          47,
          48,
          48,
          48,
          49,
          49,
          49,
          49,
          49,
          50,
          50,
          50,
          50,
          50,
          51,
          51,
          51,
          51,
          51,
          51,
          52,
          52,
          52,
          52,
          52,
          53,
          53,
          53,
          53,
          53,
          53,
          53,
          54,
          54,
          54,
          54,
          54,
          54,
          54,
          54,
          54,
          55,
          55,
          55,
          55,
          55,
          55,
          56,
          56,
          56,
          56,
          57,
          57,
          57,
          58,
          58,
          58,
          58,
          59,
          59,
          59,
          59,
          59,
          59,
          59,
          60,
          60,
          60,
          60,
          60,
          60,
          62,
          62,
          62,
          62,
          63,
          63,
          63,
          64,
          64,
          64,
          64,
          65,
          65,
          65,
          66,
          66,
          67,
          68,
          69,
          69,
          70,
          70,
          70,
          70,
          71,
          71,
          71,
          71,
          71,
          72,
          73,
          73,
          73,
          73,
          73,
          73,
          73,
          74,
          74,
          74,
          74,
          74,
          74,
          75,
          75,
          75,
          75,
          75,
          75,
          75,
          75,
          76,
          76,
          76,
          76,
          76,
          76,
          76,
          76,
          76,
          77,
          77,
          77,
          77,
          77,
          77,
          77,
          77,
          77,
          77,
          77,
          77,
          78,
          78,
          78,
          78,
          78,
          78,
          78,
          78,
          78,
          78,
          78,
          78,
          78,
          78,
          78,
          79,
          79,
          79,
          79,
          79,
          79,
          79,
          79,
          79,
          79,
          80,
          80,
          80,
          80,
          80,
          80,
          80,
          80,
          81,
          81,
          81,
          81,
          81,
          81,
          81,
          81,
          81,
          81,
          81,
          81,
          81,
          82,
          82,
          82,
          82,
          82,
          82,
          82,
          82,
          82,
          82,
          82,
          82,
          83,
          83,
          83,
          83,
          83,
          83,
          83,
          83,
          83,
          83,
          83,
          83,
          83,
          83,
          84,
          84,
          84,
          84,
          84,
          84,
          84,
          84,
          84,
          84,
          85,
          85,
          85,
          85,
          85,
          85,
          86,
          86,
          86,
          86,
          86,
          86,
          87,
          87,
          88,
          88,
          88,
          88,
          88,
          88,
          89,
          89,
          89,
          90,
          90,
          90,
          90,
          90,
          90,
          91,
          92,
          93,
          93,
          94,
          96
         ],
         "y": [
          1.9186521424072547,
          1.9344096504954134,
          1.9344096504954134,
          1.9344096504954134,
          1.9421058219420753,
          1.9421058219420753,
          1.9421058219420753,
          1.9421058219420753,
          1.9421058219420753,
          1.9492820922680067,
          1.9492820922680067,
          1.9492820922680067,
          1.9492820922680067,
          1.9558607302691684,
          1.9558607302691684,
          1.9558607302691684,
          1.962181369241891,
          1.962181369241891,
          1.962181369241891,
          1.962181369241891,
          1.962181369241891,
          1.969408997981721,
          1.969408997981721,
          1.969408997981721,
          1.969408997981721,
          1.969408997981721,
          1.979785009796234,
          1.979785009796234,
          1.979785009796234,
          1.979785009796234,
          1.979785009796234,
          1.979785009796234,
          1.989714320835026,
          1.989714320835026,
          1.989714320835026,
          1.989714320835026,
          1.989714320835026,
          1.9952876010759677,
          1.9952876010759677,
          1.9952876010759677,
          1.9952876010759677,
          1.9952876010759677,
          1.9952876010759677,
          1.9952876010759677,
          1.9936488499343459,
          1.9936488499343459,
          1.9936488499343459,
          1.9936488499343459,
          1.9936488499343459,
          1.9936488499343459,
          1.9936488499343459,
          1.9936488499343459,
          1.9936488499343459,
          1.99393402379364,
          1.99393402379364,
          1.99393402379364,
          1.99393402379364,
          1.99393402379364,
          1.99393402379364,
          1.9998045945748515,
          1.9998045945748515,
          1.9998045945748515,
          1.9998045945748515,
          2.0139370252003546,
          2.0139370252003546,
          2.0139370252003546,
          2.038699058321957,
          2.038699058321957,
          2.038699058321957,
          2.038699058321957,
          2.0955741372199967,
          2.0955741372199967,
          2.0955741372199967,
          2.0955741372199967,
          2.0955741372199967,
          2.0955741372199967,
          2.0955741372199967,
          2.157900404002252,
          2.157900404002252,
          2.157900404002252,
          2.157900404002252,
          2.157900404002252,
          2.157900404002252,
          2.383589177706359,
          2.383589177706359,
          2.383589177706359,
          2.383589177706359,
          2.544376577318829,
          2.544376577318829,
          2.544376577318829,
          2.739478107460566,
          2.739478107460566,
          2.739478107460566,
          2.739478107460566,
          2.9029176379088457,
          2.9029176379088457,
          2.9029176379088457,
          3.053658252690223,
          3.053658252690223,
          3.214763931658723,
          3.380303575331191,
          3.5786855265101667,
          3.5786855265101667,
          3.7849136115718265,
          3.7849136115718265,
          3.7849136115718265,
          3.7849136115718265,
          3.9459220045987813,
          3.9459220045987813,
          3.9459220045987813,
          3.9459220045987813,
          3.9459220045987813,
          4.074872475833141,
          4.179011278635363,
          4.179011278635363,
          4.179011278635363,
          4.179011278635363,
          4.179011278635363,
          4.179011278635363,
          4.179011278635363,
          4.253073995783976,
          4.253073995783976,
          4.253073995783976,
          4.253073995783976,
          4.253073995783976,
          4.253073995783976,
          4.318817611180992,
          4.318817611180992,
          4.318817611180992,
          4.318817611180992,
          4.318817611180992,
          4.318817611180992,
          4.318817611180992,
          4.318817611180992,
          4.331656770327086,
          4.331656770327086,
          4.331656770327086,
          4.331656770327086,
          4.331656770327086,
          4.331656770327086,
          4.331656770327086,
          4.331656770327086,
          4.331656770327086,
          4.346858683186571,
          4.346858683186571,
          4.346858683186571,
          4.346858683186571,
          4.346858683186571,
          4.346858683186571,
          4.346858683186571,
          4.346858683186571,
          4.346858683186571,
          4.346858683186571,
          4.346858683186571,
          4.346858683186571,
          4.341189350470698,
          4.341189350470698,
          4.341189350470698,
          4.341189350470698,
          4.341189350470698,
          4.341189350470698,
          4.341189350470698,
          4.341189350470698,
          4.341189350470698,
          4.341189350470698,
          4.341189350470698,
          4.341189350470698,
          4.341189350470698,
          4.341189350470698,
          4.341189350470698,
          4.336785127256803,
          4.336785127256803,
          4.336785127256803,
          4.336785127256803,
          4.336785127256803,
          4.336785127256803,
          4.336785127256803,
          4.336785127256803,
          4.336785127256803,
          4.336785127256803,
          4.332304008228884,
          4.332304008228884,
          4.332304008228884,
          4.332304008228884,
          4.332304008228884,
          4.332304008228884,
          4.332304008228884,
          4.332304008228884,
          4.351533317269229,
          4.351533317269229,
          4.351533317269229,
          4.351533317269229,
          4.351533317269229,
          4.351533317269229,
          4.351533317269229,
          4.351533317269229,
          4.351533317269229,
          4.351533317269229,
          4.351533317269229,
          4.351533317269229,
          4.351533317269229,
          4.353914954332693,
          4.353914954332693,
          4.353914954332693,
          4.353914954332693,
          4.353914954332693,
          4.353914954332693,
          4.353914954332693,
          4.353914954332693,
          4.353914954332693,
          4.353914954332693,
          4.353914954332693,
          4.353914954332693,
          4.363081724880589,
          4.363081724880589,
          4.363081724880589,
          4.363081724880589,
          4.363081724880589,
          4.363081724880589,
          4.363081724880589,
          4.363081724880589,
          4.363081724880589,
          4.363081724880589,
          4.363081724880589,
          4.363081724880589,
          4.363081724880589,
          4.363081724880589,
          4.3826565674434494,
          4.3826565674434494,
          4.3826565674434494,
          4.3826565674434494,
          4.3826565674434494,
          4.3826565674434494,
          4.3826565674434494,
          4.3826565674434494,
          4.3826565674434494,
          4.3826565674434494,
          4.409438439144667,
          4.409438439144667,
          4.409438439144667,
          4.409438439144667,
          4.409438439144667,
          4.409438439144667,
          4.445252114142226,
          4.445252114142226,
          4.445252114142226,
          4.445252114142226,
          4.445252114142226,
          4.445252114142226,
          4.463727351843725,
          4.463727351843725,
          4.479656149960105,
          4.479656149960105,
          4.479656149960105,
          4.479656149960105,
          4.479656149960105,
          4.479656149960105,
          4.485016934824078,
          4.485016934824078,
          4.485016934824078,
          4.50688251213341,
          4.50688251213341,
          4.50688251213341,
          4.50688251213341,
          4.50688251213341,
          4.50688251213341,
          4.542260097039768,
          4.577490663638139,
          4.610400813055501,
          4.610400813055501,
          4.642094388351268,
          4.709228776366015
         ]
        }
       ],
       "layout": {
        "legend": {
         "tracegroupgap": 0
        },
        "template": {
         "data": {
          "bar": [
           {
            "error_x": {
             "color": "#2a3f5f"
            },
            "error_y": {
             "color": "#2a3f5f"
            },
            "marker": {
             "line": {
              "color": "#E5ECF6",
              "width": 0.5
             },
             "pattern": {
              "fillmode": "overlay",
              "size": 10,
              "solidity": 0.2
             }
            },
            "type": "bar"
           }
          ],
          "barpolar": [
           {
            "marker": {
             "line": {
              "color": "#E5ECF6",
              "width": 0.5
             },
             "pattern": {
              "fillmode": "overlay",
              "size": 10,
              "solidity": 0.2
             }
            },
            "type": "barpolar"
           }
          ],
          "carpet": [
           {
            "aaxis": {
             "endlinecolor": "#2a3f5f",
             "gridcolor": "white",
             "linecolor": "white",
             "minorgridcolor": "white",
             "startlinecolor": "#2a3f5f"
            },
            "baxis": {
             "endlinecolor": "#2a3f5f",
             "gridcolor": "white",
             "linecolor": "white",
             "minorgridcolor": "white",
             "startlinecolor": "#2a3f5f"
            },
            "type": "carpet"
           }
          ],
          "choropleth": [
           {
            "colorbar": {
             "outlinewidth": 0,
             "ticks": ""
            },
            "type": "choropleth"
           }
          ],
          "contour": [
           {
            "colorbar": {
             "outlinewidth": 0,
             "ticks": ""
            },
            "colorscale": [
             [
              0,
              "#0d0887"
             ],
             [
              0.1111111111111111,
              "#46039f"
             ],
             [
              0.2222222222222222,
              "#7201a8"
             ],
             [
              0.3333333333333333,
              "#9c179e"
             ],
             [
              0.4444444444444444,
              "#bd3786"
             ],
             [
              0.5555555555555556,
              "#d8576b"
             ],
             [
              0.6666666666666666,
              "#ed7953"
             ],
             [
              0.7777777777777778,
              "#fb9f3a"
             ],
             [
              0.8888888888888888,
              "#fdca26"
             ],
             [
              1,
              "#f0f921"
             ]
            ],
            "type": "contour"
           }
          ],
          "contourcarpet": [
           {
            "colorbar": {
             "outlinewidth": 0,
             "ticks": ""
            },
            "type": "contourcarpet"
           }
          ],
          "heatmap": [
           {
            "colorbar": {
             "outlinewidth": 0,
             "ticks": ""
            },
            "colorscale": [
             [
              0,
              "#0d0887"
             ],
             [
              0.1111111111111111,
              "#46039f"
             ],
             [
              0.2222222222222222,
              "#7201a8"
             ],
             [
              0.3333333333333333,
              "#9c179e"
             ],
             [
              0.4444444444444444,
              "#bd3786"
             ],
             [
              0.5555555555555556,
              "#d8576b"
             ],
             [
              0.6666666666666666,
              "#ed7953"
             ],
             [
              0.7777777777777778,
              "#fb9f3a"
             ],
             [
              0.8888888888888888,
              "#fdca26"
             ],
             [
              1,
              "#f0f921"
             ]
            ],
            "type": "heatmap"
           }
          ],
          "heatmapgl": [
           {
            "colorbar": {
             "outlinewidth": 0,
             "ticks": ""
            },
            "colorscale": [
             [
              0,
              "#0d0887"
             ],
             [
              0.1111111111111111,
              "#46039f"
             ],
             [
              0.2222222222222222,
              "#7201a8"
             ],
             [
              0.3333333333333333,
              "#9c179e"
             ],
             [
              0.4444444444444444,
              "#bd3786"
             ],
             [
              0.5555555555555556,
              "#d8576b"
             ],
             [
              0.6666666666666666,
              "#ed7953"
             ],
             [
              0.7777777777777778,
              "#fb9f3a"
             ],
             [
              0.8888888888888888,
              "#fdca26"
             ],
             [
              1,
              "#f0f921"
             ]
            ],
            "type": "heatmapgl"
           }
          ],
          "histogram": [
           {
            "marker": {
             "pattern": {
              "fillmode": "overlay",
              "size": 10,
              "solidity": 0.2
             }
            },
            "type": "histogram"
           }
          ],
          "histogram2d": [
           {
            "colorbar": {
             "outlinewidth": 0,
             "ticks": ""
            },
            "colorscale": [
             [
              0,
              "#0d0887"
             ],
             [
              0.1111111111111111,
              "#46039f"
             ],
             [
              0.2222222222222222,
              "#7201a8"
             ],
             [
              0.3333333333333333,
              "#9c179e"
             ],
             [
              0.4444444444444444,
              "#bd3786"
             ],
             [
              0.5555555555555556,
              "#d8576b"
             ],
             [
              0.6666666666666666,
              "#ed7953"
             ],
             [
              0.7777777777777778,
              "#fb9f3a"
             ],
             [
              0.8888888888888888,
              "#fdca26"
             ],
             [
              1,
              "#f0f921"
             ]
            ],
            "type": "histogram2d"
           }
          ],
          "histogram2dcontour": [
           {
            "colorbar": {
             "outlinewidth": 0,
             "ticks": ""
            },
            "colorscale": [
             [
              0,
              "#0d0887"
             ],
             [
              0.1111111111111111,
              "#46039f"
             ],
             [
              0.2222222222222222,
              "#7201a8"
             ],
             [
              0.3333333333333333,
              "#9c179e"
             ],
             [
              0.4444444444444444,
              "#bd3786"
             ],
             [
              0.5555555555555556,
              "#d8576b"
             ],
             [
              0.6666666666666666,
              "#ed7953"
             ],
             [
              0.7777777777777778,
              "#fb9f3a"
             ],
             [
              0.8888888888888888,
              "#fdca26"
             ],
             [
              1,
              "#f0f921"
             ]
            ],
            "type": "histogram2dcontour"
           }
          ],
          "mesh3d": [
           {
            "colorbar": {
             "outlinewidth": 0,
             "ticks": ""
            },
            "type": "mesh3d"
           }
          ],
          "parcoords": [
           {
            "line": {
             "colorbar": {
              "outlinewidth": 0,
              "ticks": ""
             }
            },
            "type": "parcoords"
           }
          ],
          "pie": [
           {
            "automargin": true,
            "type": "pie"
           }
          ],
          "scatter": [
           {
            "fillpattern": {
             "fillmode": "overlay",
             "size": 10,
             "solidity": 0.2
            },
            "type": "scatter"
           }
          ],
          "scatter3d": [
           {
            "line": {
             "colorbar": {
              "outlinewidth": 0,
              "ticks": ""
             }
            },
            "marker": {
             "colorbar": {
              "outlinewidth": 0,
              "ticks": ""
             }
            },
            "type": "scatter3d"
           }
          ],
          "scattercarpet": [
           {
            "marker": {
             "colorbar": {
              "outlinewidth": 0,
              "ticks": ""
             }
            },
            "type": "scattercarpet"
           }
          ],
          "scattergeo": [
           {
            "marker": {
             "colorbar": {
              "outlinewidth": 0,
              "ticks": ""
             }
            },
            "type": "scattergeo"
           }
          ],
          "scattergl": [
           {
            "marker": {
             "colorbar": {
              "outlinewidth": 0,
              "ticks": ""
             }
            },
            "type": "scattergl"
           }
          ],
          "scattermapbox": [
           {
            "marker": {
             "colorbar": {
              "outlinewidth": 0,
              "ticks": ""
             }
            },
            "type": "scattermapbox"
           }
          ],
          "scatterpolar": [
           {
            "marker": {
             "colorbar": {
              "outlinewidth": 0,
              "ticks": ""
             }
            },
            "type": "scatterpolar"
           }
          ],
          "scatterpolargl": [
           {
            "marker": {
             "colorbar": {
              "outlinewidth": 0,
              "ticks": ""
             }
            },
            "type": "scatterpolargl"
           }
          ],
          "scatterternary": [
           {
            "marker": {
             "colorbar": {
              "outlinewidth": 0,
              "ticks": ""
             }
            },
            "type": "scatterternary"
           }
          ],
          "surface": [
           {
            "colorbar": {
             "outlinewidth": 0,
             "ticks": ""
            },
            "colorscale": [
             [
              0,
              "#0d0887"
             ],
             [
              0.1111111111111111,
              "#46039f"
             ],
             [
              0.2222222222222222,
              "#7201a8"
             ],
             [
              0.3333333333333333,
              "#9c179e"
             ],
             [
              0.4444444444444444,
              "#bd3786"
             ],
             [
              0.5555555555555556,
              "#d8576b"
             ],
             [
              0.6666666666666666,
              "#ed7953"
             ],
             [
              0.7777777777777778,
              "#fb9f3a"
             ],
             [
              0.8888888888888888,
              "#fdca26"
             ],
             [
              1,
              "#f0f921"
             ]
            ],
            "type": "surface"
           }
          ],
          "table": [
           {
            "cells": {
             "fill": {
              "color": "#EBF0F8"
             },
             "line": {
              "color": "white"
             }
            },
            "header": {
             "fill": {
              "color": "#C8D4E3"
             },
             "line": {
              "color": "white"
             }
            },
            "type": "table"
           }
          ]
         },
         "layout": {
          "annotationdefaults": {
           "arrowcolor": "#2a3f5f",
           "arrowhead": 0,
           "arrowwidth": 1
          },
          "autotypenumbers": "strict",
          "coloraxis": {
           "colorbar": {
            "outlinewidth": 0,
            "ticks": ""
           }
          },
          "colorscale": {
           "diverging": [
            [
             0,
             "#8e0152"
            ],
            [
             0.1,
             "#c51b7d"
            ],
            [
             0.2,
             "#de77ae"
            ],
            [
             0.3,
             "#f1b6da"
            ],
            [
             0.4,
             "#fde0ef"
            ],
            [
             0.5,
             "#f7f7f7"
            ],
            [
             0.6,
             "#e6f5d0"
            ],
            [
             0.7,
             "#b8e186"
            ],
            [
             0.8,
             "#7fbc41"
            ],
            [
             0.9,
             "#4d9221"
            ],
            [
             1,
             "#276419"
            ]
           ],
           "sequential": [
            [
             0,
             "#0d0887"
            ],
            [
             0.1111111111111111,
             "#46039f"
            ],
            [
             0.2222222222222222,
             "#7201a8"
            ],
            [
             0.3333333333333333,
             "#9c179e"
            ],
            [
             0.4444444444444444,
             "#bd3786"
            ],
            [
             0.5555555555555556,
             "#d8576b"
            ],
            [
             0.6666666666666666,
             "#ed7953"
            ],
            [
             0.7777777777777778,
             "#fb9f3a"
            ],
            [
             0.8888888888888888,
             "#fdca26"
            ],
            [
             1,
             "#f0f921"
            ]
           ],
           "sequentialminus": [
            [
             0,
             "#0d0887"
            ],
            [
             0.1111111111111111,
             "#46039f"
            ],
            [
             0.2222222222222222,
             "#7201a8"
            ],
            [
             0.3333333333333333,
             "#9c179e"
            ],
            [
             0.4444444444444444,
             "#bd3786"
            ],
            [
             0.5555555555555556,
             "#d8576b"
            ],
            [
             0.6666666666666666,
             "#ed7953"
            ],
            [
             0.7777777777777778,
             "#fb9f3a"
            ],
            [
             0.8888888888888888,
             "#fdca26"
            ],
            [
             1,
             "#f0f921"
            ]
           ]
          },
          "colorway": [
           "#636efa",
           "#EF553B",
           "#00cc96",
           "#ab63fa",
           "#FFA15A",
           "#19d3f3",
           "#FF6692",
           "#B6E880",
           "#FF97FF",
           "#FECB52"
          ],
          "font": {
           "color": "#2a3f5f"
          },
          "geo": {
           "bgcolor": "white",
           "lakecolor": "white",
           "landcolor": "#E5ECF6",
           "showlakes": true,
           "showland": true,
           "subunitcolor": "white"
          },
          "hoverlabel": {
           "align": "left"
          },
          "hovermode": "closest",
          "mapbox": {
           "style": "light"
          },
          "paper_bgcolor": "white",
          "plot_bgcolor": "#E5ECF6",
          "polar": {
           "angularaxis": {
            "gridcolor": "white",
            "linecolor": "white",
            "ticks": ""
           },
           "bgcolor": "#E5ECF6",
           "radialaxis": {
            "gridcolor": "white",
            "linecolor": "white",
            "ticks": ""
           }
          },
          "scene": {
           "xaxis": {
            "backgroundcolor": "#E5ECF6",
            "gridcolor": "white",
            "gridwidth": 2,
            "linecolor": "white",
            "showbackground": true,
            "ticks": "",
            "zerolinecolor": "white"
           },
           "yaxis": {
            "backgroundcolor": "#E5ECF6",
            "gridcolor": "white",
            "gridwidth": 2,
            "linecolor": "white",
            "showbackground": true,
            "ticks": "",
            "zerolinecolor": "white"
           },
           "zaxis": {
            "backgroundcolor": "#E5ECF6",
            "gridcolor": "white",
            "gridwidth": 2,
            "linecolor": "white",
            "showbackground": true,
            "ticks": "",
            "zerolinecolor": "white"
           }
          },
          "shapedefaults": {
           "line": {
            "color": "#2a3f5f"
           }
          },
          "ternary": {
           "aaxis": {
            "gridcolor": "white",
            "linecolor": "white",
            "ticks": ""
           },
           "baxis": {
            "gridcolor": "white",
            "linecolor": "white",
            "ticks": ""
           },
           "bgcolor": "#E5ECF6",
           "caxis": {
            "gridcolor": "white",
            "linecolor": "white",
            "ticks": ""
           }
          },
          "title": {
           "x": 0.05
          },
          "xaxis": {
           "automargin": true,
           "gridcolor": "white",
           "linecolor": "white",
           "ticks": "",
           "title": {
            "standoff": 15
           },
           "zerolinecolor": "white",
           "zerolinewidth": 2
          },
          "yaxis": {
           "automargin": true,
           "gridcolor": "white",
           "linecolor": "white",
           "ticks": "",
           "title": {
            "standoff": 15
           },
           "zerolinecolor": "white",
           "zerolinewidth": 2
          }
         }
        },
        "title": {
         "text": "Old Faithful Geyser Eruptions"
        },
        "xaxis": {
         "anchor": "y",
         "domain": [
          0,
          1
         ],
         "title": {
          "text": "waiting"
         }
        },
        "yaxis": {
         "anchor": "x",
         "domain": [
          0,
          1
         ],
         "title": {
          "text": "duration"
         }
        }
       }
      },
      "text/html": [
       "<div>                            <div id=\"cefb9335-9d28-4967-b615-12d95d593541\" class=\"plotly-graph-div\" style=\"height:525px; width:100%;\"></div>            <script type=\"text/javascript\">                require([\"plotly\"], function(Plotly) {                    window.PLOTLYENV=window.PLOTLYENV || {};                                    if (document.getElementById(\"cefb9335-9d28-4967-b615-12d95d593541\")) {                    Plotly.newPlot(                        \"cefb9335-9d28-4967-b615-12d95d593541\",                        [{\"hovertemplate\":\"waiting=%{x}\\u003cbr\\u003eduration=%{y}\\u003cextra\\u003e\\u003c\\u002fextra\\u003e\",\"legendgroup\":\"\",\"marker\":{\"color\":\"#636efa\",\"symbol\":\"circle\"},\"mode\":\"markers\",\"name\":\"\",\"orientation\":\"v\",\"showlegend\":false,\"x\":[79,54,74,62,85,55,88,85,51,85,54,84,78,47,83,52,62,84,52,79,51,47,78,69,74,83,55,76,78,79,73,77,66,80,74,52,48,80,59,90,80,58,84,58,73,83,64,53,82,59,75,90,54,80,54,83,71,64,77,81,59,84,48,82,60,92,78,78,65,73,82,56,79,71,62,76,60,78,76,83,75,82,70,65,73,88,76,80,48,86,60,90,50,78,63,72,84,75,51,82,62,88,49,83,81,47,84,52,86,81,75,59,89,79,59,81,50,85,59,87,53,69,77,56,88,81,45,82,55,90,45,83,56,89,46,82,51,86,53,79,81,60,82,77,76,59,80,49,96,53,77,77,65,81,71,70,81,93,53,89,45,86,58,78,66,76,63,88,52,93,49,57,77,68,81,81,73,50,85,74,55,77,83,83,51,78,84,46,83,55,81,57,76,84,77,81,87,77,51,78,60,82,91,53,78,46,77,84,49,83,71,80,49,75,64,76,53,94,55,76,50,82,54,75,78,79,78,78,70,79,70,54,86,50,90,54,54,77,79,64,75,47,86,63,85,82,57,82,67,74,54,83,73,73,88,80,71,83,56,79,78,84,58,83,43,60,75,81,46,90,46,74],\"xaxis\":\"x\",\"y\":[3.6,1.8,3.333,2.283,4.533,2.883,4.7,3.6,1.95,4.35,1.833,3.917,4.2,1.75,4.7,2.167,1.75,4.8,1.6,4.25,1.8,1.75,3.45,3.067,4.533,3.6,1.967,4.083,3.85,4.433,4.3,4.467,3.367,4.033,3.833,2.017,1.867,4.833,1.833,4.783,4.35,1.883,4.567,1.75,4.533,3.317,3.833,2.1,4.633,2.0,4.8,4.716,1.833,4.833,1.733,4.883,3.717,1.6669999999999998,4.567,4.317,2.233,4.5,1.75,4.8,1.817,4.4,4.167,4.7,2.067,4.7,4.033,1.967,4.5,4.0,1.983,5.067,2.017,4.567,3.883,3.6,4.133,4.333,4.1,2.633,4.067,4.933,3.95,4.517,2.167,4.0,2.2,4.333,1.867,4.817,1.833,4.3,4.667,3.75,1.867,4.9,2.483,4.367,2.1,4.5,4.05,1.867,4.7,1.783,4.85,3.683,4.7330000000000005,2.3,4.9,4.417,1.7,4.633,2.317,4.6,1.817,4.417,2.617,4.067,4.25,1.967,4.6,3.767,1.917,4.5,2.267,4.65,1.867,4.167,2.8,4.333,1.833,4.383,1.883,4.933,2.033,3.733,4.2330000000000005,2.233,4.533,4.817,4.333,1.983,4.633,2.017,5.1,1.8,5.033,4.0,2.4,4.6,3.567,4.0,4.5,4.083,1.8,3.967,2.2,4.15,2.0,3.833,3.5,4.583,2.367,5.0,1.933,4.617,1.917,2.083,4.583,3.333,4.167,4.333,4.5,2.417,4.0,4.167,1.883,4.583,4.25,3.767,2.033,4.433,4.083,1.833,4.417,2.1830000000000003,4.8,1.833,4.8,4.1,3.966,4.2330000000000005,3.5,4.3660000000000005,2.25,4.667,2.1,4.35,4.133,1.867,4.6,1.783,4.367,3.85,1.933,4.5,2.383,4.7,1.867,3.833,3.417,4.2330000000000005,2.4,4.8,2.0,4.15,1.867,4.267,1.75,4.4830000000000005,4.0,4.117,4.083,4.267,3.917,4.55,4.083,2.417,4.183,2.217,4.45,1.883,1.85,4.283,3.95,2.333,4.15,2.35,4.933,2.9,4.583,3.833,2.083,4.367,2.133,4.35,2.2,4.45,3.567,4.5,4.15,3.817,3.917,4.45,2.0,4.283,4.767,4.533,1.85,4.25,1.983,2.25,4.75,4.117,2.15,4.417,1.817,4.467],\"yaxis\":\"y\",\"type\":\"scatter\"},{\"hovertemplate\":\"\\u003cb\\u003eOLS trendline\\u003c\\u002fb\\u003e\\u003cbr\\u003eduration = 0.0756279 * waiting + -1.87402\\u003cbr\\u003eR\\u003csup\\u003e2\\u003c\\u002fsup\\u003e=0.811461\\u003cbr\\u003e\\u003cbr\\u003ewaiting=%{x}\\u003cbr\\u003eduration=%{y} \\u003cb\\u003e(trend)\\u003c\\u002fb\\u003e\\u003cextra\\u003e\\u003c\\u002fextra\\u003e\",\"legendgroup\":\"\",\"marker\":{\"color\":\"#636efa\",\"symbol\":\"circle\"},\"mode\":\"lines\",\"name\":\"\",\"showlegend\":false,\"x\":[43,45,45,45,46,46,46,46,46,47,47,47,47,48,48,48,49,49,49,49,49,50,50,50,50,50,51,51,51,51,51,51,52,52,52,52,52,53,53,53,53,53,53,53,54,54,54,54,54,54,54,54,54,55,55,55,55,55,55,56,56,56,56,57,57,57,58,58,58,58,59,59,59,59,59,59,59,60,60,60,60,60,60,62,62,62,62,63,63,63,64,64,64,64,65,65,65,66,66,67,68,69,69,70,70,70,70,71,71,71,71,71,72,73,73,73,73,73,73,73,74,74,74,74,74,74,75,75,75,75,75,75,75,75,76,76,76,76,76,76,76,76,76,77,77,77,77,77,77,77,77,77,77,77,77,78,78,78,78,78,78,78,78,78,78,78,78,78,78,78,79,79,79,79,79,79,79,79,79,79,80,80,80,80,80,80,80,80,81,81,81,81,81,81,81,81,81,81,81,81,81,82,82,82,82,82,82,82,82,82,82,82,82,83,83,83,83,83,83,83,83,83,83,83,83,83,83,84,84,84,84,84,84,84,84,84,84,85,85,85,85,85,85,86,86,86,86,86,86,87,87,88,88,88,88,88,88,89,89,89,90,90,90,90,90,90,91,92,93,93,94,96],\"xaxis\":\"x\",\"y\":[1.3779857755193614,1.5292416714230868,1.5292416714230868,1.5292416714230868,1.6048696193749494,1.6048696193749494,1.6048696193749494,1.6048696193749494,1.6048696193749494,1.680497567326812,1.680497567326812,1.680497567326812,1.680497567326812,1.7561255152786748,1.7561255152786748,1.7561255152786748,1.8317534632305374,1.8317534632305374,1.8317534632305374,1.8317534632305374,1.8317534632305374,1.9073814111824001,1.9073814111824001,1.9073814111824001,1.9073814111824001,1.9073814111824001,1.9830093591342628,1.9830093591342628,1.9830093591342628,1.9830093591342628,1.9830093591342628,1.9830093591342628,2.0586373070861255,2.0586373070861255,2.0586373070861255,2.0586373070861255,2.0586373070861255,2.1342652550379886,2.1342652550379886,2.1342652550379886,2.1342652550379886,2.1342652550379886,2.1342652550379886,2.1342652550379886,2.2098932029898513,2.2098932029898513,2.2098932029898513,2.2098932029898513,2.2098932029898513,2.2098932029898513,2.2098932029898513,2.2098932029898513,2.2098932029898513,2.285521150941714,2.285521150941714,2.285521150941714,2.285521150941714,2.285521150941714,2.285521150941714,2.3611490988935766,2.3611490988935766,2.3611490988935766,2.3611490988935766,2.4367770468454393,2.4367770468454393,2.4367770468454393,2.512404994797302,2.512404994797302,2.512404994797302,2.512404994797302,2.5880329427491646,2.5880329427491646,2.5880329427491646,2.5880329427491646,2.5880329427491646,2.5880329427491646,2.5880329427491646,2.6636608907010273,2.6636608907010273,2.6636608907010273,2.6636608907010273,2.6636608907010273,2.6636608907010273,2.8149167866047526,2.8149167866047526,2.8149167866047526,2.8149167866047526,2.8905447345566153,2.8905447345566153,2.8905447345566153,2.966172682508478,2.966172682508478,2.966172682508478,2.966172682508478,3.0418006304603407,3.0418006304603407,3.0418006304603407,3.1174285784122033,3.1174285784122033,3.193056526364066,3.2686844743159287,3.3443124222677914,3.3443124222677914,3.419940370219654,3.419940370219654,3.419940370219654,3.419940370219654,3.4955683181715167,3.4955683181715167,3.4955683181715167,3.4955683181715167,3.4955683181715167,3.5711962661233794,3.646824214075242,3.646824214075242,3.646824214075242,3.646824214075242,3.646824214075242,3.646824214075242,3.646824214075242,3.7224521620271047,3.7224521620271047,3.7224521620271047,3.7224521620271047,3.7224521620271047,3.7224521620271047,3.7980801099789674,3.7980801099789674,3.7980801099789674,3.7980801099789674,3.7980801099789674,3.7980801099789674,3.7980801099789674,3.7980801099789674,3.87370805793083,3.87370805793083,3.87370805793083,3.87370805793083,3.87370805793083,3.87370805793083,3.87370805793083,3.87370805793083,3.87370805793083,3.9493360058826927,3.9493360058826927,3.9493360058826927,3.9493360058826927,3.9493360058826927,3.9493360058826927,3.9493360058826927,3.9493360058826927,3.9493360058826927,3.9493360058826927,3.9493360058826927,3.9493360058826927,4.024963953834556,4.024963953834556,4.024963953834556,4.024963953834556,4.024963953834556,4.024963953834556,4.024963953834556,4.024963953834556,4.024963953834556,4.024963953834556,4.024963953834556,4.024963953834556,4.024963953834556,4.024963953834556,4.024963953834556,4.100591901786418,4.100591901786418,4.100591901786418,4.100591901786418,4.100591901786418,4.100591901786418,4.100591901786418,4.100591901786418,4.100591901786418,4.100591901786418,4.176219849738281,4.176219849738281,4.176219849738281,4.176219849738281,4.176219849738281,4.176219849738281,4.176219849738281,4.176219849738281,4.251847797690145,4.251847797690145,4.251847797690145,4.251847797690145,4.251847797690145,4.251847797690145,4.251847797690145,4.251847797690145,4.251847797690145,4.251847797690145,4.251847797690145,4.251847797690145,4.251847797690145,4.3274757456420065,4.3274757456420065,4.3274757456420065,4.3274757456420065,4.3274757456420065,4.3274757456420065,4.3274757456420065,4.3274757456420065,4.3274757456420065,4.3274757456420065,4.3274757456420065,4.3274757456420065,4.40310369359387,4.40310369359387,4.40310369359387,4.40310369359387,4.40310369359387,4.40310369359387,4.40310369359387,4.40310369359387,4.40310369359387,4.40310369359387,4.40310369359387,4.40310369359387,4.40310369359387,4.40310369359387,4.478731641545732,4.478731641545732,4.478731641545732,4.478731641545732,4.478731641545732,4.478731641545732,4.478731641545732,4.478731641545732,4.478731641545732,4.478731641545732,4.5543595894975955,4.5543595894975955,4.5543595894975955,4.5543595894975955,4.5543595894975955,4.5543595894975955,4.629987537449457,4.629987537449457,4.629987537449457,4.629987537449457,4.629987537449457,4.629987537449457,4.705615485401321,4.705615485401321,4.781243433353183,4.781243433353183,4.781243433353183,4.781243433353183,4.781243433353183,4.781243433353183,4.856871381305046,4.856871381305046,4.856871381305046,4.932499329256908,4.932499329256908,4.932499329256908,4.932499329256908,4.932499329256908,4.932499329256908,5.0081272772087715,5.083755225160633,5.159383173112497,5.159383173112497,5.235011121064359,5.386267016968084],\"yaxis\":\"y\",\"type\":\"scatter\"},{\"mode\":\"lines\",\"name\":\"LOWESS Trendline\",\"x\":[43.0,45.0,45.0,45.0,46.0,46.0,46.0,46.0,46.0,47.0,47.0,47.0,47.0,48.0,48.0,48.0,49.0,49.0,49.0,49.0,49.0,50.0,50.0,50.0,50.0,50.0,51.0,51.0,51.0,51.0,51.0,51.0,52.0,52.0,52.0,52.0,52.0,53.0,53.0,53.0,53.0,53.0,53.0,53.0,54.0,54.0,54.0,54.0,54.0,54.0,54.0,54.0,54.0,55.0,55.0,55.0,55.0,55.0,55.0,56.0,56.0,56.0,56.0,57.0,57.0,57.0,58.0,58.0,58.0,58.0,59.0,59.0,59.0,59.0,59.0,59.0,59.0,60.0,60.0,60.0,60.0,60.0,60.0,62.0,62.0,62.0,62.0,63.0,63.0,63.0,64.0,64.0,64.0,64.0,65.0,65.0,65.0,66.0,66.0,67.0,68.0,69.0,69.0,70.0,70.0,70.0,70.0,71.0,71.0,71.0,71.0,71.0,72.0,73.0,73.0,73.0,73.0,73.0,73.0,73.0,74.0,74.0,74.0,74.0,74.0,74.0,75.0,75.0,75.0,75.0,75.0,75.0,75.0,75.0,76.0,76.0,76.0,76.0,76.0,76.0,76.0,76.0,76.0,77.0,77.0,77.0,77.0,77.0,77.0,77.0,77.0,77.0,77.0,77.0,77.0,78.0,78.0,78.0,78.0,78.0,78.0,78.0,78.0,78.0,78.0,78.0,78.0,78.0,78.0,78.0,79.0,79.0,79.0,79.0,79.0,79.0,79.0,79.0,79.0,79.0,80.0,80.0,80.0,80.0,80.0,80.0,80.0,80.0,81.0,81.0,81.0,81.0,81.0,81.0,81.0,81.0,81.0,81.0,81.0,81.0,81.0,82.0,82.0,82.0,82.0,82.0,82.0,82.0,82.0,82.0,82.0,82.0,82.0,83.0,83.0,83.0,83.0,83.0,83.0,83.0,83.0,83.0,83.0,83.0,83.0,83.0,83.0,84.0,84.0,84.0,84.0,84.0,84.0,84.0,84.0,84.0,84.0,85.0,85.0,85.0,85.0,85.0,85.0,86.0,86.0,86.0,86.0,86.0,86.0,87.0,87.0,88.0,88.0,88.0,88.0,88.0,88.0,89.0,89.0,89.0,90.0,90.0,90.0,90.0,90.0,90.0,91.0,92.0,93.0,93.0,94.0,96.0],\"y\":[1.9186521424072547,1.9344096504954134,1.9344096504954134,1.9344096504954134,1.9421058219420753,1.9421058219420753,1.9421058219420753,1.9421058219420753,1.9421058219420753,1.9492820922680067,1.9492820922680067,1.9492820922680067,1.9492820922680067,1.9558607302691684,1.9558607302691684,1.9558607302691684,1.962181369241891,1.962181369241891,1.962181369241891,1.962181369241891,1.962181369241891,1.969408997981721,1.969408997981721,1.969408997981721,1.969408997981721,1.969408997981721,1.979785009796234,1.979785009796234,1.979785009796234,1.979785009796234,1.979785009796234,1.979785009796234,1.989714320835026,1.989714320835026,1.989714320835026,1.989714320835026,1.989714320835026,1.9952876010759677,1.9952876010759677,1.9952876010759677,1.9952876010759677,1.9952876010759677,1.9952876010759677,1.9952876010759677,1.9936488499343459,1.9936488499343459,1.9936488499343459,1.9936488499343459,1.9936488499343459,1.9936488499343459,1.9936488499343459,1.9936488499343459,1.9936488499343459,1.99393402379364,1.99393402379364,1.99393402379364,1.99393402379364,1.99393402379364,1.99393402379364,1.9998045945748515,1.9998045945748515,1.9998045945748515,1.9998045945748515,2.0139370252003546,2.0139370252003546,2.0139370252003546,2.038699058321957,2.038699058321957,2.038699058321957,2.038699058321957,2.0955741372199967,2.0955741372199967,2.0955741372199967,2.0955741372199967,2.0955741372199967,2.0955741372199967,2.0955741372199967,2.157900404002252,2.157900404002252,2.157900404002252,2.157900404002252,2.157900404002252,2.157900404002252,2.383589177706359,2.383589177706359,2.383589177706359,2.383589177706359,2.544376577318829,2.544376577318829,2.544376577318829,2.739478107460566,2.739478107460566,2.739478107460566,2.739478107460566,2.9029176379088457,2.9029176379088457,2.9029176379088457,3.053658252690223,3.053658252690223,3.214763931658723,3.380303575331191,3.5786855265101667,3.5786855265101667,3.7849136115718265,3.7849136115718265,3.7849136115718265,3.7849136115718265,3.9459220045987813,3.9459220045987813,3.9459220045987813,3.9459220045987813,3.9459220045987813,4.074872475833141,4.179011278635363,4.179011278635363,4.179011278635363,4.179011278635363,4.179011278635363,4.179011278635363,4.179011278635363,4.253073995783976,4.253073995783976,4.253073995783976,4.253073995783976,4.253073995783976,4.253073995783976,4.318817611180992,4.318817611180992,4.318817611180992,4.318817611180992,4.318817611180992,4.318817611180992,4.318817611180992,4.318817611180992,4.331656770327086,4.331656770327086,4.331656770327086,4.331656770327086,4.331656770327086,4.331656770327086,4.331656770327086,4.331656770327086,4.331656770327086,4.346858683186571,4.346858683186571,4.346858683186571,4.346858683186571,4.346858683186571,4.346858683186571,4.346858683186571,4.346858683186571,4.346858683186571,4.346858683186571,4.346858683186571,4.346858683186571,4.341189350470698,4.341189350470698,4.341189350470698,4.341189350470698,4.341189350470698,4.341189350470698,4.341189350470698,4.341189350470698,4.341189350470698,4.341189350470698,4.341189350470698,4.341189350470698,4.341189350470698,4.341189350470698,4.341189350470698,4.336785127256803,4.336785127256803,4.336785127256803,4.336785127256803,4.336785127256803,4.336785127256803,4.336785127256803,4.336785127256803,4.336785127256803,4.336785127256803,4.332304008228884,4.332304008228884,4.332304008228884,4.332304008228884,4.332304008228884,4.332304008228884,4.332304008228884,4.332304008228884,4.351533317269229,4.351533317269229,4.351533317269229,4.351533317269229,4.351533317269229,4.351533317269229,4.351533317269229,4.351533317269229,4.351533317269229,4.351533317269229,4.351533317269229,4.351533317269229,4.351533317269229,4.353914954332693,4.353914954332693,4.353914954332693,4.353914954332693,4.353914954332693,4.353914954332693,4.353914954332693,4.353914954332693,4.353914954332693,4.353914954332693,4.353914954332693,4.353914954332693,4.363081724880589,4.363081724880589,4.363081724880589,4.363081724880589,4.363081724880589,4.363081724880589,4.363081724880589,4.363081724880589,4.363081724880589,4.363081724880589,4.363081724880589,4.363081724880589,4.363081724880589,4.363081724880589,4.3826565674434494,4.3826565674434494,4.3826565674434494,4.3826565674434494,4.3826565674434494,4.3826565674434494,4.3826565674434494,4.3826565674434494,4.3826565674434494,4.3826565674434494,4.409438439144667,4.409438439144667,4.409438439144667,4.409438439144667,4.409438439144667,4.409438439144667,4.445252114142226,4.445252114142226,4.445252114142226,4.445252114142226,4.445252114142226,4.445252114142226,4.463727351843725,4.463727351843725,4.479656149960105,4.479656149960105,4.479656149960105,4.479656149960105,4.479656149960105,4.479656149960105,4.485016934824078,4.485016934824078,4.485016934824078,4.50688251213341,4.50688251213341,4.50688251213341,4.50688251213341,4.50688251213341,4.50688251213341,4.542260097039768,4.577490663638139,4.610400813055501,4.610400813055501,4.642094388351268,4.709228776366015],\"type\":\"scatter\"}],                        {\"template\":{\"data\":{\"histogram2dcontour\":[{\"type\":\"histogram2dcontour\",\"colorbar\":{\"outlinewidth\":0,\"ticks\":\"\"},\"colorscale\":[[0.0,\"#0d0887\"],[0.1111111111111111,\"#46039f\"],[0.2222222222222222,\"#7201a8\"],[0.3333333333333333,\"#9c179e\"],[0.4444444444444444,\"#bd3786\"],[0.5555555555555556,\"#d8576b\"],[0.6666666666666666,\"#ed7953\"],[0.7777777777777778,\"#fb9f3a\"],[0.8888888888888888,\"#fdca26\"],[1.0,\"#f0f921\"]]}],\"choropleth\":[{\"type\":\"choropleth\",\"colorbar\":{\"outlinewidth\":0,\"ticks\":\"\"}}],\"histogram2d\":[{\"type\":\"histogram2d\",\"colorbar\":{\"outlinewidth\":0,\"ticks\":\"\"},\"colorscale\":[[0.0,\"#0d0887\"],[0.1111111111111111,\"#46039f\"],[0.2222222222222222,\"#7201a8\"],[0.3333333333333333,\"#9c179e\"],[0.4444444444444444,\"#bd3786\"],[0.5555555555555556,\"#d8576b\"],[0.6666666666666666,\"#ed7953\"],[0.7777777777777778,\"#fb9f3a\"],[0.8888888888888888,\"#fdca26\"],[1.0,\"#f0f921\"]]}],\"heatmap\":[{\"type\":\"heatmap\",\"colorbar\":{\"outlinewidth\":0,\"ticks\":\"\"},\"colorscale\":[[0.0,\"#0d0887\"],[0.1111111111111111,\"#46039f\"],[0.2222222222222222,\"#7201a8\"],[0.3333333333333333,\"#9c179e\"],[0.4444444444444444,\"#bd3786\"],[0.5555555555555556,\"#d8576b\"],[0.6666666666666666,\"#ed7953\"],[0.7777777777777778,\"#fb9f3a\"],[0.8888888888888888,\"#fdca26\"],[1.0,\"#f0f921\"]]}],\"heatmapgl\":[{\"type\":\"heatmapgl\",\"colorbar\":{\"outlinewidth\":0,\"ticks\":\"\"},\"colorscale\":[[0.0,\"#0d0887\"],[0.1111111111111111,\"#46039f\"],[0.2222222222222222,\"#7201a8\"],[0.3333333333333333,\"#9c179e\"],[0.4444444444444444,\"#bd3786\"],[0.5555555555555556,\"#d8576b\"],[0.6666666666666666,\"#ed7953\"],[0.7777777777777778,\"#fb9f3a\"],[0.8888888888888888,\"#fdca26\"],[1.0,\"#f0f921\"]]}],\"contourcarpet\":[{\"type\":\"contourcarpet\",\"colorbar\":{\"outlinewidth\":0,\"ticks\":\"\"}}],\"contour\":[{\"type\":\"contour\",\"colorbar\":{\"outlinewidth\":0,\"ticks\":\"\"},\"colorscale\":[[0.0,\"#0d0887\"],[0.1111111111111111,\"#46039f\"],[0.2222222222222222,\"#7201a8\"],[0.3333333333333333,\"#9c179e\"],[0.4444444444444444,\"#bd3786\"],[0.5555555555555556,\"#d8576b\"],[0.6666666666666666,\"#ed7953\"],[0.7777777777777778,\"#fb9f3a\"],[0.8888888888888888,\"#fdca26\"],[1.0,\"#f0f921\"]]}],\"surface\":[{\"type\":\"surface\",\"colorbar\":{\"outlinewidth\":0,\"ticks\":\"\"},\"colorscale\":[[0.0,\"#0d0887\"],[0.1111111111111111,\"#46039f\"],[0.2222222222222222,\"#7201a8\"],[0.3333333333333333,\"#9c179e\"],[0.4444444444444444,\"#bd3786\"],[0.5555555555555556,\"#d8576b\"],[0.6666666666666666,\"#ed7953\"],[0.7777777777777778,\"#fb9f3a\"],[0.8888888888888888,\"#fdca26\"],[1.0,\"#f0f921\"]]}],\"mesh3d\":[{\"type\":\"mesh3d\",\"colorbar\":{\"outlinewidth\":0,\"ticks\":\"\"}}],\"scatter\":[{\"fillpattern\":{\"fillmode\":\"overlay\",\"size\":10,\"solidity\":0.2},\"type\":\"scatter\"}],\"parcoords\":[{\"type\":\"parcoords\",\"line\":{\"colorbar\":{\"outlinewidth\":0,\"ticks\":\"\"}}}],\"scatterpolargl\":[{\"type\":\"scatterpolargl\",\"marker\":{\"colorbar\":{\"outlinewidth\":0,\"ticks\":\"\"}}}],\"bar\":[{\"error_x\":{\"color\":\"#2a3f5f\"},\"error_y\":{\"color\":\"#2a3f5f\"},\"marker\":{\"line\":{\"color\":\"#E5ECF6\",\"width\":0.5},\"pattern\":{\"fillmode\":\"overlay\",\"size\":10,\"solidity\":0.2}},\"type\":\"bar\"}],\"scattergeo\":[{\"type\":\"scattergeo\",\"marker\":{\"colorbar\":{\"outlinewidth\":0,\"ticks\":\"\"}}}],\"scatterpolar\":[{\"type\":\"scatterpolar\",\"marker\":{\"colorbar\":{\"outlinewidth\":0,\"ticks\":\"\"}}}],\"histogram\":[{\"marker\":{\"pattern\":{\"fillmode\":\"overlay\",\"size\":10,\"solidity\":0.2}},\"type\":\"histogram\"}],\"scattergl\":[{\"type\":\"scattergl\",\"marker\":{\"colorbar\":{\"outlinewidth\":0,\"ticks\":\"\"}}}],\"scatter3d\":[{\"type\":\"scatter3d\",\"line\":{\"colorbar\":{\"outlinewidth\":0,\"ticks\":\"\"}},\"marker\":{\"colorbar\":{\"outlinewidth\":0,\"ticks\":\"\"}}}],\"scattermapbox\":[{\"type\":\"scattermapbox\",\"marker\":{\"colorbar\":{\"outlinewidth\":0,\"ticks\":\"\"}}}],\"scatterternary\":[{\"type\":\"scatterternary\",\"marker\":{\"colorbar\":{\"outlinewidth\":0,\"ticks\":\"\"}}}],\"scattercarpet\":[{\"type\":\"scattercarpet\",\"marker\":{\"colorbar\":{\"outlinewidth\":0,\"ticks\":\"\"}}}],\"carpet\":[{\"aaxis\":{\"endlinecolor\":\"#2a3f5f\",\"gridcolor\":\"white\",\"linecolor\":\"white\",\"minorgridcolor\":\"white\",\"startlinecolor\":\"#2a3f5f\"},\"baxis\":{\"endlinecolor\":\"#2a3f5f\",\"gridcolor\":\"white\",\"linecolor\":\"white\",\"minorgridcolor\":\"white\",\"startlinecolor\":\"#2a3f5f\"},\"type\":\"carpet\"}],\"table\":[{\"cells\":{\"fill\":{\"color\":\"#EBF0F8\"},\"line\":{\"color\":\"white\"}},\"header\":{\"fill\":{\"color\":\"#C8D4E3\"},\"line\":{\"color\":\"white\"}},\"type\":\"table\"}],\"barpolar\":[{\"marker\":{\"line\":{\"color\":\"#E5ECF6\",\"width\":0.5},\"pattern\":{\"fillmode\":\"overlay\",\"size\":10,\"solidity\":0.2}},\"type\":\"barpolar\"}],\"pie\":[{\"automargin\":true,\"type\":\"pie\"}]},\"layout\":{\"autotypenumbers\":\"strict\",\"colorway\":[\"#636efa\",\"#EF553B\",\"#00cc96\",\"#ab63fa\",\"#FFA15A\",\"#19d3f3\",\"#FF6692\",\"#B6E880\",\"#FF97FF\",\"#FECB52\"],\"font\":{\"color\":\"#2a3f5f\"},\"hovermode\":\"closest\",\"hoverlabel\":{\"align\":\"left\"},\"paper_bgcolor\":\"white\",\"plot_bgcolor\":\"#E5ECF6\",\"polar\":{\"bgcolor\":\"#E5ECF6\",\"angularaxis\":{\"gridcolor\":\"white\",\"linecolor\":\"white\",\"ticks\":\"\"},\"radialaxis\":{\"gridcolor\":\"white\",\"linecolor\":\"white\",\"ticks\":\"\"}},\"ternary\":{\"bgcolor\":\"#E5ECF6\",\"aaxis\":{\"gridcolor\":\"white\",\"linecolor\":\"white\",\"ticks\":\"\"},\"baxis\":{\"gridcolor\":\"white\",\"linecolor\":\"white\",\"ticks\":\"\"},\"caxis\":{\"gridcolor\":\"white\",\"linecolor\":\"white\",\"ticks\":\"\"}},\"coloraxis\":{\"colorbar\":{\"outlinewidth\":0,\"ticks\":\"\"}},\"colorscale\":{\"sequential\":[[0.0,\"#0d0887\"],[0.1111111111111111,\"#46039f\"],[0.2222222222222222,\"#7201a8\"],[0.3333333333333333,\"#9c179e\"],[0.4444444444444444,\"#bd3786\"],[0.5555555555555556,\"#d8576b\"],[0.6666666666666666,\"#ed7953\"],[0.7777777777777778,\"#fb9f3a\"],[0.8888888888888888,\"#fdca26\"],[1.0,\"#f0f921\"]],\"sequentialminus\":[[0.0,\"#0d0887\"],[0.1111111111111111,\"#46039f\"],[0.2222222222222222,\"#7201a8\"],[0.3333333333333333,\"#9c179e\"],[0.4444444444444444,\"#bd3786\"],[0.5555555555555556,\"#d8576b\"],[0.6666666666666666,\"#ed7953\"],[0.7777777777777778,\"#fb9f3a\"],[0.8888888888888888,\"#fdca26\"],[1.0,\"#f0f921\"]],\"diverging\":[[0,\"#8e0152\"],[0.1,\"#c51b7d\"],[0.2,\"#de77ae\"],[0.3,\"#f1b6da\"],[0.4,\"#fde0ef\"],[0.5,\"#f7f7f7\"],[0.6,\"#e6f5d0\"],[0.7,\"#b8e186\"],[0.8,\"#7fbc41\"],[0.9,\"#4d9221\"],[1,\"#276419\"]]},\"xaxis\":{\"gridcolor\":\"white\",\"linecolor\":\"white\",\"ticks\":\"\",\"title\":{\"standoff\":15},\"zerolinecolor\":\"white\",\"automargin\":true,\"zerolinewidth\":2},\"yaxis\":{\"gridcolor\":\"white\",\"linecolor\":\"white\",\"ticks\":\"\",\"title\":{\"standoff\":15},\"zerolinecolor\":\"white\",\"automargin\":true,\"zerolinewidth\":2},\"scene\":{\"xaxis\":{\"backgroundcolor\":\"#E5ECF6\",\"gridcolor\":\"white\",\"linecolor\":\"white\",\"showbackground\":true,\"ticks\":\"\",\"zerolinecolor\":\"white\",\"gridwidth\":2},\"yaxis\":{\"backgroundcolor\":\"#E5ECF6\",\"gridcolor\":\"white\",\"linecolor\":\"white\",\"showbackground\":true,\"ticks\":\"\",\"zerolinecolor\":\"white\",\"gridwidth\":2},\"zaxis\":{\"backgroundcolor\":\"#E5ECF6\",\"gridcolor\":\"white\",\"linecolor\":\"white\",\"showbackground\":true,\"ticks\":\"\",\"zerolinecolor\":\"white\",\"gridwidth\":2}},\"shapedefaults\":{\"line\":{\"color\":\"#2a3f5f\"}},\"annotationdefaults\":{\"arrowcolor\":\"#2a3f5f\",\"arrowhead\":0,\"arrowwidth\":1},\"geo\":{\"bgcolor\":\"white\",\"landcolor\":\"#E5ECF6\",\"subunitcolor\":\"white\",\"showland\":true,\"showlakes\":true,\"lakecolor\":\"white\"},\"title\":{\"x\":0.05},\"mapbox\":{\"style\":\"light\"}}},\"xaxis\":{\"anchor\":\"y\",\"domain\":[0.0,1.0],\"title\":{\"text\":\"waiting\"}},\"yaxis\":{\"anchor\":\"x\",\"domain\":[0.0,1.0],\"title\":{\"text\":\"duration\"}},\"legend\":{\"tracegroupgap\":0},\"title\":{\"text\":\"Old Faithful Geyser Eruptions\"}},                        {\"responsive\": true}                    ).then(function(){\n",
       "                            \n",
       "var gd = document.getElementById('cefb9335-9d28-4967-b615-12d95d593541');\n",
       "var x = new MutationObserver(function (mutations, observer) {{\n",
       "        var display = window.getComputedStyle(gd).display;\n",
       "        if (!display || display === 'none') {{\n",
       "            console.log([gd, 'removed!']);\n",
       "            Plotly.purge(gd);\n",
       "            observer.disconnect();\n",
       "        }}\n",
       "}});\n",
       "\n",
       "// Listen for the removal of the full notebook cells\n",
       "var notebookContainer = gd.closest('#notebook-container');\n",
       "if (notebookContainer) {{\n",
       "    x.observe(notebookContainer, {childList: true});\n",
       "}}\n",
       "\n",
       "// Listen for the clearing of the current output cell\n",
       "var outputEl = gd.closest('.output');\n",
       "if (outputEl) {{\n",
       "    x.observe(outputEl, {childList: true});\n",
       "}}\n",
       "\n",
       "                        })                };                });            </script>        </div>"
      ]
     },
     "metadata": {},
     "output_type": "display_data"
    }
   ],
   "source": [
    "import plotly.express as px\n",
    "import seaborn as sns\n",
    "import statsmodels.api as sm\n",
    "\n",
    "# The \"Classic\" Old Faithful Geyser dataset: ask a ChatBot for more details if desired\n",
    "old_faithful = sns.load_dataset('geyser')\n",
    "\n",
    "# Create a scatter plot with a Simple Linear Regression trendline\n",
    "fig = px.scatter(old_faithful, x='waiting', y='duration', \n",
    "                 title=\"Old Faithful Geyser Eruptions\", \n",
    "                 trendline='ols')#'lowess'\n",
    "\n",
    "# Add a smoothed LOWESS Trendline to the scatter plot\n",
    "lowess = sm.nonparametric.lowess  # Adjust 'frac' to change \"smoothness bandwidth\"\n",
    "smoothed = lowess(old_faithful['duration'], old_faithful['waiting'], frac=0.25)  \n",
    "smoothed_df = pd.DataFrame(smoothed, columns=['waiting', 'smoothed_duration'])\n",
    "fig.add_scatter(x=smoothed_df['waiting'], y=smoothed_df['smoothed_duration'], \n",
    "                mode='lines', name='LOWESS Trendline')\n",
    "\n",
    "fig.show() # USE `fig.show(renderer=\"png\")` FOR ALL GitHub and MarkUs SUBMISSIONS"
   ]
  },
  {
   "cell_type": "markdown",
   "id": "b0db85ec",
   "metadata": {},
   "source": [
    "### 8. Specify a *null hypothesis* of \"no linear association (on average)\" in terms of the relevant *parameter* of the *Simple Linear Regression* model, and use the code below to characterize the evidence in the data relative to the *null hypothesis* and interpret your subsequent beliefs regarding the Old Faithful Geyser dataset.<br>\n",
    "\n",
    "<details class=\"details-example\"><summary style=\"color:blue\"><u>Further Guidance</u></summary>\n",
    "\n",
    "> _Remember that **Hypothesis Testing** is not a \"mathematical proof\"_\n",
    ">\n",
    "> - _We do not prove $H_0$ false, we instead give evidence against the $H_0$: \"We reject the null hypothesis with a p-value of XYZ, meaning we have ABC evidence against the null hypothesis\"_\n",
    "> - _We do not prove $H_0$ is true, we instead do not have evidence to reject $H_0$: \"We fail to reject the null hypothesis with a p-value of XYZ\"_\n",
    "\n",
    "|p-value|Evidence|\n",
    "|-|-|\n",
    "|$$p > 0.1$$|No evidence against the null hypothesis|\n",
    "|$$0.1 \\ge p > 0.05$$|Weak evidence against the null hypothesis|\n",
    "|$$0.05 \\ge p > 0.01$$|Moderate evidence against the null hypothesis|\n",
    "|$$0.01 \\ge p > 0.001$$|Strong evidence against the null hypothesis|\n",
    "|$$0.001 \\ge p$$|Very strong evidence against the null hypothesis|\n",
    "\n",
    "</details>    \n",
    "\n",
    "> ```python\n",
    "> import seaborn as sns\n",
    "> import statsmodels.formula.api as smf\n",
    ">\n",
    "> # The \"Classic\" Old Faithful Geyser dataset\n",
    "> old_faithful = sns.load_dataset('geyser')\n",
    "> \n",
    "> linear_for_specification = 'duration ~ waiting'\n",
    "> model = smf.ols(linear_for_specification, data=old_faithful)\n",
    "> fitted_model = model.fit()\n",
    "> fitted_model.summary()\n",
    "> ```\n"
   ]
  },
  {
   "cell_type": "code",
   "execution_count": 10,
   "id": "4cccf07b",
   "metadata": {},
   "outputs": [
    {
     "data": {
      "text/html": [
       "<table class=\"simpletable\">\n",
       "<caption>OLS Regression Results</caption>\n",
       "<tr>\n",
       "  <th>Dep. Variable:</th>        <td>duration</td>     <th>  R-squared:         </th> <td>   0.811</td> \n",
       "</tr>\n",
       "<tr>\n",
       "  <th>Model:</th>                   <td>OLS</td>       <th>  Adj. R-squared:    </th> <td>   0.811</td> \n",
       "</tr>\n",
       "<tr>\n",
       "  <th>Method:</th>             <td>Least Squares</td>  <th>  F-statistic:       </th> <td>   1162.</td> \n",
       "</tr>\n",
       "<tr>\n",
       "  <th>Date:</th>             <td>Fri, 08 Nov 2024</td> <th>  Prob (F-statistic):</th> <td>8.13e-100</td>\n",
       "</tr>\n",
       "<tr>\n",
       "  <th>Time:</th>                 <td>02:03:47</td>     <th>  Log-Likelihood:    </th> <td> -194.51</td> \n",
       "</tr>\n",
       "<tr>\n",
       "  <th>No. Observations:</th>      <td>   272</td>      <th>  AIC:               </th> <td>   393.0</td> \n",
       "</tr>\n",
       "<tr>\n",
       "  <th>Df Residuals:</th>          <td>   270</td>      <th>  BIC:               </th> <td>   400.2</td> \n",
       "</tr>\n",
       "<tr>\n",
       "  <th>Df Model:</th>              <td>     1</td>      <th>                     </th>     <td> </td>    \n",
       "</tr>\n",
       "<tr>\n",
       "  <th>Covariance Type:</th>      <td>nonrobust</td>    <th>                     </th>     <td> </td>    \n",
       "</tr>\n",
       "</table>\n",
       "<table class=\"simpletable\">\n",
       "<tr>\n",
       "      <td></td>         <th>coef</th>     <th>std err</th>      <th>t</th>      <th>P>|t|</th>  <th>[0.025</th>    <th>0.975]</th>  \n",
       "</tr>\n",
       "<tr>\n",
       "  <th>Intercept</th> <td>   -1.8740</td> <td>    0.160</td> <td>  -11.702</td> <td> 0.000</td> <td>   -2.189</td> <td>   -1.559</td>\n",
       "</tr>\n",
       "<tr>\n",
       "  <th>waiting</th>   <td>    0.0756</td> <td>    0.002</td> <td>   34.089</td> <td> 0.000</td> <td>    0.071</td> <td>    0.080</td>\n",
       "</tr>\n",
       "</table>\n",
       "<table class=\"simpletable\">\n",
       "<tr>\n",
       "  <th>Omnibus:</th>       <td> 4.133</td> <th>  Durbin-Watson:     </th> <td>   2.561</td>\n",
       "</tr>\n",
       "<tr>\n",
       "  <th>Prob(Omnibus):</th> <td> 0.127</td> <th>  Jarque-Bera (JB):  </th> <td>   3.173</td>\n",
       "</tr>\n",
       "<tr>\n",
       "  <th>Skew:</th>          <td>-0.138</td> <th>  Prob(JB):          </th> <td>   0.205</td>\n",
       "</tr>\n",
       "<tr>\n",
       "  <th>Kurtosis:</th>      <td> 2.548</td> <th>  Cond. No.          </th> <td>    384.</td>\n",
       "</tr>\n",
       "</table><br/><br/>Notes:<br/>[1] Standard Errors assume that the covariance matrix of the errors is correctly specified."
      ],
      "text/latex": [
       "\\begin{center}\n",
       "\\begin{tabular}{lclc}\n",
       "\\toprule\n",
       "\\textbf{Dep. Variable:}    &     duration     & \\textbf{  R-squared:         } &     0.811   \\\\\n",
       "\\textbf{Model:}            &       OLS        & \\textbf{  Adj. R-squared:    } &     0.811   \\\\\n",
       "\\textbf{Method:}           &  Least Squares   & \\textbf{  F-statistic:       } &     1162.   \\\\\n",
       "\\textbf{Date:}             & Fri, 08 Nov 2024 & \\textbf{  Prob (F-statistic):} & 8.13e-100   \\\\\n",
       "\\textbf{Time:}             &     02:03:47     & \\textbf{  Log-Likelihood:    } &   -194.51   \\\\\n",
       "\\textbf{No. Observations:} &         272      & \\textbf{  AIC:               } &     393.0   \\\\\n",
       "\\textbf{Df Residuals:}     &         270      & \\textbf{  BIC:               } &     400.2   \\\\\n",
       "\\textbf{Df Model:}         &           1      & \\textbf{                     } &             \\\\\n",
       "\\textbf{Covariance Type:}  &    nonrobust     & \\textbf{                     } &             \\\\\n",
       "\\bottomrule\n",
       "\\end{tabular}\n",
       "\\begin{tabular}{lcccccc}\n",
       "                   & \\textbf{coef} & \\textbf{std err} & \\textbf{t} & \\textbf{P$> |$t$|$} & \\textbf{[0.025} & \\textbf{0.975]}  \\\\\n",
       "\\midrule\n",
       "\\textbf{Intercept} &      -1.8740  &        0.160     &   -11.702  &         0.000        &       -2.189    &       -1.559     \\\\\n",
       "\\textbf{waiting}   &       0.0756  &        0.002     &    34.089  &         0.000        &        0.071    &        0.080     \\\\\n",
       "\\bottomrule\n",
       "\\end{tabular}\n",
       "\\begin{tabular}{lclc}\n",
       "\\textbf{Omnibus:}       &  4.133 & \\textbf{  Durbin-Watson:     } &    2.561  \\\\\n",
       "\\textbf{Prob(Omnibus):} &  0.127 & \\textbf{  Jarque-Bera (JB):  } &    3.173  \\\\\n",
       "\\textbf{Skew:}          & -0.138 & \\textbf{  Prob(JB):          } &    0.205  \\\\\n",
       "\\textbf{Kurtosis:}      &  2.548 & \\textbf{  Cond. No.          } &     384.  \\\\\n",
       "\\bottomrule\n",
       "\\end{tabular}\n",
       "%\\caption{OLS Regression Results}\n",
       "\\end{center}\n",
       "\n",
       "Notes: \\newline\n",
       " [1] Standard Errors assume that the covariance matrix of the errors is correctly specified."
      ],
      "text/plain": [
       "<class 'statsmodels.iolib.summary.Summary'>\n",
       "\"\"\"\n",
       "                            OLS Regression Results                            \n",
       "==============================================================================\n",
       "Dep. Variable:               duration   R-squared:                       0.811\n",
       "Model:                            OLS   Adj. R-squared:                  0.811\n",
       "Method:                 Least Squares   F-statistic:                     1162.\n",
       "Date:                Fri, 08 Nov 2024   Prob (F-statistic):          8.13e-100\n",
       "Time:                        02:03:47   Log-Likelihood:                -194.51\n",
       "No. Observations:                 272   AIC:                             393.0\n",
       "Df Residuals:                     270   BIC:                             400.2\n",
       "Df Model:                           1                                         \n",
       "Covariance Type:            nonrobust                                         \n",
       "==============================================================================\n",
       "                 coef    std err          t      P>|t|      [0.025      0.975]\n",
       "------------------------------------------------------------------------------\n",
       "Intercept     -1.8740      0.160    -11.702      0.000      -2.189      -1.559\n",
       "waiting        0.0756      0.002     34.089      0.000       0.071       0.080\n",
       "==============================================================================\n",
       "Omnibus:                        4.133   Durbin-Watson:                   2.561\n",
       "Prob(Omnibus):                  0.127   Jarque-Bera (JB):                3.173\n",
       "Skew:                          -0.138   Prob(JB):                        0.205\n",
       "Kurtosis:                       2.548   Cond. No.                         384.\n",
       "==============================================================================\n",
       "\n",
       "Notes:\n",
       "[1] Standard Errors assume that the covariance matrix of the errors is correctly specified.\n",
       "\"\"\""
      ]
     },
     "execution_count": 10,
     "metadata": {},
     "output_type": "execute_result"
    }
   ],
   "source": [
    "import seaborn as sns\n",
    "import statsmodels.formula.api as smf\n",
    "\n",
    "# The \"Classic\" Old Faithful Geyser dataset\n",
    "old_faithful = sns.load_dataset('geyser')\n",
    "\n",
    "linear_for_specification = 'duration ~ waiting'\n",
    "model = smf.ols(linear_for_specification, data=old_faithful)\n",
    "fitted_model = model.fit()\n",
    "fitted_model.summary()"
   ]
  },
  {
   "cell_type": "markdown",
   "id": "f14ba279",
   "metadata": {},
   "source": [
    "The null hypothesis would be that there is no linear association between the wating time in between eruptions and the duration of the eruption. Since the coef of waiting is 0.0756, that means for every minute extra you wait that adds 0.0756 minutes in duration time. Since the p-value is 0.000 you can reject the null hypothesis. So there is a relationship between wait times and duration. "
   ]
  },
  {
   "cell_type": "markdown",
   "id": "bd719fef",
   "metadata": {},
   "source": [
    "### 9. As seen in the introductory figure above, if the delay of the geyser eruption since the previous geyser eruption exceeds approximately 63 minutes, there is a notable increase in the duration of the geyser eruption itself. In the figure below we therefore restrict the dataset to only short wait times. Within the context of only short wait times, is there evidence in the data for a relationship between duration and wait time in the same manner as in the full data set? Using the following code, characterize the evidence against the *null hypothesis* in the context of short wait times which are less than  *short_wait_limit* values of *62*, *64*, *66*.<br>\n"
   ]
  },
  {
   "cell_type": "code",
   "execution_count": 11,
   "id": "f0cd0ffd",
   "metadata": {},
   "outputs": [
    {
     "name": "stdout",
     "output_type": "stream",
     "text": [
      "==============================================================================\n",
      "                 coef    std err          t      P>|t|      [0.025      0.975]\n",
      "------------------------------------------------------------------------------\n",
      "Intercept      1.6401      0.309      5.306      0.000       1.025       2.255\n",
      "waiting        0.0069      0.006      1.188      0.238      -0.005       0.019\n",
      "==============================================================================\n"
     ]
    },
    {
     "data": {
      "application/vnd.plotly.v1+json": {
       "config": {
        "plotlyServerURL": "https://plot.ly"
       },
       "data": [
        {
         "hovertemplate": "waiting=%{x}<br>duration=%{y}<extra></extra>",
         "legendgroup": "",
         "marker": {
          "color": "#636efa",
          "symbol": "circle"
         },
         "mode": "markers",
         "name": "",
         "orientation": "v",
         "showlegend": false,
         "type": "scatter",
         "x": [
          54,
          55,
          51,
          54,
          47,
          52,
          52,
          51,
          47,
          55,
          52,
          48,
          59,
          58,
          58,
          53,
          59,
          54,
          54,
          59,
          48,
          60,
          56,
          60,
          48,
          60,
          50,
          51,
          49,
          47,
          52,
          59,
          59,
          50,
          59,
          53,
          56,
          45,
          55,
          45,
          56,
          46,
          51,
          53,
          60,
          59,
          49,
          53,
          53,
          45,
          58,
          52,
          49,
          57,
          50,
          55,
          51,
          46,
          55,
          57,
          51,
          60,
          53,
          46,
          49,
          49,
          53,
          55,
          50,
          54,
          54,
          50,
          54,
          54,
          47,
          57,
          54,
          56,
          58,
          43,
          60,
          46,
          46
         ],
         "xaxis": "x",
         "y": [
          1.8,
          2.883,
          1.95,
          1.833,
          1.75,
          2.167,
          1.6,
          1.8,
          1.75,
          1.967,
          2.017,
          1.867,
          1.833,
          1.883,
          1.75,
          2.1,
          2,
          1.833,
          1.733,
          2.233,
          1.75,
          1.817,
          1.967,
          2.017,
          2.167,
          2.2,
          1.867,
          1.867,
          2.1,
          1.867,
          1.783,
          2.3,
          1.7,
          2.317,
          1.817,
          2.617,
          1.967,
          1.917,
          2.267,
          1.867,
          2.8,
          1.833,
          1.883,
          2.033,
          2.233,
          1.983,
          2.017,
          1.8,
          1.8,
          2.2,
          2,
          1.933,
          1.917,
          2.083,
          2.417,
          1.883,
          2.033,
          1.833,
          2.1830000000000003,
          1.833,
          2.25,
          2.1,
          1.867,
          1.783,
          1.933,
          1.867,
          2.4,
          2,
          1.867,
          1.75,
          2.417,
          2.217,
          1.883,
          1.85,
          2.35,
          2.083,
          2.2,
          2,
          1.85,
          1.983,
          2.25,
          2.15,
          1.817
         ],
         "yaxis": "y"
        },
        {
         "hovertemplate": "<b>OLS trendline</b><br>duration = 0.00691825 * waiting + 1.64008<br>R<sup>2</sup>=0.017113<br><br>waiting=%{x}<br>duration=%{y} <b>(trend)</b><extra></extra>",
         "legendgroup": "",
         "marker": {
          "color": "#636efa",
          "symbol": "circle"
         },
         "mode": "lines",
         "name": "",
         "showlegend": false,
         "type": "scatter",
         "x": [
          43,
          45,
          45,
          45,
          46,
          46,
          46,
          46,
          46,
          47,
          47,
          47,
          47,
          48,
          48,
          48,
          49,
          49,
          49,
          49,
          49,
          50,
          50,
          50,
          50,
          50,
          51,
          51,
          51,
          51,
          51,
          51,
          52,
          52,
          52,
          52,
          52,
          53,
          53,
          53,
          53,
          53,
          53,
          53,
          54,
          54,
          54,
          54,
          54,
          54,
          54,
          54,
          54,
          55,
          55,
          55,
          55,
          55,
          55,
          56,
          56,
          56,
          56,
          57,
          57,
          57,
          58,
          58,
          58,
          58,
          59,
          59,
          59,
          59,
          59,
          59,
          59,
          60,
          60,
          60,
          60,
          60,
          60
         ],
         "xaxis": "x",
         "y": [
          1.9375657137914635,
          1.9514022113624248,
          1.9514022113624248,
          1.9514022113624248,
          1.9583204601479052,
          1.9583204601479052,
          1.9583204601479052,
          1.9583204601479052,
          1.9583204601479052,
          1.9652387089333858,
          1.9652387089333858,
          1.9652387089333858,
          1.9652387089333858,
          1.9721569577188665,
          1.9721569577188665,
          1.9721569577188665,
          1.9790752065043469,
          1.9790752065043469,
          1.9790752065043469,
          1.9790752065043469,
          1.9790752065043469,
          1.9859934552898275,
          1.9859934552898275,
          1.9859934552898275,
          1.9859934552898275,
          1.9859934552898275,
          1.9929117040753082,
          1.9929117040753082,
          1.9929117040753082,
          1.9929117040753082,
          1.9929117040753082,
          1.9929117040753082,
          1.9998299528607888,
          1.9998299528607888,
          1.9998299528607888,
          1.9998299528607888,
          1.9998299528607888,
          2.0067482016462694,
          2.0067482016462694,
          2.0067482016462694,
          2.0067482016462694,
          2.0067482016462694,
          2.0067482016462694,
          2.0067482016462694,
          2.01366645043175,
          2.01366645043175,
          2.01366645043175,
          2.01366645043175,
          2.01366645043175,
          2.01366645043175,
          2.01366645043175,
          2.01366645043175,
          2.01366645043175,
          2.0205846992172303,
          2.0205846992172303,
          2.0205846992172303,
          2.0205846992172303,
          2.0205846992172303,
          2.0205846992172303,
          2.027502948002711,
          2.027502948002711,
          2.027502948002711,
          2.027502948002711,
          2.0344211967881916,
          2.0344211967881916,
          2.0344211967881916,
          2.0413394455736724,
          2.0413394455736724,
          2.0413394455736724,
          2.0413394455736724,
          2.048257694359153,
          2.048257694359153,
          2.048257694359153,
          2.048257694359153,
          2.048257694359153,
          2.048257694359153,
          2.048257694359153,
          2.0551759431446337,
          2.0551759431446337,
          2.0551759431446337,
          2.0551759431446337,
          2.0551759431446337,
          2.0551759431446337
         ],
         "yaxis": "y"
        }
       ],
       "layout": {
        "legend": {
         "tracegroupgap": 0
        },
        "template": {
         "data": {
          "bar": [
           {
            "error_x": {
             "color": "#2a3f5f"
            },
            "error_y": {
             "color": "#2a3f5f"
            },
            "marker": {
             "line": {
              "color": "#E5ECF6",
              "width": 0.5
             },
             "pattern": {
              "fillmode": "overlay",
              "size": 10,
              "solidity": 0.2
             }
            },
            "type": "bar"
           }
          ],
          "barpolar": [
           {
            "marker": {
             "line": {
              "color": "#E5ECF6",
              "width": 0.5
             },
             "pattern": {
              "fillmode": "overlay",
              "size": 10,
              "solidity": 0.2
             }
            },
            "type": "barpolar"
           }
          ],
          "carpet": [
           {
            "aaxis": {
             "endlinecolor": "#2a3f5f",
             "gridcolor": "white",
             "linecolor": "white",
             "minorgridcolor": "white",
             "startlinecolor": "#2a3f5f"
            },
            "baxis": {
             "endlinecolor": "#2a3f5f",
             "gridcolor": "white",
             "linecolor": "white",
             "minorgridcolor": "white",
             "startlinecolor": "#2a3f5f"
            },
            "type": "carpet"
           }
          ],
          "choropleth": [
           {
            "colorbar": {
             "outlinewidth": 0,
             "ticks": ""
            },
            "type": "choropleth"
           }
          ],
          "contour": [
           {
            "colorbar": {
             "outlinewidth": 0,
             "ticks": ""
            },
            "colorscale": [
             [
              0,
              "#0d0887"
             ],
             [
              0.1111111111111111,
              "#46039f"
             ],
             [
              0.2222222222222222,
              "#7201a8"
             ],
             [
              0.3333333333333333,
              "#9c179e"
             ],
             [
              0.4444444444444444,
              "#bd3786"
             ],
             [
              0.5555555555555556,
              "#d8576b"
             ],
             [
              0.6666666666666666,
              "#ed7953"
             ],
             [
              0.7777777777777778,
              "#fb9f3a"
             ],
             [
              0.8888888888888888,
              "#fdca26"
             ],
             [
              1,
              "#f0f921"
             ]
            ],
            "type": "contour"
           }
          ],
          "contourcarpet": [
           {
            "colorbar": {
             "outlinewidth": 0,
             "ticks": ""
            },
            "type": "contourcarpet"
           }
          ],
          "heatmap": [
           {
            "colorbar": {
             "outlinewidth": 0,
             "ticks": ""
            },
            "colorscale": [
             [
              0,
              "#0d0887"
             ],
             [
              0.1111111111111111,
              "#46039f"
             ],
             [
              0.2222222222222222,
              "#7201a8"
             ],
             [
              0.3333333333333333,
              "#9c179e"
             ],
             [
              0.4444444444444444,
              "#bd3786"
             ],
             [
              0.5555555555555556,
              "#d8576b"
             ],
             [
              0.6666666666666666,
              "#ed7953"
             ],
             [
              0.7777777777777778,
              "#fb9f3a"
             ],
             [
              0.8888888888888888,
              "#fdca26"
             ],
             [
              1,
              "#f0f921"
             ]
            ],
            "type": "heatmap"
           }
          ],
          "heatmapgl": [
           {
            "colorbar": {
             "outlinewidth": 0,
             "ticks": ""
            },
            "colorscale": [
             [
              0,
              "#0d0887"
             ],
             [
              0.1111111111111111,
              "#46039f"
             ],
             [
              0.2222222222222222,
              "#7201a8"
             ],
             [
              0.3333333333333333,
              "#9c179e"
             ],
             [
              0.4444444444444444,
              "#bd3786"
             ],
             [
              0.5555555555555556,
              "#d8576b"
             ],
             [
              0.6666666666666666,
              "#ed7953"
             ],
             [
              0.7777777777777778,
              "#fb9f3a"
             ],
             [
              0.8888888888888888,
              "#fdca26"
             ],
             [
              1,
              "#f0f921"
             ]
            ],
            "type": "heatmapgl"
           }
          ],
          "histogram": [
           {
            "marker": {
             "pattern": {
              "fillmode": "overlay",
              "size": 10,
              "solidity": 0.2
             }
            },
            "type": "histogram"
           }
          ],
          "histogram2d": [
           {
            "colorbar": {
             "outlinewidth": 0,
             "ticks": ""
            },
            "colorscale": [
             [
              0,
              "#0d0887"
             ],
             [
              0.1111111111111111,
              "#46039f"
             ],
             [
              0.2222222222222222,
              "#7201a8"
             ],
             [
              0.3333333333333333,
              "#9c179e"
             ],
             [
              0.4444444444444444,
              "#bd3786"
             ],
             [
              0.5555555555555556,
              "#d8576b"
             ],
             [
              0.6666666666666666,
              "#ed7953"
             ],
             [
              0.7777777777777778,
              "#fb9f3a"
             ],
             [
              0.8888888888888888,
              "#fdca26"
             ],
             [
              1,
              "#f0f921"
             ]
            ],
            "type": "histogram2d"
           }
          ],
          "histogram2dcontour": [
           {
            "colorbar": {
             "outlinewidth": 0,
             "ticks": ""
            },
            "colorscale": [
             [
              0,
              "#0d0887"
             ],
             [
              0.1111111111111111,
              "#46039f"
             ],
             [
              0.2222222222222222,
              "#7201a8"
             ],
             [
              0.3333333333333333,
              "#9c179e"
             ],
             [
              0.4444444444444444,
              "#bd3786"
             ],
             [
              0.5555555555555556,
              "#d8576b"
             ],
             [
              0.6666666666666666,
              "#ed7953"
             ],
             [
              0.7777777777777778,
              "#fb9f3a"
             ],
             [
              0.8888888888888888,
              "#fdca26"
             ],
             [
              1,
              "#f0f921"
             ]
            ],
            "type": "histogram2dcontour"
           }
          ],
          "mesh3d": [
           {
            "colorbar": {
             "outlinewidth": 0,
             "ticks": ""
            },
            "type": "mesh3d"
           }
          ],
          "parcoords": [
           {
            "line": {
             "colorbar": {
              "outlinewidth": 0,
              "ticks": ""
             }
            },
            "type": "parcoords"
           }
          ],
          "pie": [
           {
            "automargin": true,
            "type": "pie"
           }
          ],
          "scatter": [
           {
            "fillpattern": {
             "fillmode": "overlay",
             "size": 10,
             "solidity": 0.2
            },
            "type": "scatter"
           }
          ],
          "scatter3d": [
           {
            "line": {
             "colorbar": {
              "outlinewidth": 0,
              "ticks": ""
             }
            },
            "marker": {
             "colorbar": {
              "outlinewidth": 0,
              "ticks": ""
             }
            },
            "type": "scatter3d"
           }
          ],
          "scattercarpet": [
           {
            "marker": {
             "colorbar": {
              "outlinewidth": 0,
              "ticks": ""
             }
            },
            "type": "scattercarpet"
           }
          ],
          "scattergeo": [
           {
            "marker": {
             "colorbar": {
              "outlinewidth": 0,
              "ticks": ""
             }
            },
            "type": "scattergeo"
           }
          ],
          "scattergl": [
           {
            "marker": {
             "colorbar": {
              "outlinewidth": 0,
              "ticks": ""
             }
            },
            "type": "scattergl"
           }
          ],
          "scattermapbox": [
           {
            "marker": {
             "colorbar": {
              "outlinewidth": 0,
              "ticks": ""
             }
            },
            "type": "scattermapbox"
           }
          ],
          "scatterpolar": [
           {
            "marker": {
             "colorbar": {
              "outlinewidth": 0,
              "ticks": ""
             }
            },
            "type": "scatterpolar"
           }
          ],
          "scatterpolargl": [
           {
            "marker": {
             "colorbar": {
              "outlinewidth": 0,
              "ticks": ""
             }
            },
            "type": "scatterpolargl"
           }
          ],
          "scatterternary": [
           {
            "marker": {
             "colorbar": {
              "outlinewidth": 0,
              "ticks": ""
             }
            },
            "type": "scatterternary"
           }
          ],
          "surface": [
           {
            "colorbar": {
             "outlinewidth": 0,
             "ticks": ""
            },
            "colorscale": [
             [
              0,
              "#0d0887"
             ],
             [
              0.1111111111111111,
              "#46039f"
             ],
             [
              0.2222222222222222,
              "#7201a8"
             ],
             [
              0.3333333333333333,
              "#9c179e"
             ],
             [
              0.4444444444444444,
              "#bd3786"
             ],
             [
              0.5555555555555556,
              "#d8576b"
             ],
             [
              0.6666666666666666,
              "#ed7953"
             ],
             [
              0.7777777777777778,
              "#fb9f3a"
             ],
             [
              0.8888888888888888,
              "#fdca26"
             ],
             [
              1,
              "#f0f921"
             ]
            ],
            "type": "surface"
           }
          ],
          "table": [
           {
            "cells": {
             "fill": {
              "color": "#EBF0F8"
             },
             "line": {
              "color": "white"
             }
            },
            "header": {
             "fill": {
              "color": "#C8D4E3"
             },
             "line": {
              "color": "white"
             }
            },
            "type": "table"
           }
          ]
         },
         "layout": {
          "annotationdefaults": {
           "arrowcolor": "#2a3f5f",
           "arrowhead": 0,
           "arrowwidth": 1
          },
          "autotypenumbers": "strict",
          "coloraxis": {
           "colorbar": {
            "outlinewidth": 0,
            "ticks": ""
           }
          },
          "colorscale": {
           "diverging": [
            [
             0,
             "#8e0152"
            ],
            [
             0.1,
             "#c51b7d"
            ],
            [
             0.2,
             "#de77ae"
            ],
            [
             0.3,
             "#f1b6da"
            ],
            [
             0.4,
             "#fde0ef"
            ],
            [
             0.5,
             "#f7f7f7"
            ],
            [
             0.6,
             "#e6f5d0"
            ],
            [
             0.7,
             "#b8e186"
            ],
            [
             0.8,
             "#7fbc41"
            ],
            [
             0.9,
             "#4d9221"
            ],
            [
             1,
             "#276419"
            ]
           ],
           "sequential": [
            [
             0,
             "#0d0887"
            ],
            [
             0.1111111111111111,
             "#46039f"
            ],
            [
             0.2222222222222222,
             "#7201a8"
            ],
            [
             0.3333333333333333,
             "#9c179e"
            ],
            [
             0.4444444444444444,
             "#bd3786"
            ],
            [
             0.5555555555555556,
             "#d8576b"
            ],
            [
             0.6666666666666666,
             "#ed7953"
            ],
            [
             0.7777777777777778,
             "#fb9f3a"
            ],
            [
             0.8888888888888888,
             "#fdca26"
            ],
            [
             1,
             "#f0f921"
            ]
           ],
           "sequentialminus": [
            [
             0,
             "#0d0887"
            ],
            [
             0.1111111111111111,
             "#46039f"
            ],
            [
             0.2222222222222222,
             "#7201a8"
            ],
            [
             0.3333333333333333,
             "#9c179e"
            ],
            [
             0.4444444444444444,
             "#bd3786"
            ],
            [
             0.5555555555555556,
             "#d8576b"
            ],
            [
             0.6666666666666666,
             "#ed7953"
            ],
            [
             0.7777777777777778,
             "#fb9f3a"
            ],
            [
             0.8888888888888888,
             "#fdca26"
            ],
            [
             1,
             "#f0f921"
            ]
           ]
          },
          "colorway": [
           "#636efa",
           "#EF553B",
           "#00cc96",
           "#ab63fa",
           "#FFA15A",
           "#19d3f3",
           "#FF6692",
           "#B6E880",
           "#FF97FF",
           "#FECB52"
          ],
          "font": {
           "color": "#2a3f5f"
          },
          "geo": {
           "bgcolor": "white",
           "lakecolor": "white",
           "landcolor": "#E5ECF6",
           "showlakes": true,
           "showland": true,
           "subunitcolor": "white"
          },
          "hoverlabel": {
           "align": "left"
          },
          "hovermode": "closest",
          "mapbox": {
           "style": "light"
          },
          "paper_bgcolor": "white",
          "plot_bgcolor": "#E5ECF6",
          "polar": {
           "angularaxis": {
            "gridcolor": "white",
            "linecolor": "white",
            "ticks": ""
           },
           "bgcolor": "#E5ECF6",
           "radialaxis": {
            "gridcolor": "white",
            "linecolor": "white",
            "ticks": ""
           }
          },
          "scene": {
           "xaxis": {
            "backgroundcolor": "#E5ECF6",
            "gridcolor": "white",
            "gridwidth": 2,
            "linecolor": "white",
            "showbackground": true,
            "ticks": "",
            "zerolinecolor": "white"
           },
           "yaxis": {
            "backgroundcolor": "#E5ECF6",
            "gridcolor": "white",
            "gridwidth": 2,
            "linecolor": "white",
            "showbackground": true,
            "ticks": "",
            "zerolinecolor": "white"
           },
           "zaxis": {
            "backgroundcolor": "#E5ECF6",
            "gridcolor": "white",
            "gridwidth": 2,
            "linecolor": "white",
            "showbackground": true,
            "ticks": "",
            "zerolinecolor": "white"
           }
          },
          "shapedefaults": {
           "line": {
            "color": "#2a3f5f"
           }
          },
          "ternary": {
           "aaxis": {
            "gridcolor": "white",
            "linecolor": "white",
            "ticks": ""
           },
           "baxis": {
            "gridcolor": "white",
            "linecolor": "white",
            "ticks": ""
           },
           "bgcolor": "#E5ECF6",
           "caxis": {
            "gridcolor": "white",
            "linecolor": "white",
            "ticks": ""
           }
          },
          "title": {
           "x": 0.05
          },
          "xaxis": {
           "automargin": true,
           "gridcolor": "white",
           "linecolor": "white",
           "ticks": "",
           "title": {
            "standoff": 15
           },
           "zerolinecolor": "white",
           "zerolinewidth": 2
          },
          "yaxis": {
           "automargin": true,
           "gridcolor": "white",
           "linecolor": "white",
           "ticks": "",
           "title": {
            "standoff": 15
           },
           "zerolinecolor": "white",
           "zerolinewidth": 2
          }
         }
        },
        "title": {
         "text": "Old Faithful Geyser Eruptions for short wait times (<62)"
        },
        "xaxis": {
         "anchor": "y",
         "domain": [
          0,
          1
         ],
         "title": {
          "text": "waiting"
         }
        },
        "yaxis": {
         "anchor": "x",
         "domain": [
          0,
          1
         ],
         "title": {
          "text": "duration"
         }
        }
       }
      },
      "text/html": [
       "<div>                            <div id=\"9ea268a1-011e-46cd-962b-041dd6f8976c\" class=\"plotly-graph-div\" style=\"height:525px; width:100%;\"></div>            <script type=\"text/javascript\">                require([\"plotly\"], function(Plotly) {                    window.PLOTLYENV=window.PLOTLYENV || {};                                    if (document.getElementById(\"9ea268a1-011e-46cd-962b-041dd6f8976c\")) {                    Plotly.newPlot(                        \"9ea268a1-011e-46cd-962b-041dd6f8976c\",                        [{\"hovertemplate\":\"waiting=%{x}\\u003cbr\\u003eduration=%{y}\\u003cextra\\u003e\\u003c\\u002fextra\\u003e\",\"legendgroup\":\"\",\"marker\":{\"color\":\"#636efa\",\"symbol\":\"circle\"},\"mode\":\"markers\",\"name\":\"\",\"orientation\":\"v\",\"showlegend\":false,\"x\":[54,55,51,54,47,52,52,51,47,55,52,48,59,58,58,53,59,54,54,59,48,60,56,60,48,60,50,51,49,47,52,59,59,50,59,53,56,45,55,45,56,46,51,53,60,59,49,53,53,45,58,52,49,57,50,55,51,46,55,57,51,60,53,46,49,49,53,55,50,54,54,50,54,54,47,57,54,56,58,43,60,46,46],\"xaxis\":\"x\",\"y\":[1.8,2.883,1.95,1.833,1.75,2.167,1.6,1.8,1.75,1.967,2.017,1.867,1.833,1.883,1.75,2.1,2.0,1.833,1.733,2.233,1.75,1.817,1.967,2.017,2.167,2.2,1.867,1.867,2.1,1.867,1.783,2.3,1.7,2.317,1.817,2.617,1.967,1.917,2.267,1.867,2.8,1.833,1.883,2.033,2.233,1.983,2.017,1.8,1.8,2.2,2.0,1.933,1.917,2.083,2.417,1.883,2.033,1.833,2.1830000000000003,1.833,2.25,2.1,1.867,1.783,1.933,1.867,2.4,2.0,1.867,1.75,2.417,2.217,1.883,1.85,2.35,2.083,2.2,2.0,1.85,1.983,2.25,2.15,1.817],\"yaxis\":\"y\",\"type\":\"scatter\"},{\"hovertemplate\":\"\\u003cb\\u003eOLS trendline\\u003c\\u002fb\\u003e\\u003cbr\\u003eduration = 0.00691825 * waiting + 1.64008\\u003cbr\\u003eR\\u003csup\\u003e2\\u003c\\u002fsup\\u003e=0.017113\\u003cbr\\u003e\\u003cbr\\u003ewaiting=%{x}\\u003cbr\\u003eduration=%{y} \\u003cb\\u003e(trend)\\u003c\\u002fb\\u003e\\u003cextra\\u003e\\u003c\\u002fextra\\u003e\",\"legendgroup\":\"\",\"marker\":{\"color\":\"#636efa\",\"symbol\":\"circle\"},\"mode\":\"lines\",\"name\":\"\",\"showlegend\":false,\"x\":[43,45,45,45,46,46,46,46,46,47,47,47,47,48,48,48,49,49,49,49,49,50,50,50,50,50,51,51,51,51,51,51,52,52,52,52,52,53,53,53,53,53,53,53,54,54,54,54,54,54,54,54,54,55,55,55,55,55,55,56,56,56,56,57,57,57,58,58,58,58,59,59,59,59,59,59,59,60,60,60,60,60,60],\"xaxis\":\"x\",\"y\":[1.9375657137914635,1.9514022113624248,1.9514022113624248,1.9514022113624248,1.9583204601479052,1.9583204601479052,1.9583204601479052,1.9583204601479052,1.9583204601479052,1.9652387089333858,1.9652387089333858,1.9652387089333858,1.9652387089333858,1.9721569577188665,1.9721569577188665,1.9721569577188665,1.9790752065043469,1.9790752065043469,1.9790752065043469,1.9790752065043469,1.9790752065043469,1.9859934552898275,1.9859934552898275,1.9859934552898275,1.9859934552898275,1.9859934552898275,1.9929117040753082,1.9929117040753082,1.9929117040753082,1.9929117040753082,1.9929117040753082,1.9929117040753082,1.9998299528607888,1.9998299528607888,1.9998299528607888,1.9998299528607888,1.9998299528607888,2.0067482016462694,2.0067482016462694,2.0067482016462694,2.0067482016462694,2.0067482016462694,2.0067482016462694,2.0067482016462694,2.01366645043175,2.01366645043175,2.01366645043175,2.01366645043175,2.01366645043175,2.01366645043175,2.01366645043175,2.01366645043175,2.01366645043175,2.0205846992172303,2.0205846992172303,2.0205846992172303,2.0205846992172303,2.0205846992172303,2.0205846992172303,2.027502948002711,2.027502948002711,2.027502948002711,2.027502948002711,2.0344211967881916,2.0344211967881916,2.0344211967881916,2.0413394455736724,2.0413394455736724,2.0413394455736724,2.0413394455736724,2.048257694359153,2.048257694359153,2.048257694359153,2.048257694359153,2.048257694359153,2.048257694359153,2.048257694359153,2.0551759431446337,2.0551759431446337,2.0551759431446337,2.0551759431446337,2.0551759431446337,2.0551759431446337],\"yaxis\":\"y\",\"type\":\"scatter\"}],                        {\"template\":{\"data\":{\"histogram2dcontour\":[{\"type\":\"histogram2dcontour\",\"colorbar\":{\"outlinewidth\":0,\"ticks\":\"\"},\"colorscale\":[[0.0,\"#0d0887\"],[0.1111111111111111,\"#46039f\"],[0.2222222222222222,\"#7201a8\"],[0.3333333333333333,\"#9c179e\"],[0.4444444444444444,\"#bd3786\"],[0.5555555555555556,\"#d8576b\"],[0.6666666666666666,\"#ed7953\"],[0.7777777777777778,\"#fb9f3a\"],[0.8888888888888888,\"#fdca26\"],[1.0,\"#f0f921\"]]}],\"choropleth\":[{\"type\":\"choropleth\",\"colorbar\":{\"outlinewidth\":0,\"ticks\":\"\"}}],\"histogram2d\":[{\"type\":\"histogram2d\",\"colorbar\":{\"outlinewidth\":0,\"ticks\":\"\"},\"colorscale\":[[0.0,\"#0d0887\"],[0.1111111111111111,\"#46039f\"],[0.2222222222222222,\"#7201a8\"],[0.3333333333333333,\"#9c179e\"],[0.4444444444444444,\"#bd3786\"],[0.5555555555555556,\"#d8576b\"],[0.6666666666666666,\"#ed7953\"],[0.7777777777777778,\"#fb9f3a\"],[0.8888888888888888,\"#fdca26\"],[1.0,\"#f0f921\"]]}],\"heatmap\":[{\"type\":\"heatmap\",\"colorbar\":{\"outlinewidth\":0,\"ticks\":\"\"},\"colorscale\":[[0.0,\"#0d0887\"],[0.1111111111111111,\"#46039f\"],[0.2222222222222222,\"#7201a8\"],[0.3333333333333333,\"#9c179e\"],[0.4444444444444444,\"#bd3786\"],[0.5555555555555556,\"#d8576b\"],[0.6666666666666666,\"#ed7953\"],[0.7777777777777778,\"#fb9f3a\"],[0.8888888888888888,\"#fdca26\"],[1.0,\"#f0f921\"]]}],\"heatmapgl\":[{\"type\":\"heatmapgl\",\"colorbar\":{\"outlinewidth\":0,\"ticks\":\"\"},\"colorscale\":[[0.0,\"#0d0887\"],[0.1111111111111111,\"#46039f\"],[0.2222222222222222,\"#7201a8\"],[0.3333333333333333,\"#9c179e\"],[0.4444444444444444,\"#bd3786\"],[0.5555555555555556,\"#d8576b\"],[0.6666666666666666,\"#ed7953\"],[0.7777777777777778,\"#fb9f3a\"],[0.8888888888888888,\"#fdca26\"],[1.0,\"#f0f921\"]]}],\"contourcarpet\":[{\"type\":\"contourcarpet\",\"colorbar\":{\"outlinewidth\":0,\"ticks\":\"\"}}],\"contour\":[{\"type\":\"contour\",\"colorbar\":{\"outlinewidth\":0,\"ticks\":\"\"},\"colorscale\":[[0.0,\"#0d0887\"],[0.1111111111111111,\"#46039f\"],[0.2222222222222222,\"#7201a8\"],[0.3333333333333333,\"#9c179e\"],[0.4444444444444444,\"#bd3786\"],[0.5555555555555556,\"#d8576b\"],[0.6666666666666666,\"#ed7953\"],[0.7777777777777778,\"#fb9f3a\"],[0.8888888888888888,\"#fdca26\"],[1.0,\"#f0f921\"]]}],\"surface\":[{\"type\":\"surface\",\"colorbar\":{\"outlinewidth\":0,\"ticks\":\"\"},\"colorscale\":[[0.0,\"#0d0887\"],[0.1111111111111111,\"#46039f\"],[0.2222222222222222,\"#7201a8\"],[0.3333333333333333,\"#9c179e\"],[0.4444444444444444,\"#bd3786\"],[0.5555555555555556,\"#d8576b\"],[0.6666666666666666,\"#ed7953\"],[0.7777777777777778,\"#fb9f3a\"],[0.8888888888888888,\"#fdca26\"],[1.0,\"#f0f921\"]]}],\"mesh3d\":[{\"type\":\"mesh3d\",\"colorbar\":{\"outlinewidth\":0,\"ticks\":\"\"}}],\"scatter\":[{\"fillpattern\":{\"fillmode\":\"overlay\",\"size\":10,\"solidity\":0.2},\"type\":\"scatter\"}],\"parcoords\":[{\"type\":\"parcoords\",\"line\":{\"colorbar\":{\"outlinewidth\":0,\"ticks\":\"\"}}}],\"scatterpolargl\":[{\"type\":\"scatterpolargl\",\"marker\":{\"colorbar\":{\"outlinewidth\":0,\"ticks\":\"\"}}}],\"bar\":[{\"error_x\":{\"color\":\"#2a3f5f\"},\"error_y\":{\"color\":\"#2a3f5f\"},\"marker\":{\"line\":{\"color\":\"#E5ECF6\",\"width\":0.5},\"pattern\":{\"fillmode\":\"overlay\",\"size\":10,\"solidity\":0.2}},\"type\":\"bar\"}],\"scattergeo\":[{\"type\":\"scattergeo\",\"marker\":{\"colorbar\":{\"outlinewidth\":0,\"ticks\":\"\"}}}],\"scatterpolar\":[{\"type\":\"scatterpolar\",\"marker\":{\"colorbar\":{\"outlinewidth\":0,\"ticks\":\"\"}}}],\"histogram\":[{\"marker\":{\"pattern\":{\"fillmode\":\"overlay\",\"size\":10,\"solidity\":0.2}},\"type\":\"histogram\"}],\"scattergl\":[{\"type\":\"scattergl\",\"marker\":{\"colorbar\":{\"outlinewidth\":0,\"ticks\":\"\"}}}],\"scatter3d\":[{\"type\":\"scatter3d\",\"line\":{\"colorbar\":{\"outlinewidth\":0,\"ticks\":\"\"}},\"marker\":{\"colorbar\":{\"outlinewidth\":0,\"ticks\":\"\"}}}],\"scattermapbox\":[{\"type\":\"scattermapbox\",\"marker\":{\"colorbar\":{\"outlinewidth\":0,\"ticks\":\"\"}}}],\"scatterternary\":[{\"type\":\"scatterternary\",\"marker\":{\"colorbar\":{\"outlinewidth\":0,\"ticks\":\"\"}}}],\"scattercarpet\":[{\"type\":\"scattercarpet\",\"marker\":{\"colorbar\":{\"outlinewidth\":0,\"ticks\":\"\"}}}],\"carpet\":[{\"aaxis\":{\"endlinecolor\":\"#2a3f5f\",\"gridcolor\":\"white\",\"linecolor\":\"white\",\"minorgridcolor\":\"white\",\"startlinecolor\":\"#2a3f5f\"},\"baxis\":{\"endlinecolor\":\"#2a3f5f\",\"gridcolor\":\"white\",\"linecolor\":\"white\",\"minorgridcolor\":\"white\",\"startlinecolor\":\"#2a3f5f\"},\"type\":\"carpet\"}],\"table\":[{\"cells\":{\"fill\":{\"color\":\"#EBF0F8\"},\"line\":{\"color\":\"white\"}},\"header\":{\"fill\":{\"color\":\"#C8D4E3\"},\"line\":{\"color\":\"white\"}},\"type\":\"table\"}],\"barpolar\":[{\"marker\":{\"line\":{\"color\":\"#E5ECF6\",\"width\":0.5},\"pattern\":{\"fillmode\":\"overlay\",\"size\":10,\"solidity\":0.2}},\"type\":\"barpolar\"}],\"pie\":[{\"automargin\":true,\"type\":\"pie\"}]},\"layout\":{\"autotypenumbers\":\"strict\",\"colorway\":[\"#636efa\",\"#EF553B\",\"#00cc96\",\"#ab63fa\",\"#FFA15A\",\"#19d3f3\",\"#FF6692\",\"#B6E880\",\"#FF97FF\",\"#FECB52\"],\"font\":{\"color\":\"#2a3f5f\"},\"hovermode\":\"closest\",\"hoverlabel\":{\"align\":\"left\"},\"paper_bgcolor\":\"white\",\"plot_bgcolor\":\"#E5ECF6\",\"polar\":{\"bgcolor\":\"#E5ECF6\",\"angularaxis\":{\"gridcolor\":\"white\",\"linecolor\":\"white\",\"ticks\":\"\"},\"radialaxis\":{\"gridcolor\":\"white\",\"linecolor\":\"white\",\"ticks\":\"\"}},\"ternary\":{\"bgcolor\":\"#E5ECF6\",\"aaxis\":{\"gridcolor\":\"white\",\"linecolor\":\"white\",\"ticks\":\"\"},\"baxis\":{\"gridcolor\":\"white\",\"linecolor\":\"white\",\"ticks\":\"\"},\"caxis\":{\"gridcolor\":\"white\",\"linecolor\":\"white\",\"ticks\":\"\"}},\"coloraxis\":{\"colorbar\":{\"outlinewidth\":0,\"ticks\":\"\"}},\"colorscale\":{\"sequential\":[[0.0,\"#0d0887\"],[0.1111111111111111,\"#46039f\"],[0.2222222222222222,\"#7201a8\"],[0.3333333333333333,\"#9c179e\"],[0.4444444444444444,\"#bd3786\"],[0.5555555555555556,\"#d8576b\"],[0.6666666666666666,\"#ed7953\"],[0.7777777777777778,\"#fb9f3a\"],[0.8888888888888888,\"#fdca26\"],[1.0,\"#f0f921\"]],\"sequentialminus\":[[0.0,\"#0d0887\"],[0.1111111111111111,\"#46039f\"],[0.2222222222222222,\"#7201a8\"],[0.3333333333333333,\"#9c179e\"],[0.4444444444444444,\"#bd3786\"],[0.5555555555555556,\"#d8576b\"],[0.6666666666666666,\"#ed7953\"],[0.7777777777777778,\"#fb9f3a\"],[0.8888888888888888,\"#fdca26\"],[1.0,\"#f0f921\"]],\"diverging\":[[0,\"#8e0152\"],[0.1,\"#c51b7d\"],[0.2,\"#de77ae\"],[0.3,\"#f1b6da\"],[0.4,\"#fde0ef\"],[0.5,\"#f7f7f7\"],[0.6,\"#e6f5d0\"],[0.7,\"#b8e186\"],[0.8,\"#7fbc41\"],[0.9,\"#4d9221\"],[1,\"#276419\"]]},\"xaxis\":{\"gridcolor\":\"white\",\"linecolor\":\"white\",\"ticks\":\"\",\"title\":{\"standoff\":15},\"zerolinecolor\":\"white\",\"automargin\":true,\"zerolinewidth\":2},\"yaxis\":{\"gridcolor\":\"white\",\"linecolor\":\"white\",\"ticks\":\"\",\"title\":{\"standoff\":15},\"zerolinecolor\":\"white\",\"automargin\":true,\"zerolinewidth\":2},\"scene\":{\"xaxis\":{\"backgroundcolor\":\"#E5ECF6\",\"gridcolor\":\"white\",\"linecolor\":\"white\",\"showbackground\":true,\"ticks\":\"\",\"zerolinecolor\":\"white\",\"gridwidth\":2},\"yaxis\":{\"backgroundcolor\":\"#E5ECF6\",\"gridcolor\":\"white\",\"linecolor\":\"white\",\"showbackground\":true,\"ticks\":\"\",\"zerolinecolor\":\"white\",\"gridwidth\":2},\"zaxis\":{\"backgroundcolor\":\"#E5ECF6\",\"gridcolor\":\"white\",\"linecolor\":\"white\",\"showbackground\":true,\"ticks\":\"\",\"zerolinecolor\":\"white\",\"gridwidth\":2}},\"shapedefaults\":{\"line\":{\"color\":\"#2a3f5f\"}},\"annotationdefaults\":{\"arrowcolor\":\"#2a3f5f\",\"arrowhead\":0,\"arrowwidth\":1},\"geo\":{\"bgcolor\":\"white\",\"landcolor\":\"#E5ECF6\",\"subunitcolor\":\"white\",\"showland\":true,\"showlakes\":true,\"lakecolor\":\"white\"},\"title\":{\"x\":0.05},\"mapbox\":{\"style\":\"light\"}}},\"xaxis\":{\"anchor\":\"y\",\"domain\":[0.0,1.0],\"title\":{\"text\":\"waiting\"}},\"yaxis\":{\"anchor\":\"x\",\"domain\":[0.0,1.0],\"title\":{\"text\":\"duration\"}},\"legend\":{\"tracegroupgap\":0},\"title\":{\"text\":\"Old Faithful Geyser Eruptions for short wait times (\\u003c62)\"}},                        {\"responsive\": true}                    ).then(function(){\n",
       "                            \n",
       "var gd = document.getElementById('9ea268a1-011e-46cd-962b-041dd6f8976c');\n",
       "var x = new MutationObserver(function (mutations, observer) {{\n",
       "        var display = window.getComputedStyle(gd).display;\n",
       "        if (!display || display === 'none') {{\n",
       "            console.log([gd, 'removed!']);\n",
       "            Plotly.purge(gd);\n",
       "            observer.disconnect();\n",
       "        }}\n",
       "}});\n",
       "\n",
       "// Listen for the removal of the full notebook cells\n",
       "var notebookContainer = gd.closest('#notebook-container');\n",
       "if (notebookContainer) {{\n",
       "    x.observe(notebookContainer, {childList: true});\n",
       "}}\n",
       "\n",
       "// Listen for the clearing of the current output cell\n",
       "var outputEl = gd.closest('.output');\n",
       "if (outputEl) {{\n",
       "    x.observe(outputEl, {childList: true});\n",
       "}}\n",
       "\n",
       "                        })                };                });            </script>        </div>"
      ]
     },
     "metadata": {},
     "output_type": "display_data"
    }
   ],
   "source": [
    "import plotly.express as px\n",
    "import statsmodels.formula.api as smf\n",
    "\n",
    "\n",
    "short_wait_limit = 62 # 64 # 66 #\n",
    "short_wait = old_faithful.waiting < short_wait_limit\n",
    "\n",
    "print(smf.ols('duration ~ waiting', data=old_faithful[short_wait]).fit().summary().tables[1])\n",
    "\n",
    "# Create a scatter plot with a linear regression trendline\n",
    "fig = px.scatter(old_faithful[short_wait], x='waiting', y='duration', \n",
    "                 title=\"Old Faithful Geyser Eruptions for short wait times (<\"+str(short_wait_limit)+\")\", \n",
    "                 trendline='ols')\n",
    "\n",
    "fig.show() # USE `fig.show(renderer=\"png\")` FOR ALL GitHub and MarkUs SUBMISSIONS"
   ]
  },
  {
   "cell_type": "markdown",
   "id": "963e3488",
   "metadata": {},
   "source": [
    "The coefficient for waiting is now much smaller when looking at smaller waiting times suggesting a smaller relationship between waiting times and duration. Since the p-value for wating is 0.238 which is much higher than 0.05, you cannot reject the null hypothesis. "
   ]
  },
  {
   "cell_type": "markdown",
   "id": "009bfa79",
   "metadata": {},
   "source": [
    "### 10. Let's now consider just the (*n=160*) long wait times (as specified in the code below), and write code to do the following:\n",
    "\n",
    "1. create fitted **Simple Linear Regression** models for **boostrap samples** and collect and visualize the **bootstrapped sampling distribution** of the **fitted slope coefficients** of the fitted models;  \n",
    "\n",
    "\n",
    "2. **simulate** samples (of size `n=160`) from a **Simple Linear Regression** model that uses $\\beta_0 = 1.65$, $\\beta_1 = 0$, $\\sigma = 0.37$ along with the values of `waiting` for $x$ to create **simuations** of $Y$ and use these collect and visualize the **sampling distribution** of the **fitted slope coefficient** under a **null hypothesis** assumption of \"no linear association (on average)\"; then,  \n",
    "\n",
    "\n",
    "3. report if $0$ is contained within a 95\\% **bootstrapped confidence interval**; and if the **simulated p-value** matches `smf.ols('duration ~ waiting', data=old_faithful[long_wait]).fit().summary().tables[1]`?<br><br>\n",
    "\n",
    "<details class=\"details-example\"><summary style=\"color:blue\"><u>Further Guidance</u></summary>\n",
    "\n",
    "> _You'll need to create `for` loops to repeatedly create fitted **Simple Linear Regression** models using different samples, collecting the **fitted slope coeffient** created in each `for` loop \"step\" in order to visualize the **simulated sampling distributions**_\n",
    "> \n",
    "> - _A **bootstrapped sample** of the \"long wait times\" dataset can be created with `old_faithful[long_wait].sample(n=long_wait.sum(), replace=True)`_\n",
    ">\n",
    ">\n",
    "> - _A **simulated** version of the \"long wait times under a null hypothesis assumption of **no linear association (on average)**\" dataset can be created by first creating `old_faithful_simulation = old_faithful[long_wait].copy()` and then assigning the **simulated** it values with `old_faithful_simulation['duration'] = 1.65 + 0*old_faithful_simulation.waiting + stats.norm(loc=0, scale=0.37).rvs(size=long_wait.sum())`_ \n",
    ">\n",
    ">  _The values $\\beta_0 = 1.65$ and $\\sigma = 0.37$ are chosen to match what is actually observed in the data, while $\\beta_1 = 0$ is chosen to reflect a **null hypothesis** assumption of \"no linear assocaition (on average)\"; and, make sure that you understand why it is that_\n",
    ">\n",
    ">\n",
    "> - _if `bootstrapped_slope_coefficients` is the `np.array` of your **bootstrapped slope coefficients** then `np.quantile(bootstrapped_slope_coefficients, [0.025, 0.975])` is a 95\\% **bootstrapped confidence interval**_\n",
    "> \n",
    ">\n",
    "> - _if `simulated_slope_coefficients` is the `np.array` of your **fitted slope coefficients** **simulated** under a **null hypothesis** \"no linear association (on average)\" then `(np.abs(simulated_slope_coefficients) >= smf.ols('duration ~ waiting', data=old_faithful[long_wait]).fit().params[1]).mean()` is the **p-value** for the **simulated** **simulated sampling distribution of the slope coeficients** under a **null hypothesis** \"no linear association (on average)\"_\n",
    "\n",
    "</details>\n",
    "<br>"
   ]
  },
  {
   "cell_type": "code",
   "execution_count": 12,
   "id": "7c246ca4",
   "metadata": {},
   "outputs": [
    {
     "name": "stdout",
     "output_type": "stream",
     "text": [
      "==============================================================================\n",
      "                 coef    std err          t      P>|t|      [0.025      0.975]\n",
      "------------------------------------------------------------------------------\n",
      "Intercept      3.3520      0.476      7.049      0.000       2.413       4.291\n",
      "waiting        0.0122      0.006      2.091      0.038       0.001       0.024\n",
      "==============================================================================\n"
     ]
    },
    {
     "data": {
      "application/vnd.plotly.v1+json": {
       "config": {
        "plotlyServerURL": "https://plot.ly"
       },
       "data": [
        {
         "hovertemplate": "waiting=%{x}<br>duration=%{y}<extra></extra>",
         "legendgroup": "",
         "marker": {
          "color": "#636efa",
          "symbol": "circle"
         },
         "mode": "markers",
         "name": "",
         "orientation": "v",
         "showlegend": false,
         "type": "scatter",
         "x": [
          79,
          74,
          85,
          88,
          85,
          85,
          84,
          78,
          83,
          84,
          79,
          78,
          74,
          83,
          76,
          78,
          79,
          73,
          77,
          80,
          74,
          80,
          90,
          80,
          84,
          73,
          83,
          82,
          75,
          90,
          80,
          83,
          77,
          81,
          84,
          82,
          92,
          78,
          78,
          73,
          82,
          79,
          76,
          78,
          76,
          83,
          75,
          82,
          73,
          88,
          76,
          80,
          86,
          90,
          78,
          72,
          84,
          75,
          82,
          88,
          83,
          81,
          84,
          86,
          81,
          75,
          89,
          79,
          81,
          85,
          87,
          77,
          88,
          81,
          82,
          90,
          83,
          89,
          82,
          86,
          79,
          81,
          82,
          77,
          76,
          80,
          96,
          77,
          77,
          81,
          81,
          93,
          89,
          86,
          78,
          76,
          88,
          93,
          77,
          81,
          81,
          73,
          85,
          74,
          77,
          83,
          83,
          78,
          84,
          83,
          81,
          76,
          84,
          77,
          81,
          87,
          77,
          78,
          82,
          91,
          78,
          77,
          84,
          83,
          80,
          75,
          76,
          94,
          76,
          82,
          75,
          78,
          79,
          78,
          78,
          79,
          86,
          90,
          77,
          79,
          75,
          86,
          85,
          82,
          82,
          74,
          83,
          73,
          73,
          88,
          80,
          83,
          79,
          78,
          84,
          83,
          75,
          81,
          90,
          74
         ],
         "xaxis": "x",
         "y": [
          3.6,
          3.333,
          4.533,
          4.7,
          3.6,
          4.35,
          3.917,
          4.2,
          4.7,
          4.8,
          4.25,
          3.45,
          4.533,
          3.6,
          4.083,
          3.85,
          4.433,
          4.3,
          4.467,
          4.033,
          3.833,
          4.833,
          4.783,
          4.35,
          4.567,
          4.533,
          3.317,
          4.633,
          4.8,
          4.716,
          4.833,
          4.883,
          4.567,
          4.317,
          4.5,
          4.8,
          4.4,
          4.167,
          4.7,
          4.7,
          4.033,
          4.5,
          5.067,
          4.567,
          3.883,
          3.6,
          4.133,
          4.333,
          4.067,
          4.933,
          3.95,
          4.517,
          4,
          4.333,
          4.817,
          4.3,
          4.667,
          3.75,
          4.9,
          4.367,
          4.5,
          4.05,
          4.7,
          4.85,
          3.683,
          4.7330000000000005,
          4.9,
          4.417,
          4.633,
          4.6,
          4.417,
          4.25,
          4.6,
          3.767,
          4.5,
          4.65,
          4.167,
          4.333,
          4.383,
          4.933,
          3.733,
          4.2330000000000005,
          4.533,
          4.817,
          4.333,
          4.633,
          5.1,
          5.033,
          4,
          4.6,
          4.5,
          4.083,
          3.967,
          4.15,
          3.833,
          4.583,
          5,
          4.617,
          4.583,
          4.167,
          4.333,
          4.5,
          4,
          4.167,
          4.583,
          4.25,
          3.767,
          4.433,
          4.083,
          4.417,
          4.8,
          4.8,
          4.1,
          3.966,
          4.2330000000000005,
          3.5,
          4.3660000000000005,
          4.667,
          4.35,
          4.133,
          4.6,
          4.367,
          3.85,
          4.5,
          4.7,
          3.833,
          4.2330000000000005,
          4.8,
          4.15,
          4.267,
          4.4830000000000005,
          4,
          4.117,
          4.083,
          4.267,
          4.55,
          4.183,
          4.45,
          4.283,
          3.95,
          4.15,
          4.933,
          4.583,
          3.833,
          4.367,
          4.35,
          4.45,
          3.567,
          4.5,
          4.15,
          3.817,
          4.45,
          4.283,
          4.767,
          4.533,
          4.25,
          4.75,
          4.117,
          4.417,
          4.467
         ],
         "yaxis": "y"
        },
        {
         "hovertemplate": "<b>OLS trendline</b><br>duration = 0.012244 * waiting + 3.35195<br>R<sup>2</sup>=0.026925<br><br>waiting=%{x}<br>duration=%{y} <b>(trend)</b><extra></extra>",
         "legendgroup": "",
         "marker": {
          "color": "#636efa",
          "symbol": "circle"
         },
         "mode": "lines",
         "name": "",
         "showlegend": false,
         "type": "scatter",
         "x": [
          72,
          73,
          73,
          73,
          73,
          73,
          73,
          73,
          74,
          74,
          74,
          74,
          74,
          74,
          75,
          75,
          75,
          75,
          75,
          75,
          75,
          75,
          76,
          76,
          76,
          76,
          76,
          76,
          76,
          76,
          76,
          77,
          77,
          77,
          77,
          77,
          77,
          77,
          77,
          77,
          77,
          77,
          77,
          78,
          78,
          78,
          78,
          78,
          78,
          78,
          78,
          78,
          78,
          78,
          78,
          78,
          78,
          78,
          79,
          79,
          79,
          79,
          79,
          79,
          79,
          79,
          79,
          79,
          80,
          80,
          80,
          80,
          80,
          80,
          80,
          80,
          81,
          81,
          81,
          81,
          81,
          81,
          81,
          81,
          81,
          81,
          81,
          81,
          81,
          82,
          82,
          82,
          82,
          82,
          82,
          82,
          82,
          82,
          82,
          82,
          82,
          83,
          83,
          83,
          83,
          83,
          83,
          83,
          83,
          83,
          83,
          83,
          83,
          83,
          83,
          84,
          84,
          84,
          84,
          84,
          84,
          84,
          84,
          84,
          84,
          85,
          85,
          85,
          85,
          85,
          85,
          86,
          86,
          86,
          86,
          86,
          86,
          87,
          87,
          88,
          88,
          88,
          88,
          88,
          88,
          89,
          89,
          89,
          90,
          90,
          90,
          90,
          90,
          90,
          91,
          92,
          93,
          93,
          94,
          96
         ],
         "xaxis": "x",
         "y": [
          4.233522783508958,
          4.245766812955481,
          4.245766812955481,
          4.245766812955481,
          4.245766812955481,
          4.245766812955481,
          4.245766812955481,
          4.245766812955481,
          4.258010842402005,
          4.258010842402005,
          4.258010842402005,
          4.258010842402005,
          4.258010842402005,
          4.258010842402005,
          4.270254871848528,
          4.270254871848528,
          4.270254871848528,
          4.270254871848528,
          4.270254871848528,
          4.270254871848528,
          4.270254871848528,
          4.270254871848528,
          4.282498901295052,
          4.282498901295052,
          4.282498901295052,
          4.282498901295052,
          4.282498901295052,
          4.282498901295052,
          4.282498901295052,
          4.282498901295052,
          4.282498901295052,
          4.294742930741576,
          4.294742930741576,
          4.294742930741576,
          4.294742930741576,
          4.294742930741576,
          4.294742930741576,
          4.294742930741576,
          4.294742930741576,
          4.294742930741576,
          4.294742930741576,
          4.294742930741576,
          4.294742930741576,
          4.306986960188099,
          4.306986960188099,
          4.306986960188099,
          4.306986960188099,
          4.306986960188099,
          4.306986960188099,
          4.306986960188099,
          4.306986960188099,
          4.306986960188099,
          4.306986960188099,
          4.306986960188099,
          4.306986960188099,
          4.306986960188099,
          4.306986960188099,
          4.306986960188099,
          4.319230989634622,
          4.319230989634622,
          4.319230989634622,
          4.319230989634622,
          4.319230989634622,
          4.319230989634622,
          4.319230989634622,
          4.319230989634622,
          4.319230989634622,
          4.319230989634622,
          4.331475019081147,
          4.331475019081147,
          4.331475019081147,
          4.331475019081147,
          4.331475019081147,
          4.331475019081147,
          4.331475019081147,
          4.331475019081147,
          4.34371904852767,
          4.34371904852767,
          4.34371904852767,
          4.34371904852767,
          4.34371904852767,
          4.34371904852767,
          4.34371904852767,
          4.34371904852767,
          4.34371904852767,
          4.34371904852767,
          4.34371904852767,
          4.34371904852767,
          4.34371904852767,
          4.355963077974193,
          4.355963077974193,
          4.355963077974193,
          4.355963077974193,
          4.355963077974193,
          4.355963077974193,
          4.355963077974193,
          4.355963077974193,
          4.355963077974193,
          4.355963077974193,
          4.355963077974193,
          4.355963077974193,
          4.368207107420717,
          4.368207107420717,
          4.368207107420717,
          4.368207107420717,
          4.368207107420717,
          4.368207107420717,
          4.368207107420717,
          4.368207107420717,
          4.368207107420717,
          4.368207107420717,
          4.368207107420717,
          4.368207107420717,
          4.368207107420717,
          4.368207107420717,
          4.38045113686724,
          4.38045113686724,
          4.38045113686724,
          4.38045113686724,
          4.38045113686724,
          4.38045113686724,
          4.38045113686724,
          4.38045113686724,
          4.38045113686724,
          4.38045113686724,
          4.392695166313764,
          4.392695166313764,
          4.392695166313764,
          4.392695166313764,
          4.392695166313764,
          4.392695166313764,
          4.404939195760288,
          4.404939195760288,
          4.404939195760288,
          4.404939195760288,
          4.404939195760288,
          4.404939195760288,
          4.417183225206811,
          4.417183225206811,
          4.429427254653334,
          4.429427254653334,
          4.429427254653334,
          4.429427254653334,
          4.429427254653334,
          4.429427254653334,
          4.441671284099858,
          4.441671284099858,
          4.441671284099858,
          4.453915313546382,
          4.453915313546382,
          4.453915313546382,
          4.453915313546382,
          4.453915313546382,
          4.453915313546382,
          4.466159342992905,
          4.478403372439429,
          4.490647401885952,
          4.490647401885952,
          4.5028914313324755,
          4.527379490225523
         ],
         "yaxis": "y"
        }
       ],
       "layout": {
        "legend": {
         "tracegroupgap": 0
        },
        "template": {
         "data": {
          "bar": [
           {
            "error_x": {
             "color": "#2a3f5f"
            },
            "error_y": {
             "color": "#2a3f5f"
            },
            "marker": {
             "line": {
              "color": "#E5ECF6",
              "width": 0.5
             },
             "pattern": {
              "fillmode": "overlay",
              "size": 10,
              "solidity": 0.2
             }
            },
            "type": "bar"
           }
          ],
          "barpolar": [
           {
            "marker": {
             "line": {
              "color": "#E5ECF6",
              "width": 0.5
             },
             "pattern": {
              "fillmode": "overlay",
              "size": 10,
              "solidity": 0.2
             }
            },
            "type": "barpolar"
           }
          ],
          "carpet": [
           {
            "aaxis": {
             "endlinecolor": "#2a3f5f",
             "gridcolor": "white",
             "linecolor": "white",
             "minorgridcolor": "white",
             "startlinecolor": "#2a3f5f"
            },
            "baxis": {
             "endlinecolor": "#2a3f5f",
             "gridcolor": "white",
             "linecolor": "white",
             "minorgridcolor": "white",
             "startlinecolor": "#2a3f5f"
            },
            "type": "carpet"
           }
          ],
          "choropleth": [
           {
            "colorbar": {
             "outlinewidth": 0,
             "ticks": ""
            },
            "type": "choropleth"
           }
          ],
          "contour": [
           {
            "colorbar": {
             "outlinewidth": 0,
             "ticks": ""
            },
            "colorscale": [
             [
              0,
              "#0d0887"
             ],
             [
              0.1111111111111111,
              "#46039f"
             ],
             [
              0.2222222222222222,
              "#7201a8"
             ],
             [
              0.3333333333333333,
              "#9c179e"
             ],
             [
              0.4444444444444444,
              "#bd3786"
             ],
             [
              0.5555555555555556,
              "#d8576b"
             ],
             [
              0.6666666666666666,
              "#ed7953"
             ],
             [
              0.7777777777777778,
              "#fb9f3a"
             ],
             [
              0.8888888888888888,
              "#fdca26"
             ],
             [
              1,
              "#f0f921"
             ]
            ],
            "type": "contour"
           }
          ],
          "contourcarpet": [
           {
            "colorbar": {
             "outlinewidth": 0,
             "ticks": ""
            },
            "type": "contourcarpet"
           }
          ],
          "heatmap": [
           {
            "colorbar": {
             "outlinewidth": 0,
             "ticks": ""
            },
            "colorscale": [
             [
              0,
              "#0d0887"
             ],
             [
              0.1111111111111111,
              "#46039f"
             ],
             [
              0.2222222222222222,
              "#7201a8"
             ],
             [
              0.3333333333333333,
              "#9c179e"
             ],
             [
              0.4444444444444444,
              "#bd3786"
             ],
             [
              0.5555555555555556,
              "#d8576b"
             ],
             [
              0.6666666666666666,
              "#ed7953"
             ],
             [
              0.7777777777777778,
              "#fb9f3a"
             ],
             [
              0.8888888888888888,
              "#fdca26"
             ],
             [
              1,
              "#f0f921"
             ]
            ],
            "type": "heatmap"
           }
          ],
          "heatmapgl": [
           {
            "colorbar": {
             "outlinewidth": 0,
             "ticks": ""
            },
            "colorscale": [
             [
              0,
              "#0d0887"
             ],
             [
              0.1111111111111111,
              "#46039f"
             ],
             [
              0.2222222222222222,
              "#7201a8"
             ],
             [
              0.3333333333333333,
              "#9c179e"
             ],
             [
              0.4444444444444444,
              "#bd3786"
             ],
             [
              0.5555555555555556,
              "#d8576b"
             ],
             [
              0.6666666666666666,
              "#ed7953"
             ],
             [
              0.7777777777777778,
              "#fb9f3a"
             ],
             [
              0.8888888888888888,
              "#fdca26"
             ],
             [
              1,
              "#f0f921"
             ]
            ],
            "type": "heatmapgl"
           }
          ],
          "histogram": [
           {
            "marker": {
             "pattern": {
              "fillmode": "overlay",
              "size": 10,
              "solidity": 0.2
             }
            },
            "type": "histogram"
           }
          ],
          "histogram2d": [
           {
            "colorbar": {
             "outlinewidth": 0,
             "ticks": ""
            },
            "colorscale": [
             [
              0,
              "#0d0887"
             ],
             [
              0.1111111111111111,
              "#46039f"
             ],
             [
              0.2222222222222222,
              "#7201a8"
             ],
             [
              0.3333333333333333,
              "#9c179e"
             ],
             [
              0.4444444444444444,
              "#bd3786"
             ],
             [
              0.5555555555555556,
              "#d8576b"
             ],
             [
              0.6666666666666666,
              "#ed7953"
             ],
             [
              0.7777777777777778,
              "#fb9f3a"
             ],
             [
              0.8888888888888888,
              "#fdca26"
             ],
             [
              1,
              "#f0f921"
             ]
            ],
            "type": "histogram2d"
           }
          ],
          "histogram2dcontour": [
           {
            "colorbar": {
             "outlinewidth": 0,
             "ticks": ""
            },
            "colorscale": [
             [
              0,
              "#0d0887"
             ],
             [
              0.1111111111111111,
              "#46039f"
             ],
             [
              0.2222222222222222,
              "#7201a8"
             ],
             [
              0.3333333333333333,
              "#9c179e"
             ],
             [
              0.4444444444444444,
              "#bd3786"
             ],
             [
              0.5555555555555556,
              "#d8576b"
             ],
             [
              0.6666666666666666,
              "#ed7953"
             ],
             [
              0.7777777777777778,
              "#fb9f3a"
             ],
             [
              0.8888888888888888,
              "#fdca26"
             ],
             [
              1,
              "#f0f921"
             ]
            ],
            "type": "histogram2dcontour"
           }
          ],
          "mesh3d": [
           {
            "colorbar": {
             "outlinewidth": 0,
             "ticks": ""
            },
            "type": "mesh3d"
           }
          ],
          "parcoords": [
           {
            "line": {
             "colorbar": {
              "outlinewidth": 0,
              "ticks": ""
             }
            },
            "type": "parcoords"
           }
          ],
          "pie": [
           {
            "automargin": true,
            "type": "pie"
           }
          ],
          "scatter": [
           {
            "fillpattern": {
             "fillmode": "overlay",
             "size": 10,
             "solidity": 0.2
            },
            "type": "scatter"
           }
          ],
          "scatter3d": [
           {
            "line": {
             "colorbar": {
              "outlinewidth": 0,
              "ticks": ""
             }
            },
            "marker": {
             "colorbar": {
              "outlinewidth": 0,
              "ticks": ""
             }
            },
            "type": "scatter3d"
           }
          ],
          "scattercarpet": [
           {
            "marker": {
             "colorbar": {
              "outlinewidth": 0,
              "ticks": ""
             }
            },
            "type": "scattercarpet"
           }
          ],
          "scattergeo": [
           {
            "marker": {
             "colorbar": {
              "outlinewidth": 0,
              "ticks": ""
             }
            },
            "type": "scattergeo"
           }
          ],
          "scattergl": [
           {
            "marker": {
             "colorbar": {
              "outlinewidth": 0,
              "ticks": ""
             }
            },
            "type": "scattergl"
           }
          ],
          "scattermapbox": [
           {
            "marker": {
             "colorbar": {
              "outlinewidth": 0,
              "ticks": ""
             }
            },
            "type": "scattermapbox"
           }
          ],
          "scatterpolar": [
           {
            "marker": {
             "colorbar": {
              "outlinewidth": 0,
              "ticks": ""
             }
            },
            "type": "scatterpolar"
           }
          ],
          "scatterpolargl": [
           {
            "marker": {
             "colorbar": {
              "outlinewidth": 0,
              "ticks": ""
             }
            },
            "type": "scatterpolargl"
           }
          ],
          "scatterternary": [
           {
            "marker": {
             "colorbar": {
              "outlinewidth": 0,
              "ticks": ""
             }
            },
            "type": "scatterternary"
           }
          ],
          "surface": [
           {
            "colorbar": {
             "outlinewidth": 0,
             "ticks": ""
            },
            "colorscale": [
             [
              0,
              "#0d0887"
             ],
             [
              0.1111111111111111,
              "#46039f"
             ],
             [
              0.2222222222222222,
              "#7201a8"
             ],
             [
              0.3333333333333333,
              "#9c179e"
             ],
             [
              0.4444444444444444,
              "#bd3786"
             ],
             [
              0.5555555555555556,
              "#d8576b"
             ],
             [
              0.6666666666666666,
              "#ed7953"
             ],
             [
              0.7777777777777778,
              "#fb9f3a"
             ],
             [
              0.8888888888888888,
              "#fdca26"
             ],
             [
              1,
              "#f0f921"
             ]
            ],
            "type": "surface"
           }
          ],
          "table": [
           {
            "cells": {
             "fill": {
              "color": "#EBF0F8"
             },
             "line": {
              "color": "white"
             }
            },
            "header": {
             "fill": {
              "color": "#C8D4E3"
             },
             "line": {
              "color": "white"
             }
            },
            "type": "table"
           }
          ]
         },
         "layout": {
          "annotationdefaults": {
           "arrowcolor": "#2a3f5f",
           "arrowhead": 0,
           "arrowwidth": 1
          },
          "autotypenumbers": "strict",
          "coloraxis": {
           "colorbar": {
            "outlinewidth": 0,
            "ticks": ""
           }
          },
          "colorscale": {
           "diverging": [
            [
             0,
             "#8e0152"
            ],
            [
             0.1,
             "#c51b7d"
            ],
            [
             0.2,
             "#de77ae"
            ],
            [
             0.3,
             "#f1b6da"
            ],
            [
             0.4,
             "#fde0ef"
            ],
            [
             0.5,
             "#f7f7f7"
            ],
            [
             0.6,
             "#e6f5d0"
            ],
            [
             0.7,
             "#b8e186"
            ],
            [
             0.8,
             "#7fbc41"
            ],
            [
             0.9,
             "#4d9221"
            ],
            [
             1,
             "#276419"
            ]
           ],
           "sequential": [
            [
             0,
             "#0d0887"
            ],
            [
             0.1111111111111111,
             "#46039f"
            ],
            [
             0.2222222222222222,
             "#7201a8"
            ],
            [
             0.3333333333333333,
             "#9c179e"
            ],
            [
             0.4444444444444444,
             "#bd3786"
            ],
            [
             0.5555555555555556,
             "#d8576b"
            ],
            [
             0.6666666666666666,
             "#ed7953"
            ],
            [
             0.7777777777777778,
             "#fb9f3a"
            ],
            [
             0.8888888888888888,
             "#fdca26"
            ],
            [
             1,
             "#f0f921"
            ]
           ],
           "sequentialminus": [
            [
             0,
             "#0d0887"
            ],
            [
             0.1111111111111111,
             "#46039f"
            ],
            [
             0.2222222222222222,
             "#7201a8"
            ],
            [
             0.3333333333333333,
             "#9c179e"
            ],
            [
             0.4444444444444444,
             "#bd3786"
            ],
            [
             0.5555555555555556,
             "#d8576b"
            ],
            [
             0.6666666666666666,
             "#ed7953"
            ],
            [
             0.7777777777777778,
             "#fb9f3a"
            ],
            [
             0.8888888888888888,
             "#fdca26"
            ],
            [
             1,
             "#f0f921"
            ]
           ]
          },
          "colorway": [
           "#636efa",
           "#EF553B",
           "#00cc96",
           "#ab63fa",
           "#FFA15A",
           "#19d3f3",
           "#FF6692",
           "#B6E880",
           "#FF97FF",
           "#FECB52"
          ],
          "font": {
           "color": "#2a3f5f"
          },
          "geo": {
           "bgcolor": "white",
           "lakecolor": "white",
           "landcolor": "#E5ECF6",
           "showlakes": true,
           "showland": true,
           "subunitcolor": "white"
          },
          "hoverlabel": {
           "align": "left"
          },
          "hovermode": "closest",
          "mapbox": {
           "style": "light"
          },
          "paper_bgcolor": "white",
          "plot_bgcolor": "#E5ECF6",
          "polar": {
           "angularaxis": {
            "gridcolor": "white",
            "linecolor": "white",
            "ticks": ""
           },
           "bgcolor": "#E5ECF6",
           "radialaxis": {
            "gridcolor": "white",
            "linecolor": "white",
            "ticks": ""
           }
          },
          "scene": {
           "xaxis": {
            "backgroundcolor": "#E5ECF6",
            "gridcolor": "white",
            "gridwidth": 2,
            "linecolor": "white",
            "showbackground": true,
            "ticks": "",
            "zerolinecolor": "white"
           },
           "yaxis": {
            "backgroundcolor": "#E5ECF6",
            "gridcolor": "white",
            "gridwidth": 2,
            "linecolor": "white",
            "showbackground": true,
            "ticks": "",
            "zerolinecolor": "white"
           },
           "zaxis": {
            "backgroundcolor": "#E5ECF6",
            "gridcolor": "white",
            "gridwidth": 2,
            "linecolor": "white",
            "showbackground": true,
            "ticks": "",
            "zerolinecolor": "white"
           }
          },
          "shapedefaults": {
           "line": {
            "color": "#2a3f5f"
           }
          },
          "ternary": {
           "aaxis": {
            "gridcolor": "white",
            "linecolor": "white",
            "ticks": ""
           },
           "baxis": {
            "gridcolor": "white",
            "linecolor": "white",
            "ticks": ""
           },
           "bgcolor": "#E5ECF6",
           "caxis": {
            "gridcolor": "white",
            "linecolor": "white",
            "ticks": ""
           }
          },
          "title": {
           "x": 0.05
          },
          "xaxis": {
           "automargin": true,
           "gridcolor": "white",
           "linecolor": "white",
           "ticks": "",
           "title": {
            "standoff": 15
           },
           "zerolinecolor": "white",
           "zerolinewidth": 2
          },
          "yaxis": {
           "automargin": true,
           "gridcolor": "white",
           "linecolor": "white",
           "ticks": "",
           "title": {
            "standoff": 15
           },
           "zerolinecolor": "white",
           "zerolinewidth": 2
          }
         }
        },
        "title": {
         "text": "Old Faithful Geyser Eruptions for short wait times (>71)"
        },
        "xaxis": {
         "anchor": "y",
         "domain": [
          0,
          1
         ],
         "title": {
          "text": "waiting"
         }
        },
        "yaxis": {
         "anchor": "x",
         "domain": [
          0,
          1
         ],
         "title": {
          "text": "duration"
         }
        }
       }
      },
      "text/html": [
       "<div>                            <div id=\"30eb4d28-32f2-4d7b-80a0-06030226d055\" class=\"plotly-graph-div\" style=\"height:525px; width:100%;\"></div>            <script type=\"text/javascript\">                require([\"plotly\"], function(Plotly) {                    window.PLOTLYENV=window.PLOTLYENV || {};                                    if (document.getElementById(\"30eb4d28-32f2-4d7b-80a0-06030226d055\")) {                    Plotly.newPlot(                        \"30eb4d28-32f2-4d7b-80a0-06030226d055\",                        [{\"hovertemplate\":\"waiting=%{x}\\u003cbr\\u003eduration=%{y}\\u003cextra\\u003e\\u003c\\u002fextra\\u003e\",\"legendgroup\":\"\",\"marker\":{\"color\":\"#636efa\",\"symbol\":\"circle\"},\"mode\":\"markers\",\"name\":\"\",\"orientation\":\"v\",\"showlegend\":false,\"x\":[79,74,85,88,85,85,84,78,83,84,79,78,74,83,76,78,79,73,77,80,74,80,90,80,84,73,83,82,75,90,80,83,77,81,84,82,92,78,78,73,82,79,76,78,76,83,75,82,73,88,76,80,86,90,78,72,84,75,82,88,83,81,84,86,81,75,89,79,81,85,87,77,88,81,82,90,83,89,82,86,79,81,82,77,76,80,96,77,77,81,81,93,89,86,78,76,88,93,77,81,81,73,85,74,77,83,83,78,84,83,81,76,84,77,81,87,77,78,82,91,78,77,84,83,80,75,76,94,76,82,75,78,79,78,78,79,86,90,77,79,75,86,85,82,82,74,83,73,73,88,80,83,79,78,84,83,75,81,90,74],\"xaxis\":\"x\",\"y\":[3.6,3.333,4.533,4.7,3.6,4.35,3.917,4.2,4.7,4.8,4.25,3.45,4.533,3.6,4.083,3.85,4.433,4.3,4.467,4.033,3.833,4.833,4.783,4.35,4.567,4.533,3.317,4.633,4.8,4.716,4.833,4.883,4.567,4.317,4.5,4.8,4.4,4.167,4.7,4.7,4.033,4.5,5.067,4.567,3.883,3.6,4.133,4.333,4.067,4.933,3.95,4.517,4.0,4.333,4.817,4.3,4.667,3.75,4.9,4.367,4.5,4.05,4.7,4.85,3.683,4.7330000000000005,4.9,4.417,4.633,4.6,4.417,4.25,4.6,3.767,4.5,4.65,4.167,4.333,4.383,4.933,3.733,4.2330000000000005,4.533,4.817,4.333,4.633,5.1,5.033,4.0,4.6,4.5,4.083,3.967,4.15,3.833,4.583,5.0,4.617,4.583,4.167,4.333,4.5,4.0,4.167,4.583,4.25,3.767,4.433,4.083,4.417,4.8,4.8,4.1,3.966,4.2330000000000005,3.5,4.3660000000000005,4.667,4.35,4.133,4.6,4.367,3.85,4.5,4.7,3.833,4.2330000000000005,4.8,4.15,4.267,4.4830000000000005,4.0,4.117,4.083,4.267,4.55,4.183,4.45,4.283,3.95,4.15,4.933,4.583,3.833,4.367,4.35,4.45,3.567,4.5,4.15,3.817,4.45,4.283,4.767,4.533,4.25,4.75,4.117,4.417,4.467],\"yaxis\":\"y\",\"type\":\"scatter\"},{\"hovertemplate\":\"\\u003cb\\u003eOLS trendline\\u003c\\u002fb\\u003e\\u003cbr\\u003eduration = 0.012244 * waiting + 3.35195\\u003cbr\\u003eR\\u003csup\\u003e2\\u003c\\u002fsup\\u003e=0.026925\\u003cbr\\u003e\\u003cbr\\u003ewaiting=%{x}\\u003cbr\\u003eduration=%{y} \\u003cb\\u003e(trend)\\u003c\\u002fb\\u003e\\u003cextra\\u003e\\u003c\\u002fextra\\u003e\",\"legendgroup\":\"\",\"marker\":{\"color\":\"#636efa\",\"symbol\":\"circle\"},\"mode\":\"lines\",\"name\":\"\",\"showlegend\":false,\"x\":[72,73,73,73,73,73,73,73,74,74,74,74,74,74,75,75,75,75,75,75,75,75,76,76,76,76,76,76,76,76,76,77,77,77,77,77,77,77,77,77,77,77,77,78,78,78,78,78,78,78,78,78,78,78,78,78,78,78,79,79,79,79,79,79,79,79,79,79,80,80,80,80,80,80,80,80,81,81,81,81,81,81,81,81,81,81,81,81,81,82,82,82,82,82,82,82,82,82,82,82,82,83,83,83,83,83,83,83,83,83,83,83,83,83,83,84,84,84,84,84,84,84,84,84,84,85,85,85,85,85,85,86,86,86,86,86,86,87,87,88,88,88,88,88,88,89,89,89,90,90,90,90,90,90,91,92,93,93,94,96],\"xaxis\":\"x\",\"y\":[4.233522783508958,4.245766812955481,4.245766812955481,4.245766812955481,4.245766812955481,4.245766812955481,4.245766812955481,4.245766812955481,4.258010842402005,4.258010842402005,4.258010842402005,4.258010842402005,4.258010842402005,4.258010842402005,4.270254871848528,4.270254871848528,4.270254871848528,4.270254871848528,4.270254871848528,4.270254871848528,4.270254871848528,4.270254871848528,4.282498901295052,4.282498901295052,4.282498901295052,4.282498901295052,4.282498901295052,4.282498901295052,4.282498901295052,4.282498901295052,4.282498901295052,4.294742930741576,4.294742930741576,4.294742930741576,4.294742930741576,4.294742930741576,4.294742930741576,4.294742930741576,4.294742930741576,4.294742930741576,4.294742930741576,4.294742930741576,4.294742930741576,4.306986960188099,4.306986960188099,4.306986960188099,4.306986960188099,4.306986960188099,4.306986960188099,4.306986960188099,4.306986960188099,4.306986960188099,4.306986960188099,4.306986960188099,4.306986960188099,4.306986960188099,4.306986960188099,4.306986960188099,4.319230989634622,4.319230989634622,4.319230989634622,4.319230989634622,4.319230989634622,4.319230989634622,4.319230989634622,4.319230989634622,4.319230989634622,4.319230989634622,4.331475019081147,4.331475019081147,4.331475019081147,4.331475019081147,4.331475019081147,4.331475019081147,4.331475019081147,4.331475019081147,4.34371904852767,4.34371904852767,4.34371904852767,4.34371904852767,4.34371904852767,4.34371904852767,4.34371904852767,4.34371904852767,4.34371904852767,4.34371904852767,4.34371904852767,4.34371904852767,4.34371904852767,4.355963077974193,4.355963077974193,4.355963077974193,4.355963077974193,4.355963077974193,4.355963077974193,4.355963077974193,4.355963077974193,4.355963077974193,4.355963077974193,4.355963077974193,4.355963077974193,4.368207107420717,4.368207107420717,4.368207107420717,4.368207107420717,4.368207107420717,4.368207107420717,4.368207107420717,4.368207107420717,4.368207107420717,4.368207107420717,4.368207107420717,4.368207107420717,4.368207107420717,4.368207107420717,4.38045113686724,4.38045113686724,4.38045113686724,4.38045113686724,4.38045113686724,4.38045113686724,4.38045113686724,4.38045113686724,4.38045113686724,4.38045113686724,4.392695166313764,4.392695166313764,4.392695166313764,4.392695166313764,4.392695166313764,4.392695166313764,4.404939195760288,4.404939195760288,4.404939195760288,4.404939195760288,4.404939195760288,4.404939195760288,4.417183225206811,4.417183225206811,4.429427254653334,4.429427254653334,4.429427254653334,4.429427254653334,4.429427254653334,4.429427254653334,4.441671284099858,4.441671284099858,4.441671284099858,4.453915313546382,4.453915313546382,4.453915313546382,4.453915313546382,4.453915313546382,4.453915313546382,4.466159342992905,4.478403372439429,4.490647401885952,4.490647401885952,4.5028914313324755,4.527379490225523],\"yaxis\":\"y\",\"type\":\"scatter\"}],                        {\"template\":{\"data\":{\"histogram2dcontour\":[{\"type\":\"histogram2dcontour\",\"colorbar\":{\"outlinewidth\":0,\"ticks\":\"\"},\"colorscale\":[[0.0,\"#0d0887\"],[0.1111111111111111,\"#46039f\"],[0.2222222222222222,\"#7201a8\"],[0.3333333333333333,\"#9c179e\"],[0.4444444444444444,\"#bd3786\"],[0.5555555555555556,\"#d8576b\"],[0.6666666666666666,\"#ed7953\"],[0.7777777777777778,\"#fb9f3a\"],[0.8888888888888888,\"#fdca26\"],[1.0,\"#f0f921\"]]}],\"choropleth\":[{\"type\":\"choropleth\",\"colorbar\":{\"outlinewidth\":0,\"ticks\":\"\"}}],\"histogram2d\":[{\"type\":\"histogram2d\",\"colorbar\":{\"outlinewidth\":0,\"ticks\":\"\"},\"colorscale\":[[0.0,\"#0d0887\"],[0.1111111111111111,\"#46039f\"],[0.2222222222222222,\"#7201a8\"],[0.3333333333333333,\"#9c179e\"],[0.4444444444444444,\"#bd3786\"],[0.5555555555555556,\"#d8576b\"],[0.6666666666666666,\"#ed7953\"],[0.7777777777777778,\"#fb9f3a\"],[0.8888888888888888,\"#fdca26\"],[1.0,\"#f0f921\"]]}],\"heatmap\":[{\"type\":\"heatmap\",\"colorbar\":{\"outlinewidth\":0,\"ticks\":\"\"},\"colorscale\":[[0.0,\"#0d0887\"],[0.1111111111111111,\"#46039f\"],[0.2222222222222222,\"#7201a8\"],[0.3333333333333333,\"#9c179e\"],[0.4444444444444444,\"#bd3786\"],[0.5555555555555556,\"#d8576b\"],[0.6666666666666666,\"#ed7953\"],[0.7777777777777778,\"#fb9f3a\"],[0.8888888888888888,\"#fdca26\"],[1.0,\"#f0f921\"]]}],\"heatmapgl\":[{\"type\":\"heatmapgl\",\"colorbar\":{\"outlinewidth\":0,\"ticks\":\"\"},\"colorscale\":[[0.0,\"#0d0887\"],[0.1111111111111111,\"#46039f\"],[0.2222222222222222,\"#7201a8\"],[0.3333333333333333,\"#9c179e\"],[0.4444444444444444,\"#bd3786\"],[0.5555555555555556,\"#d8576b\"],[0.6666666666666666,\"#ed7953\"],[0.7777777777777778,\"#fb9f3a\"],[0.8888888888888888,\"#fdca26\"],[1.0,\"#f0f921\"]]}],\"contourcarpet\":[{\"type\":\"contourcarpet\",\"colorbar\":{\"outlinewidth\":0,\"ticks\":\"\"}}],\"contour\":[{\"type\":\"contour\",\"colorbar\":{\"outlinewidth\":0,\"ticks\":\"\"},\"colorscale\":[[0.0,\"#0d0887\"],[0.1111111111111111,\"#46039f\"],[0.2222222222222222,\"#7201a8\"],[0.3333333333333333,\"#9c179e\"],[0.4444444444444444,\"#bd3786\"],[0.5555555555555556,\"#d8576b\"],[0.6666666666666666,\"#ed7953\"],[0.7777777777777778,\"#fb9f3a\"],[0.8888888888888888,\"#fdca26\"],[1.0,\"#f0f921\"]]}],\"surface\":[{\"type\":\"surface\",\"colorbar\":{\"outlinewidth\":0,\"ticks\":\"\"},\"colorscale\":[[0.0,\"#0d0887\"],[0.1111111111111111,\"#46039f\"],[0.2222222222222222,\"#7201a8\"],[0.3333333333333333,\"#9c179e\"],[0.4444444444444444,\"#bd3786\"],[0.5555555555555556,\"#d8576b\"],[0.6666666666666666,\"#ed7953\"],[0.7777777777777778,\"#fb9f3a\"],[0.8888888888888888,\"#fdca26\"],[1.0,\"#f0f921\"]]}],\"mesh3d\":[{\"type\":\"mesh3d\",\"colorbar\":{\"outlinewidth\":0,\"ticks\":\"\"}}],\"scatter\":[{\"fillpattern\":{\"fillmode\":\"overlay\",\"size\":10,\"solidity\":0.2},\"type\":\"scatter\"}],\"parcoords\":[{\"type\":\"parcoords\",\"line\":{\"colorbar\":{\"outlinewidth\":0,\"ticks\":\"\"}}}],\"scatterpolargl\":[{\"type\":\"scatterpolargl\",\"marker\":{\"colorbar\":{\"outlinewidth\":0,\"ticks\":\"\"}}}],\"bar\":[{\"error_x\":{\"color\":\"#2a3f5f\"},\"error_y\":{\"color\":\"#2a3f5f\"},\"marker\":{\"line\":{\"color\":\"#E5ECF6\",\"width\":0.5},\"pattern\":{\"fillmode\":\"overlay\",\"size\":10,\"solidity\":0.2}},\"type\":\"bar\"}],\"scattergeo\":[{\"type\":\"scattergeo\",\"marker\":{\"colorbar\":{\"outlinewidth\":0,\"ticks\":\"\"}}}],\"scatterpolar\":[{\"type\":\"scatterpolar\",\"marker\":{\"colorbar\":{\"outlinewidth\":0,\"ticks\":\"\"}}}],\"histogram\":[{\"marker\":{\"pattern\":{\"fillmode\":\"overlay\",\"size\":10,\"solidity\":0.2}},\"type\":\"histogram\"}],\"scattergl\":[{\"type\":\"scattergl\",\"marker\":{\"colorbar\":{\"outlinewidth\":0,\"ticks\":\"\"}}}],\"scatter3d\":[{\"type\":\"scatter3d\",\"line\":{\"colorbar\":{\"outlinewidth\":0,\"ticks\":\"\"}},\"marker\":{\"colorbar\":{\"outlinewidth\":0,\"ticks\":\"\"}}}],\"scattermapbox\":[{\"type\":\"scattermapbox\",\"marker\":{\"colorbar\":{\"outlinewidth\":0,\"ticks\":\"\"}}}],\"scatterternary\":[{\"type\":\"scatterternary\",\"marker\":{\"colorbar\":{\"outlinewidth\":0,\"ticks\":\"\"}}}],\"scattercarpet\":[{\"type\":\"scattercarpet\",\"marker\":{\"colorbar\":{\"outlinewidth\":0,\"ticks\":\"\"}}}],\"carpet\":[{\"aaxis\":{\"endlinecolor\":\"#2a3f5f\",\"gridcolor\":\"white\",\"linecolor\":\"white\",\"minorgridcolor\":\"white\",\"startlinecolor\":\"#2a3f5f\"},\"baxis\":{\"endlinecolor\":\"#2a3f5f\",\"gridcolor\":\"white\",\"linecolor\":\"white\",\"minorgridcolor\":\"white\",\"startlinecolor\":\"#2a3f5f\"},\"type\":\"carpet\"}],\"table\":[{\"cells\":{\"fill\":{\"color\":\"#EBF0F8\"},\"line\":{\"color\":\"white\"}},\"header\":{\"fill\":{\"color\":\"#C8D4E3\"},\"line\":{\"color\":\"white\"}},\"type\":\"table\"}],\"barpolar\":[{\"marker\":{\"line\":{\"color\":\"#E5ECF6\",\"width\":0.5},\"pattern\":{\"fillmode\":\"overlay\",\"size\":10,\"solidity\":0.2}},\"type\":\"barpolar\"}],\"pie\":[{\"automargin\":true,\"type\":\"pie\"}]},\"layout\":{\"autotypenumbers\":\"strict\",\"colorway\":[\"#636efa\",\"#EF553B\",\"#00cc96\",\"#ab63fa\",\"#FFA15A\",\"#19d3f3\",\"#FF6692\",\"#B6E880\",\"#FF97FF\",\"#FECB52\"],\"font\":{\"color\":\"#2a3f5f\"},\"hovermode\":\"closest\",\"hoverlabel\":{\"align\":\"left\"},\"paper_bgcolor\":\"white\",\"plot_bgcolor\":\"#E5ECF6\",\"polar\":{\"bgcolor\":\"#E5ECF6\",\"angularaxis\":{\"gridcolor\":\"white\",\"linecolor\":\"white\",\"ticks\":\"\"},\"radialaxis\":{\"gridcolor\":\"white\",\"linecolor\":\"white\",\"ticks\":\"\"}},\"ternary\":{\"bgcolor\":\"#E5ECF6\",\"aaxis\":{\"gridcolor\":\"white\",\"linecolor\":\"white\",\"ticks\":\"\"},\"baxis\":{\"gridcolor\":\"white\",\"linecolor\":\"white\",\"ticks\":\"\"},\"caxis\":{\"gridcolor\":\"white\",\"linecolor\":\"white\",\"ticks\":\"\"}},\"coloraxis\":{\"colorbar\":{\"outlinewidth\":0,\"ticks\":\"\"}},\"colorscale\":{\"sequential\":[[0.0,\"#0d0887\"],[0.1111111111111111,\"#46039f\"],[0.2222222222222222,\"#7201a8\"],[0.3333333333333333,\"#9c179e\"],[0.4444444444444444,\"#bd3786\"],[0.5555555555555556,\"#d8576b\"],[0.6666666666666666,\"#ed7953\"],[0.7777777777777778,\"#fb9f3a\"],[0.8888888888888888,\"#fdca26\"],[1.0,\"#f0f921\"]],\"sequentialminus\":[[0.0,\"#0d0887\"],[0.1111111111111111,\"#46039f\"],[0.2222222222222222,\"#7201a8\"],[0.3333333333333333,\"#9c179e\"],[0.4444444444444444,\"#bd3786\"],[0.5555555555555556,\"#d8576b\"],[0.6666666666666666,\"#ed7953\"],[0.7777777777777778,\"#fb9f3a\"],[0.8888888888888888,\"#fdca26\"],[1.0,\"#f0f921\"]],\"diverging\":[[0,\"#8e0152\"],[0.1,\"#c51b7d\"],[0.2,\"#de77ae\"],[0.3,\"#f1b6da\"],[0.4,\"#fde0ef\"],[0.5,\"#f7f7f7\"],[0.6,\"#e6f5d0\"],[0.7,\"#b8e186\"],[0.8,\"#7fbc41\"],[0.9,\"#4d9221\"],[1,\"#276419\"]]},\"xaxis\":{\"gridcolor\":\"white\",\"linecolor\":\"white\",\"ticks\":\"\",\"title\":{\"standoff\":15},\"zerolinecolor\":\"white\",\"automargin\":true,\"zerolinewidth\":2},\"yaxis\":{\"gridcolor\":\"white\",\"linecolor\":\"white\",\"ticks\":\"\",\"title\":{\"standoff\":15},\"zerolinecolor\":\"white\",\"automargin\":true,\"zerolinewidth\":2},\"scene\":{\"xaxis\":{\"backgroundcolor\":\"#E5ECF6\",\"gridcolor\":\"white\",\"linecolor\":\"white\",\"showbackground\":true,\"ticks\":\"\",\"zerolinecolor\":\"white\",\"gridwidth\":2},\"yaxis\":{\"backgroundcolor\":\"#E5ECF6\",\"gridcolor\":\"white\",\"linecolor\":\"white\",\"showbackground\":true,\"ticks\":\"\",\"zerolinecolor\":\"white\",\"gridwidth\":2},\"zaxis\":{\"backgroundcolor\":\"#E5ECF6\",\"gridcolor\":\"white\",\"linecolor\":\"white\",\"showbackground\":true,\"ticks\":\"\",\"zerolinecolor\":\"white\",\"gridwidth\":2}},\"shapedefaults\":{\"line\":{\"color\":\"#2a3f5f\"}},\"annotationdefaults\":{\"arrowcolor\":\"#2a3f5f\",\"arrowhead\":0,\"arrowwidth\":1},\"geo\":{\"bgcolor\":\"white\",\"landcolor\":\"#E5ECF6\",\"subunitcolor\":\"white\",\"showland\":true,\"showlakes\":true,\"lakecolor\":\"white\"},\"title\":{\"x\":0.05},\"mapbox\":{\"style\":\"light\"}}},\"xaxis\":{\"anchor\":\"y\",\"domain\":[0.0,1.0],\"title\":{\"text\":\"waiting\"}},\"yaxis\":{\"anchor\":\"x\",\"domain\":[0.0,1.0],\"title\":{\"text\":\"duration\"}},\"legend\":{\"tracegroupgap\":0},\"title\":{\"text\":\"Old Faithful Geyser Eruptions for short wait times (\\u003e71)\"}},                        {\"responsive\": true}                    ).then(function(){\n",
       "                            \n",
       "var gd = document.getElementById('30eb4d28-32f2-4d7b-80a0-06030226d055');\n",
       "var x = new MutationObserver(function (mutations, observer) {{\n",
       "        var display = window.getComputedStyle(gd).display;\n",
       "        if (!display || display === 'none') {{\n",
       "            console.log([gd, 'removed!']);\n",
       "            Plotly.purge(gd);\n",
       "            observer.disconnect();\n",
       "        }}\n",
       "}});\n",
       "\n",
       "// Listen for the removal of the full notebook cells\n",
       "var notebookContainer = gd.closest('#notebook-container');\n",
       "if (notebookContainer) {{\n",
       "    x.observe(notebookContainer, {childList: true});\n",
       "}}\n",
       "\n",
       "// Listen for the clearing of the current output cell\n",
       "var outputEl = gd.closest('.output');\n",
       "if (outputEl) {{\n",
       "    x.observe(outputEl, {childList: true});\n",
       "}}\n",
       "\n",
       "                        })                };                });            </script>        </div>"
      ]
     },
     "metadata": {},
     "output_type": "display_data"
    }
   ],
   "source": [
    "import plotly.express as px\n",
    "\n",
    "long_wait_limit = 71\n",
    "long_wait = old_faithful.waiting > long_wait_limit\n",
    "\n",
    "print(smf.ols('duration ~ waiting', data=old_faithful[long_wait]).fit().summary().tables[1])\n",
    "\n",
    "# Create a scatter plot with a linear regression trendline\n",
    "fig = px.scatter(old_faithful[long_wait], x='waiting', y='duration', \n",
    "                 title=\"Old Faithful Geyser Eruptions for short wait times (>\"+str(long_wait_limit)+\")\", \n",
    "                 trendline='ols')\n",
    "fig.show() # USE `fig.show(renderer=\"png\")` FOR ALL GitHub and MarkUs SUBMISSIONS"
   ]
  },
  {
   "cell_type": "markdown",
   "id": "a1163d93",
   "metadata": {},
   "source": [
    "### 11. Since we've considered wait times of around <64  \"short\" and wait times of >71 \"long\", let's instead just divide the data and insead call wait times of <68 \"short\" and otherwise just call them \"long\". Consider the *Simple Linear Regression* model specification using an *indicator variable* of the wait time length<br>\n",
    "\n",
    "$$\\large Y_i = \\beta_{\\text{intercept}} + 1_{[\\text{\"long\"}]}(\\text{k_i})\\beta_{\\text{contrast}} + \\epsilon_i \\quad \\text{ where } \\quad \\epsilon_i \\sim \\mathcal N\\left(0, \\sigma\\right)$$\n",
    "\n",
    "### where we use $k_i$ (rather than $x_i$) (to refer to the \"kind\" or \"katagory\" or \"kontrast\") column (that you may have noticed was already a part) of the original dataset; and, explain the \"big picture\" differences between this model specification and the previously considered model specifications<br>\n",
    "\n",
    "1. `smf.ols('duration ~ waiting', data=old_faithful)`\n",
    "2. `smf.ols('duration ~ waiting', data=old_faithful[short_wait])`\n",
    "3. `smf.ols('duration ~ waiting', data=old_faithful[long_wait])`\n",
    "\n",
    "### and report the evidence against a *null hypothesis* of \"no difference between groups \"on average\") for the new *indicator variable* based model<br>\n"
   ]
  },
  {
   "cell_type": "code",
   "execution_count": 14,
   "id": "1efc4f93",
   "metadata": {},
   "outputs": [
    {
     "data": {
      "text/html": [
       "<table class=\"simpletable\">\n",
       "<tr>\n",
       "                        <td></td>                           <th>coef</th>     <th>std err</th>      <th>t</th>      <th>P>|t|</th>  <th>[0.025</th>    <th>0.975]</th>  \n",
       "</tr>\n",
       "<tr>\n",
       "  <th>Intercept</th>                                     <td>    2.0943</td> <td>    0.041</td> <td>   50.752</td> <td> 0.000</td> <td>    2.013</td> <td>    2.176</td>\n",
       "</tr>\n",
       "<tr>\n",
       "  <th>C(kind, Treatment(reference=\"short\"))[T.long]</th> <td>    2.2036</td> <td>    0.052</td> <td>   42.464</td> <td> 0.000</td> <td>    2.101</td> <td>    2.306</td>\n",
       "</tr>\n",
       "</table>"
      ],
      "text/latex": [
       "\\begin{center}\n",
       "\\begin{tabular}{lcccccc}\n",
       "\\toprule\n",
       "                                                       & \\textbf{coef} & \\textbf{std err} & \\textbf{t} & \\textbf{P$> |$t$|$} & \\textbf{[0.025} & \\textbf{0.975]}  \\\\\n",
       "\\midrule\n",
       "\\textbf{Intercept}                                     &       2.0943  &        0.041     &    50.752  &         0.000        &        2.013    &        2.176     \\\\\n",
       "\\textbf{C(kind, Treatment(reference=\"short\"))[T.long]} &       2.2036  &        0.052     &    42.464  &         0.000        &        2.101    &        2.306     \\\\\n",
       "\\bottomrule\n",
       "\\end{tabular}\n",
       "\\end{center}"
      ],
      "text/plain": [
       "<class 'statsmodels.iolib.table.SimpleTable'>"
      ]
     },
     "metadata": {},
     "output_type": "display_data"
    },
    {
     "data": {
      "application/vnd.plotly.v1+json": {
       "config": {
        "plotlyServerURL": "https://plot.ly"
       },
       "data": [
        {
         "alignmentgroup": "True",
         "hovertemplate": "kind=%{x}<br>duration=%{y}<extra></extra>",
         "legendgroup": "",
         "marker": {
          "color": "#636efa"
         },
         "name": "",
         "notched": false,
         "offsetgroup": "",
         "orientation": "v",
         "showlegend": false,
         "type": "box",
         "x": [
          "long",
          "short",
          "long",
          "short",
          "long",
          "short",
          "long",
          "long",
          "short",
          "long",
          "short",
          "long",
          "long",
          "short",
          "long",
          "short",
          "short",
          "long",
          "short",
          "long",
          "short",
          "short",
          "long",
          "long",
          "long",
          "long",
          "short",
          "long",
          "long",
          "long",
          "long",
          "long",
          "short",
          "long",
          "long",
          "short",
          "short",
          "long",
          "short",
          "long",
          "long",
          "short",
          "long",
          "short",
          "long",
          "long",
          "short",
          "short",
          "long",
          "short",
          "long",
          "long",
          "short",
          "long",
          "short",
          "long",
          "long",
          "short",
          "long",
          "long",
          "short",
          "long",
          "short",
          "long",
          "short",
          "long",
          "long",
          "long",
          "short",
          "long",
          "long",
          "short",
          "long",
          "long",
          "short",
          "long",
          "short",
          "long",
          "long",
          "long",
          "long",
          "long",
          "long",
          "short",
          "long",
          "long",
          "long",
          "long",
          "short",
          "long",
          "short",
          "long",
          "short",
          "long",
          "short",
          "long",
          "long",
          "long",
          "short",
          "long",
          "short",
          "long",
          "short",
          "long",
          "long",
          "short",
          "long",
          "short",
          "long",
          "long",
          "long",
          "short",
          "long",
          "long",
          "short",
          "long",
          "short",
          "long",
          "short",
          "long",
          "short",
          "long",
          "long",
          "short",
          "long",
          "long",
          "short",
          "long",
          "short",
          "long",
          "short",
          "long",
          "short",
          "long",
          "short",
          "long",
          "short",
          "long",
          "short",
          "long",
          "long",
          "short",
          "long",
          "long",
          "long",
          "short",
          "long",
          "short",
          "long",
          "short",
          "long",
          "long",
          "short",
          "long",
          "long",
          "long",
          "long",
          "long",
          "short",
          "long",
          "short",
          "long",
          "short",
          "long",
          "short",
          "long",
          "short",
          "long",
          "short",
          "long",
          "short",
          "short",
          "long",
          "long",
          "long",
          "long",
          "long",
          "short",
          "long",
          "long",
          "short",
          "long",
          "long",
          "long",
          "short",
          "long",
          "long",
          "short",
          "long",
          "short",
          "long",
          "short",
          "long",
          "long",
          "long",
          "long",
          "long",
          "long",
          "short",
          "long",
          "short",
          "long",
          "long",
          "short",
          "long",
          "short",
          "long",
          "long",
          "short",
          "long",
          "long",
          "long",
          "short",
          "long",
          "short",
          "long",
          "short",
          "long",
          "short",
          "long",
          "short",
          "long",
          "short",
          "long",
          "long",
          "long",
          "long",
          "long",
          "long",
          "long",
          "long",
          "short",
          "long",
          "short",
          "long",
          "short",
          "short",
          "long",
          "long",
          "short",
          "long",
          "short",
          "long",
          "short",
          "long",
          "long",
          "short",
          "long",
          "short",
          "long",
          "short",
          "long",
          "long",
          "long",
          "long",
          "long",
          "long",
          "long",
          "short",
          "long",
          "long",
          "long",
          "short",
          "long",
          "short",
          "short",
          "long",
          "long",
          "short",
          "long",
          "short",
          "long"
         ],
         "x0": " ",
         "xaxis": "x",
         "y": [
          3.6,
          1.8,
          3.333,
          2.283,
          4.533,
          2.883,
          4.7,
          3.6,
          1.95,
          4.35,
          1.833,
          3.917,
          4.2,
          1.75,
          4.7,
          2.167,
          1.75,
          4.8,
          1.6,
          4.25,
          1.8,
          1.75,
          3.45,
          3.067,
          4.533,
          3.6,
          1.967,
          4.083,
          3.85,
          4.433,
          4.3,
          4.467,
          3.367,
          4.033,
          3.833,
          2.017,
          1.867,
          4.833,
          1.833,
          4.783,
          4.35,
          1.883,
          4.567,
          1.75,
          4.533,
          3.317,
          3.833,
          2.1,
          4.633,
          2,
          4.8,
          4.716,
          1.833,
          4.833,
          1.733,
          4.883,
          3.717,
          1.6669999999999998,
          4.567,
          4.317,
          2.233,
          4.5,
          1.75,
          4.8,
          1.817,
          4.4,
          4.167,
          4.7,
          2.067,
          4.7,
          4.033,
          1.967,
          4.5,
          4,
          1.983,
          5.067,
          2.017,
          4.567,
          3.883,
          3.6,
          4.133,
          4.333,
          4.1,
          2.633,
          4.067,
          4.933,
          3.95,
          4.517,
          2.167,
          4,
          2.2,
          4.333,
          1.867,
          4.817,
          1.833,
          4.3,
          4.667,
          3.75,
          1.867,
          4.9,
          2.483,
          4.367,
          2.1,
          4.5,
          4.05,
          1.867,
          4.7,
          1.783,
          4.85,
          3.683,
          4.7330000000000005,
          2.3,
          4.9,
          4.417,
          1.7,
          4.633,
          2.317,
          4.6,
          1.817,
          4.417,
          2.617,
          4.067,
          4.25,
          1.967,
          4.6,
          3.767,
          1.917,
          4.5,
          2.267,
          4.65,
          1.867,
          4.167,
          2.8,
          4.333,
          1.833,
          4.383,
          1.883,
          4.933,
          2.033,
          3.733,
          4.2330000000000005,
          2.233,
          4.533,
          4.817,
          4.333,
          1.983,
          4.633,
          2.017,
          5.1,
          1.8,
          5.033,
          4,
          2.4,
          4.6,
          3.567,
          4,
          4.5,
          4.083,
          1.8,
          3.967,
          2.2,
          4.15,
          2,
          3.833,
          3.5,
          4.583,
          2.367,
          5,
          1.933,
          4.617,
          1.917,
          2.083,
          4.583,
          3.333,
          4.167,
          4.333,
          4.5,
          2.417,
          4,
          4.167,
          1.883,
          4.583,
          4.25,
          3.767,
          2.033,
          4.433,
          4.083,
          1.833,
          4.417,
          2.1830000000000003,
          4.8,
          1.833,
          4.8,
          4.1,
          3.966,
          4.2330000000000005,
          3.5,
          4.3660000000000005,
          2.25,
          4.667,
          2.1,
          4.35,
          4.133,
          1.867,
          4.6,
          1.783,
          4.367,
          3.85,
          1.933,
          4.5,
          2.383,
          4.7,
          1.867,
          3.833,
          3.417,
          4.2330000000000005,
          2.4,
          4.8,
          2,
          4.15,
          1.867,
          4.267,
          1.75,
          4.4830000000000005,
          4,
          4.117,
          4.083,
          4.267,
          3.917,
          4.55,
          4.083,
          2.417,
          4.183,
          2.217,
          4.45,
          1.883,
          1.85,
          4.283,
          3.95,
          2.333,
          4.15,
          2.35,
          4.933,
          2.9,
          4.583,
          3.833,
          2.083,
          4.367,
          2.133,
          4.35,
          2.2,
          4.45,
          3.567,
          4.5,
          4.15,
          3.817,
          3.917,
          4.45,
          2,
          4.283,
          4.767,
          4.533,
          1.85,
          4.25,
          1.983,
          2.25,
          4.75,
          4.117,
          2.15,
          4.417,
          1.817,
          4.467
         ],
         "y0": " ",
         "yaxis": "y"
        }
       ],
       "layout": {
        "boxmode": "group",
        "legend": {
         "tracegroupgap": 0
        },
        "template": {
         "data": {
          "bar": [
           {
            "error_x": {
             "color": "#2a3f5f"
            },
            "error_y": {
             "color": "#2a3f5f"
            },
            "marker": {
             "line": {
              "color": "#E5ECF6",
              "width": 0.5
             },
             "pattern": {
              "fillmode": "overlay",
              "size": 10,
              "solidity": 0.2
             }
            },
            "type": "bar"
           }
          ],
          "barpolar": [
           {
            "marker": {
             "line": {
              "color": "#E5ECF6",
              "width": 0.5
             },
             "pattern": {
              "fillmode": "overlay",
              "size": 10,
              "solidity": 0.2
             }
            },
            "type": "barpolar"
           }
          ],
          "carpet": [
           {
            "aaxis": {
             "endlinecolor": "#2a3f5f",
             "gridcolor": "white",
             "linecolor": "white",
             "minorgridcolor": "white",
             "startlinecolor": "#2a3f5f"
            },
            "baxis": {
             "endlinecolor": "#2a3f5f",
             "gridcolor": "white",
             "linecolor": "white",
             "minorgridcolor": "white",
             "startlinecolor": "#2a3f5f"
            },
            "type": "carpet"
           }
          ],
          "choropleth": [
           {
            "colorbar": {
             "outlinewidth": 0,
             "ticks": ""
            },
            "type": "choropleth"
           }
          ],
          "contour": [
           {
            "colorbar": {
             "outlinewidth": 0,
             "ticks": ""
            },
            "colorscale": [
             [
              0,
              "#0d0887"
             ],
             [
              0.1111111111111111,
              "#46039f"
             ],
             [
              0.2222222222222222,
              "#7201a8"
             ],
             [
              0.3333333333333333,
              "#9c179e"
             ],
             [
              0.4444444444444444,
              "#bd3786"
             ],
             [
              0.5555555555555556,
              "#d8576b"
             ],
             [
              0.6666666666666666,
              "#ed7953"
             ],
             [
              0.7777777777777778,
              "#fb9f3a"
             ],
             [
              0.8888888888888888,
              "#fdca26"
             ],
             [
              1,
              "#f0f921"
             ]
            ],
            "type": "contour"
           }
          ],
          "contourcarpet": [
           {
            "colorbar": {
             "outlinewidth": 0,
             "ticks": ""
            },
            "type": "contourcarpet"
           }
          ],
          "heatmap": [
           {
            "colorbar": {
             "outlinewidth": 0,
             "ticks": ""
            },
            "colorscale": [
             [
              0,
              "#0d0887"
             ],
             [
              0.1111111111111111,
              "#46039f"
             ],
             [
              0.2222222222222222,
              "#7201a8"
             ],
             [
              0.3333333333333333,
              "#9c179e"
             ],
             [
              0.4444444444444444,
              "#bd3786"
             ],
             [
              0.5555555555555556,
              "#d8576b"
             ],
             [
              0.6666666666666666,
              "#ed7953"
             ],
             [
              0.7777777777777778,
              "#fb9f3a"
             ],
             [
              0.8888888888888888,
              "#fdca26"
             ],
             [
              1,
              "#f0f921"
             ]
            ],
            "type": "heatmap"
           }
          ],
          "heatmapgl": [
           {
            "colorbar": {
             "outlinewidth": 0,
             "ticks": ""
            },
            "colorscale": [
             [
              0,
              "#0d0887"
             ],
             [
              0.1111111111111111,
              "#46039f"
             ],
             [
              0.2222222222222222,
              "#7201a8"
             ],
             [
              0.3333333333333333,
              "#9c179e"
             ],
             [
              0.4444444444444444,
              "#bd3786"
             ],
             [
              0.5555555555555556,
              "#d8576b"
             ],
             [
              0.6666666666666666,
              "#ed7953"
             ],
             [
              0.7777777777777778,
              "#fb9f3a"
             ],
             [
              0.8888888888888888,
              "#fdca26"
             ],
             [
              1,
              "#f0f921"
             ]
            ],
            "type": "heatmapgl"
           }
          ],
          "histogram": [
           {
            "marker": {
             "pattern": {
              "fillmode": "overlay",
              "size": 10,
              "solidity": 0.2
             }
            },
            "type": "histogram"
           }
          ],
          "histogram2d": [
           {
            "colorbar": {
             "outlinewidth": 0,
             "ticks": ""
            },
            "colorscale": [
             [
              0,
              "#0d0887"
             ],
             [
              0.1111111111111111,
              "#46039f"
             ],
             [
              0.2222222222222222,
              "#7201a8"
             ],
             [
              0.3333333333333333,
              "#9c179e"
             ],
             [
              0.4444444444444444,
              "#bd3786"
             ],
             [
              0.5555555555555556,
              "#d8576b"
             ],
             [
              0.6666666666666666,
              "#ed7953"
             ],
             [
              0.7777777777777778,
              "#fb9f3a"
             ],
             [
              0.8888888888888888,
              "#fdca26"
             ],
             [
              1,
              "#f0f921"
             ]
            ],
            "type": "histogram2d"
           }
          ],
          "histogram2dcontour": [
           {
            "colorbar": {
             "outlinewidth": 0,
             "ticks": ""
            },
            "colorscale": [
             [
              0,
              "#0d0887"
             ],
             [
              0.1111111111111111,
              "#46039f"
             ],
             [
              0.2222222222222222,
              "#7201a8"
             ],
             [
              0.3333333333333333,
              "#9c179e"
             ],
             [
              0.4444444444444444,
              "#bd3786"
             ],
             [
              0.5555555555555556,
              "#d8576b"
             ],
             [
              0.6666666666666666,
              "#ed7953"
             ],
             [
              0.7777777777777778,
              "#fb9f3a"
             ],
             [
              0.8888888888888888,
              "#fdca26"
             ],
             [
              1,
              "#f0f921"
             ]
            ],
            "type": "histogram2dcontour"
           }
          ],
          "mesh3d": [
           {
            "colorbar": {
             "outlinewidth": 0,
             "ticks": ""
            },
            "type": "mesh3d"
           }
          ],
          "parcoords": [
           {
            "line": {
             "colorbar": {
              "outlinewidth": 0,
              "ticks": ""
             }
            },
            "type": "parcoords"
           }
          ],
          "pie": [
           {
            "automargin": true,
            "type": "pie"
           }
          ],
          "scatter": [
           {
            "fillpattern": {
             "fillmode": "overlay",
             "size": 10,
             "solidity": 0.2
            },
            "type": "scatter"
           }
          ],
          "scatter3d": [
           {
            "line": {
             "colorbar": {
              "outlinewidth": 0,
              "ticks": ""
             }
            },
            "marker": {
             "colorbar": {
              "outlinewidth": 0,
              "ticks": ""
             }
            },
            "type": "scatter3d"
           }
          ],
          "scattercarpet": [
           {
            "marker": {
             "colorbar": {
              "outlinewidth": 0,
              "ticks": ""
             }
            },
            "type": "scattercarpet"
           }
          ],
          "scattergeo": [
           {
            "marker": {
             "colorbar": {
              "outlinewidth": 0,
              "ticks": ""
             }
            },
            "type": "scattergeo"
           }
          ],
          "scattergl": [
           {
            "marker": {
             "colorbar": {
              "outlinewidth": 0,
              "ticks": ""
             }
            },
            "type": "scattergl"
           }
          ],
          "scattermapbox": [
           {
            "marker": {
             "colorbar": {
              "outlinewidth": 0,
              "ticks": ""
             }
            },
            "type": "scattermapbox"
           }
          ],
          "scatterpolar": [
           {
            "marker": {
             "colorbar": {
              "outlinewidth": 0,
              "ticks": ""
             }
            },
            "type": "scatterpolar"
           }
          ],
          "scatterpolargl": [
           {
            "marker": {
             "colorbar": {
              "outlinewidth": 0,
              "ticks": ""
             }
            },
            "type": "scatterpolargl"
           }
          ],
          "scatterternary": [
           {
            "marker": {
             "colorbar": {
              "outlinewidth": 0,
              "ticks": ""
             }
            },
            "type": "scatterternary"
           }
          ],
          "surface": [
           {
            "colorbar": {
             "outlinewidth": 0,
             "ticks": ""
            },
            "colorscale": [
             [
              0,
              "#0d0887"
             ],
             [
              0.1111111111111111,
              "#46039f"
             ],
             [
              0.2222222222222222,
              "#7201a8"
             ],
             [
              0.3333333333333333,
              "#9c179e"
             ],
             [
              0.4444444444444444,
              "#bd3786"
             ],
             [
              0.5555555555555556,
              "#d8576b"
             ],
             [
              0.6666666666666666,
              "#ed7953"
             ],
             [
              0.7777777777777778,
              "#fb9f3a"
             ],
             [
              0.8888888888888888,
              "#fdca26"
             ],
             [
              1,
              "#f0f921"
             ]
            ],
            "type": "surface"
           }
          ],
          "table": [
           {
            "cells": {
             "fill": {
              "color": "#EBF0F8"
             },
             "line": {
              "color": "white"
             }
            },
            "header": {
             "fill": {
              "color": "#C8D4E3"
             },
             "line": {
              "color": "white"
             }
            },
            "type": "table"
           }
          ]
         },
         "layout": {
          "annotationdefaults": {
           "arrowcolor": "#2a3f5f",
           "arrowhead": 0,
           "arrowwidth": 1
          },
          "autotypenumbers": "strict",
          "coloraxis": {
           "colorbar": {
            "outlinewidth": 0,
            "ticks": ""
           }
          },
          "colorscale": {
           "diverging": [
            [
             0,
             "#8e0152"
            ],
            [
             0.1,
             "#c51b7d"
            ],
            [
             0.2,
             "#de77ae"
            ],
            [
             0.3,
             "#f1b6da"
            ],
            [
             0.4,
             "#fde0ef"
            ],
            [
             0.5,
             "#f7f7f7"
            ],
            [
             0.6,
             "#e6f5d0"
            ],
            [
             0.7,
             "#b8e186"
            ],
            [
             0.8,
             "#7fbc41"
            ],
            [
             0.9,
             "#4d9221"
            ],
            [
             1,
             "#276419"
            ]
           ],
           "sequential": [
            [
             0,
             "#0d0887"
            ],
            [
             0.1111111111111111,
             "#46039f"
            ],
            [
             0.2222222222222222,
             "#7201a8"
            ],
            [
             0.3333333333333333,
             "#9c179e"
            ],
            [
             0.4444444444444444,
             "#bd3786"
            ],
            [
             0.5555555555555556,
             "#d8576b"
            ],
            [
             0.6666666666666666,
             "#ed7953"
            ],
            [
             0.7777777777777778,
             "#fb9f3a"
            ],
            [
             0.8888888888888888,
             "#fdca26"
            ],
            [
             1,
             "#f0f921"
            ]
           ],
           "sequentialminus": [
            [
             0,
             "#0d0887"
            ],
            [
             0.1111111111111111,
             "#46039f"
            ],
            [
             0.2222222222222222,
             "#7201a8"
            ],
            [
             0.3333333333333333,
             "#9c179e"
            ],
            [
             0.4444444444444444,
             "#bd3786"
            ],
            [
             0.5555555555555556,
             "#d8576b"
            ],
            [
             0.6666666666666666,
             "#ed7953"
            ],
            [
             0.7777777777777778,
             "#fb9f3a"
            ],
            [
             0.8888888888888888,
             "#fdca26"
            ],
            [
             1,
             "#f0f921"
            ]
           ]
          },
          "colorway": [
           "#636efa",
           "#EF553B",
           "#00cc96",
           "#ab63fa",
           "#FFA15A",
           "#19d3f3",
           "#FF6692",
           "#B6E880",
           "#FF97FF",
           "#FECB52"
          ],
          "font": {
           "color": "#2a3f5f"
          },
          "geo": {
           "bgcolor": "white",
           "lakecolor": "white",
           "landcolor": "#E5ECF6",
           "showlakes": true,
           "showland": true,
           "subunitcolor": "white"
          },
          "hoverlabel": {
           "align": "left"
          },
          "hovermode": "closest",
          "mapbox": {
           "style": "light"
          },
          "paper_bgcolor": "white",
          "plot_bgcolor": "#E5ECF6",
          "polar": {
           "angularaxis": {
            "gridcolor": "white",
            "linecolor": "white",
            "ticks": ""
           },
           "bgcolor": "#E5ECF6",
           "radialaxis": {
            "gridcolor": "white",
            "linecolor": "white",
            "ticks": ""
           }
          },
          "scene": {
           "xaxis": {
            "backgroundcolor": "#E5ECF6",
            "gridcolor": "white",
            "gridwidth": 2,
            "linecolor": "white",
            "showbackground": true,
            "ticks": "",
            "zerolinecolor": "white"
           },
           "yaxis": {
            "backgroundcolor": "#E5ECF6",
            "gridcolor": "white",
            "gridwidth": 2,
            "linecolor": "white",
            "showbackground": true,
            "ticks": "",
            "zerolinecolor": "white"
           },
           "zaxis": {
            "backgroundcolor": "#E5ECF6",
            "gridcolor": "white",
            "gridwidth": 2,
            "linecolor": "white",
            "showbackground": true,
            "ticks": "",
            "zerolinecolor": "white"
           }
          },
          "shapedefaults": {
           "line": {
            "color": "#2a3f5f"
           }
          },
          "ternary": {
           "aaxis": {
            "gridcolor": "white",
            "linecolor": "white",
            "ticks": ""
           },
           "baxis": {
            "gridcolor": "white",
            "linecolor": "white",
            "ticks": ""
           },
           "bgcolor": "#E5ECF6",
           "caxis": {
            "gridcolor": "white",
            "linecolor": "white",
            "ticks": ""
           }
          },
          "title": {
           "x": 0.05
          },
          "xaxis": {
           "automargin": true,
           "gridcolor": "white",
           "linecolor": "white",
           "ticks": "",
           "title": {
            "standoff": 15
           },
           "zerolinecolor": "white",
           "zerolinewidth": 2
          },
          "yaxis": {
           "automargin": true,
           "gridcolor": "white",
           "linecolor": "white",
           "ticks": "",
           "title": {
            "standoff": 15
           },
           "zerolinecolor": "white",
           "zerolinewidth": 2
          }
         }
        },
        "title": {
         "text": "duration ~ kind"
        },
        "xaxis": {
         "anchor": "y",
         "categoryarray": [
          "short",
          "long"
         ],
         "categoryorder": "array",
         "domain": [
          0,
          1
         ],
         "title": {
          "text": "kind"
         }
        },
        "yaxis": {
         "anchor": "x",
         "domain": [
          0,
          1
         ],
         "title": {
          "text": "duration"
         }
        }
       }
      },
      "text/html": [
       "<div>                            <div id=\"f5a2f9e1-615a-4578-a568-cdac4044a5a1\" class=\"plotly-graph-div\" style=\"height:525px; width:100%;\"></div>            <script type=\"text/javascript\">                require([\"plotly\"], function(Plotly) {                    window.PLOTLYENV=window.PLOTLYENV || {};                                    if (document.getElementById(\"f5a2f9e1-615a-4578-a568-cdac4044a5a1\")) {                    Plotly.newPlot(                        \"f5a2f9e1-615a-4578-a568-cdac4044a5a1\",                        [{\"alignmentgroup\":\"True\",\"hovertemplate\":\"kind=%{x}\\u003cbr\\u003eduration=%{y}\\u003cextra\\u003e\\u003c\\u002fextra\\u003e\",\"legendgroup\":\"\",\"marker\":{\"color\":\"#636efa\"},\"name\":\"\",\"notched\":false,\"offsetgroup\":\"\",\"orientation\":\"v\",\"showlegend\":false,\"x\":[\"long\",\"short\",\"long\",\"short\",\"long\",\"short\",\"long\",\"long\",\"short\",\"long\",\"short\",\"long\",\"long\",\"short\",\"long\",\"short\",\"short\",\"long\",\"short\",\"long\",\"short\",\"short\",\"long\",\"long\",\"long\",\"long\",\"short\",\"long\",\"long\",\"long\",\"long\",\"long\",\"short\",\"long\",\"long\",\"short\",\"short\",\"long\",\"short\",\"long\",\"long\",\"short\",\"long\",\"short\",\"long\",\"long\",\"short\",\"short\",\"long\",\"short\",\"long\",\"long\",\"short\",\"long\",\"short\",\"long\",\"long\",\"short\",\"long\",\"long\",\"short\",\"long\",\"short\",\"long\",\"short\",\"long\",\"long\",\"long\",\"short\",\"long\",\"long\",\"short\",\"long\",\"long\",\"short\",\"long\",\"short\",\"long\",\"long\",\"long\",\"long\",\"long\",\"long\",\"short\",\"long\",\"long\",\"long\",\"long\",\"short\",\"long\",\"short\",\"long\",\"short\",\"long\",\"short\",\"long\",\"long\",\"long\",\"short\",\"long\",\"short\",\"long\",\"short\",\"long\",\"long\",\"short\",\"long\",\"short\",\"long\",\"long\",\"long\",\"short\",\"long\",\"long\",\"short\",\"long\",\"short\",\"long\",\"short\",\"long\",\"short\",\"long\",\"long\",\"short\",\"long\",\"long\",\"short\",\"long\",\"short\",\"long\",\"short\",\"long\",\"short\",\"long\",\"short\",\"long\",\"short\",\"long\",\"short\",\"long\",\"long\",\"short\",\"long\",\"long\",\"long\",\"short\",\"long\",\"short\",\"long\",\"short\",\"long\",\"long\",\"short\",\"long\",\"long\",\"long\",\"long\",\"long\",\"short\",\"long\",\"short\",\"long\",\"short\",\"long\",\"short\",\"long\",\"short\",\"long\",\"short\",\"long\",\"short\",\"short\",\"long\",\"long\",\"long\",\"long\",\"long\",\"short\",\"long\",\"long\",\"short\",\"long\",\"long\",\"long\",\"short\",\"long\",\"long\",\"short\",\"long\",\"short\",\"long\",\"short\",\"long\",\"long\",\"long\",\"long\",\"long\",\"long\",\"short\",\"long\",\"short\",\"long\",\"long\",\"short\",\"long\",\"short\",\"long\",\"long\",\"short\",\"long\",\"long\",\"long\",\"short\",\"long\",\"short\",\"long\",\"short\",\"long\",\"short\",\"long\",\"short\",\"long\",\"short\",\"long\",\"long\",\"long\",\"long\",\"long\",\"long\",\"long\",\"long\",\"short\",\"long\",\"short\",\"long\",\"short\",\"short\",\"long\",\"long\",\"short\",\"long\",\"short\",\"long\",\"short\",\"long\",\"long\",\"short\",\"long\",\"short\",\"long\",\"short\",\"long\",\"long\",\"long\",\"long\",\"long\",\"long\",\"long\",\"short\",\"long\",\"long\",\"long\",\"short\",\"long\",\"short\",\"short\",\"long\",\"long\",\"short\",\"long\",\"short\",\"long\"],\"x0\":\" \",\"xaxis\":\"x\",\"y\":[3.6,1.8,3.333,2.283,4.533,2.883,4.7,3.6,1.95,4.35,1.833,3.917,4.2,1.75,4.7,2.167,1.75,4.8,1.6,4.25,1.8,1.75,3.45,3.067,4.533,3.6,1.967,4.083,3.85,4.433,4.3,4.467,3.367,4.033,3.833,2.017,1.867,4.833,1.833,4.783,4.35,1.883,4.567,1.75,4.533,3.317,3.833,2.1,4.633,2.0,4.8,4.716,1.833,4.833,1.733,4.883,3.717,1.6669999999999998,4.567,4.317,2.233,4.5,1.75,4.8,1.817,4.4,4.167,4.7,2.067,4.7,4.033,1.967,4.5,4.0,1.983,5.067,2.017,4.567,3.883,3.6,4.133,4.333,4.1,2.633,4.067,4.933,3.95,4.517,2.167,4.0,2.2,4.333,1.867,4.817,1.833,4.3,4.667,3.75,1.867,4.9,2.483,4.367,2.1,4.5,4.05,1.867,4.7,1.783,4.85,3.683,4.7330000000000005,2.3,4.9,4.417,1.7,4.633,2.317,4.6,1.817,4.417,2.617,4.067,4.25,1.967,4.6,3.767,1.917,4.5,2.267,4.65,1.867,4.167,2.8,4.333,1.833,4.383,1.883,4.933,2.033,3.733,4.2330000000000005,2.233,4.533,4.817,4.333,1.983,4.633,2.017,5.1,1.8,5.033,4.0,2.4,4.6,3.567,4.0,4.5,4.083,1.8,3.967,2.2,4.15,2.0,3.833,3.5,4.583,2.367,5.0,1.933,4.617,1.917,2.083,4.583,3.333,4.167,4.333,4.5,2.417,4.0,4.167,1.883,4.583,4.25,3.767,2.033,4.433,4.083,1.833,4.417,2.1830000000000003,4.8,1.833,4.8,4.1,3.966,4.2330000000000005,3.5,4.3660000000000005,2.25,4.667,2.1,4.35,4.133,1.867,4.6,1.783,4.367,3.85,1.933,4.5,2.383,4.7,1.867,3.833,3.417,4.2330000000000005,2.4,4.8,2.0,4.15,1.867,4.267,1.75,4.4830000000000005,4.0,4.117,4.083,4.267,3.917,4.55,4.083,2.417,4.183,2.217,4.45,1.883,1.85,4.283,3.95,2.333,4.15,2.35,4.933,2.9,4.583,3.833,2.083,4.367,2.133,4.35,2.2,4.45,3.567,4.5,4.15,3.817,3.917,4.45,2.0,4.283,4.767,4.533,1.85,4.25,1.983,2.25,4.75,4.117,2.15,4.417,1.817,4.467],\"y0\":\" \",\"yaxis\":\"y\",\"type\":\"box\"}],                        {\"template\":{\"data\":{\"histogram2dcontour\":[{\"type\":\"histogram2dcontour\",\"colorbar\":{\"outlinewidth\":0,\"ticks\":\"\"},\"colorscale\":[[0.0,\"#0d0887\"],[0.1111111111111111,\"#46039f\"],[0.2222222222222222,\"#7201a8\"],[0.3333333333333333,\"#9c179e\"],[0.4444444444444444,\"#bd3786\"],[0.5555555555555556,\"#d8576b\"],[0.6666666666666666,\"#ed7953\"],[0.7777777777777778,\"#fb9f3a\"],[0.8888888888888888,\"#fdca26\"],[1.0,\"#f0f921\"]]}],\"choropleth\":[{\"type\":\"choropleth\",\"colorbar\":{\"outlinewidth\":0,\"ticks\":\"\"}}],\"histogram2d\":[{\"type\":\"histogram2d\",\"colorbar\":{\"outlinewidth\":0,\"ticks\":\"\"},\"colorscale\":[[0.0,\"#0d0887\"],[0.1111111111111111,\"#46039f\"],[0.2222222222222222,\"#7201a8\"],[0.3333333333333333,\"#9c179e\"],[0.4444444444444444,\"#bd3786\"],[0.5555555555555556,\"#d8576b\"],[0.6666666666666666,\"#ed7953\"],[0.7777777777777778,\"#fb9f3a\"],[0.8888888888888888,\"#fdca26\"],[1.0,\"#f0f921\"]]}],\"heatmap\":[{\"type\":\"heatmap\",\"colorbar\":{\"outlinewidth\":0,\"ticks\":\"\"},\"colorscale\":[[0.0,\"#0d0887\"],[0.1111111111111111,\"#46039f\"],[0.2222222222222222,\"#7201a8\"],[0.3333333333333333,\"#9c179e\"],[0.4444444444444444,\"#bd3786\"],[0.5555555555555556,\"#d8576b\"],[0.6666666666666666,\"#ed7953\"],[0.7777777777777778,\"#fb9f3a\"],[0.8888888888888888,\"#fdca26\"],[1.0,\"#f0f921\"]]}],\"heatmapgl\":[{\"type\":\"heatmapgl\",\"colorbar\":{\"outlinewidth\":0,\"ticks\":\"\"},\"colorscale\":[[0.0,\"#0d0887\"],[0.1111111111111111,\"#46039f\"],[0.2222222222222222,\"#7201a8\"],[0.3333333333333333,\"#9c179e\"],[0.4444444444444444,\"#bd3786\"],[0.5555555555555556,\"#d8576b\"],[0.6666666666666666,\"#ed7953\"],[0.7777777777777778,\"#fb9f3a\"],[0.8888888888888888,\"#fdca26\"],[1.0,\"#f0f921\"]]}],\"contourcarpet\":[{\"type\":\"contourcarpet\",\"colorbar\":{\"outlinewidth\":0,\"ticks\":\"\"}}],\"contour\":[{\"type\":\"contour\",\"colorbar\":{\"outlinewidth\":0,\"ticks\":\"\"},\"colorscale\":[[0.0,\"#0d0887\"],[0.1111111111111111,\"#46039f\"],[0.2222222222222222,\"#7201a8\"],[0.3333333333333333,\"#9c179e\"],[0.4444444444444444,\"#bd3786\"],[0.5555555555555556,\"#d8576b\"],[0.6666666666666666,\"#ed7953\"],[0.7777777777777778,\"#fb9f3a\"],[0.8888888888888888,\"#fdca26\"],[1.0,\"#f0f921\"]]}],\"surface\":[{\"type\":\"surface\",\"colorbar\":{\"outlinewidth\":0,\"ticks\":\"\"},\"colorscale\":[[0.0,\"#0d0887\"],[0.1111111111111111,\"#46039f\"],[0.2222222222222222,\"#7201a8\"],[0.3333333333333333,\"#9c179e\"],[0.4444444444444444,\"#bd3786\"],[0.5555555555555556,\"#d8576b\"],[0.6666666666666666,\"#ed7953\"],[0.7777777777777778,\"#fb9f3a\"],[0.8888888888888888,\"#fdca26\"],[1.0,\"#f0f921\"]]}],\"mesh3d\":[{\"type\":\"mesh3d\",\"colorbar\":{\"outlinewidth\":0,\"ticks\":\"\"}}],\"scatter\":[{\"fillpattern\":{\"fillmode\":\"overlay\",\"size\":10,\"solidity\":0.2},\"type\":\"scatter\"}],\"parcoords\":[{\"type\":\"parcoords\",\"line\":{\"colorbar\":{\"outlinewidth\":0,\"ticks\":\"\"}}}],\"scatterpolargl\":[{\"type\":\"scatterpolargl\",\"marker\":{\"colorbar\":{\"outlinewidth\":0,\"ticks\":\"\"}}}],\"bar\":[{\"error_x\":{\"color\":\"#2a3f5f\"},\"error_y\":{\"color\":\"#2a3f5f\"},\"marker\":{\"line\":{\"color\":\"#E5ECF6\",\"width\":0.5},\"pattern\":{\"fillmode\":\"overlay\",\"size\":10,\"solidity\":0.2}},\"type\":\"bar\"}],\"scattergeo\":[{\"type\":\"scattergeo\",\"marker\":{\"colorbar\":{\"outlinewidth\":0,\"ticks\":\"\"}}}],\"scatterpolar\":[{\"type\":\"scatterpolar\",\"marker\":{\"colorbar\":{\"outlinewidth\":0,\"ticks\":\"\"}}}],\"histogram\":[{\"marker\":{\"pattern\":{\"fillmode\":\"overlay\",\"size\":10,\"solidity\":0.2}},\"type\":\"histogram\"}],\"scattergl\":[{\"type\":\"scattergl\",\"marker\":{\"colorbar\":{\"outlinewidth\":0,\"ticks\":\"\"}}}],\"scatter3d\":[{\"type\":\"scatter3d\",\"line\":{\"colorbar\":{\"outlinewidth\":0,\"ticks\":\"\"}},\"marker\":{\"colorbar\":{\"outlinewidth\":0,\"ticks\":\"\"}}}],\"scattermapbox\":[{\"type\":\"scattermapbox\",\"marker\":{\"colorbar\":{\"outlinewidth\":0,\"ticks\":\"\"}}}],\"scatterternary\":[{\"type\":\"scatterternary\",\"marker\":{\"colorbar\":{\"outlinewidth\":0,\"ticks\":\"\"}}}],\"scattercarpet\":[{\"type\":\"scattercarpet\",\"marker\":{\"colorbar\":{\"outlinewidth\":0,\"ticks\":\"\"}}}],\"carpet\":[{\"aaxis\":{\"endlinecolor\":\"#2a3f5f\",\"gridcolor\":\"white\",\"linecolor\":\"white\",\"minorgridcolor\":\"white\",\"startlinecolor\":\"#2a3f5f\"},\"baxis\":{\"endlinecolor\":\"#2a3f5f\",\"gridcolor\":\"white\",\"linecolor\":\"white\",\"minorgridcolor\":\"white\",\"startlinecolor\":\"#2a3f5f\"},\"type\":\"carpet\"}],\"table\":[{\"cells\":{\"fill\":{\"color\":\"#EBF0F8\"},\"line\":{\"color\":\"white\"}},\"header\":{\"fill\":{\"color\":\"#C8D4E3\"},\"line\":{\"color\":\"white\"}},\"type\":\"table\"}],\"barpolar\":[{\"marker\":{\"line\":{\"color\":\"#E5ECF6\",\"width\":0.5},\"pattern\":{\"fillmode\":\"overlay\",\"size\":10,\"solidity\":0.2}},\"type\":\"barpolar\"}],\"pie\":[{\"automargin\":true,\"type\":\"pie\"}]},\"layout\":{\"autotypenumbers\":\"strict\",\"colorway\":[\"#636efa\",\"#EF553B\",\"#00cc96\",\"#ab63fa\",\"#FFA15A\",\"#19d3f3\",\"#FF6692\",\"#B6E880\",\"#FF97FF\",\"#FECB52\"],\"font\":{\"color\":\"#2a3f5f\"},\"hovermode\":\"closest\",\"hoverlabel\":{\"align\":\"left\"},\"paper_bgcolor\":\"white\",\"plot_bgcolor\":\"#E5ECF6\",\"polar\":{\"bgcolor\":\"#E5ECF6\",\"angularaxis\":{\"gridcolor\":\"white\",\"linecolor\":\"white\",\"ticks\":\"\"},\"radialaxis\":{\"gridcolor\":\"white\",\"linecolor\":\"white\",\"ticks\":\"\"}},\"ternary\":{\"bgcolor\":\"#E5ECF6\",\"aaxis\":{\"gridcolor\":\"white\",\"linecolor\":\"white\",\"ticks\":\"\"},\"baxis\":{\"gridcolor\":\"white\",\"linecolor\":\"white\",\"ticks\":\"\"},\"caxis\":{\"gridcolor\":\"white\",\"linecolor\":\"white\",\"ticks\":\"\"}},\"coloraxis\":{\"colorbar\":{\"outlinewidth\":0,\"ticks\":\"\"}},\"colorscale\":{\"sequential\":[[0.0,\"#0d0887\"],[0.1111111111111111,\"#46039f\"],[0.2222222222222222,\"#7201a8\"],[0.3333333333333333,\"#9c179e\"],[0.4444444444444444,\"#bd3786\"],[0.5555555555555556,\"#d8576b\"],[0.6666666666666666,\"#ed7953\"],[0.7777777777777778,\"#fb9f3a\"],[0.8888888888888888,\"#fdca26\"],[1.0,\"#f0f921\"]],\"sequentialminus\":[[0.0,\"#0d0887\"],[0.1111111111111111,\"#46039f\"],[0.2222222222222222,\"#7201a8\"],[0.3333333333333333,\"#9c179e\"],[0.4444444444444444,\"#bd3786\"],[0.5555555555555556,\"#d8576b\"],[0.6666666666666666,\"#ed7953\"],[0.7777777777777778,\"#fb9f3a\"],[0.8888888888888888,\"#fdca26\"],[1.0,\"#f0f921\"]],\"diverging\":[[0,\"#8e0152\"],[0.1,\"#c51b7d\"],[0.2,\"#de77ae\"],[0.3,\"#f1b6da\"],[0.4,\"#fde0ef\"],[0.5,\"#f7f7f7\"],[0.6,\"#e6f5d0\"],[0.7,\"#b8e186\"],[0.8,\"#7fbc41\"],[0.9,\"#4d9221\"],[1,\"#276419\"]]},\"xaxis\":{\"gridcolor\":\"white\",\"linecolor\":\"white\",\"ticks\":\"\",\"title\":{\"standoff\":15},\"zerolinecolor\":\"white\",\"automargin\":true,\"zerolinewidth\":2},\"yaxis\":{\"gridcolor\":\"white\",\"linecolor\":\"white\",\"ticks\":\"\",\"title\":{\"standoff\":15},\"zerolinecolor\":\"white\",\"automargin\":true,\"zerolinewidth\":2},\"scene\":{\"xaxis\":{\"backgroundcolor\":\"#E5ECF6\",\"gridcolor\":\"white\",\"linecolor\":\"white\",\"showbackground\":true,\"ticks\":\"\",\"zerolinecolor\":\"white\",\"gridwidth\":2},\"yaxis\":{\"backgroundcolor\":\"#E5ECF6\",\"gridcolor\":\"white\",\"linecolor\":\"white\",\"showbackground\":true,\"ticks\":\"\",\"zerolinecolor\":\"white\",\"gridwidth\":2},\"zaxis\":{\"backgroundcolor\":\"#E5ECF6\",\"gridcolor\":\"white\",\"linecolor\":\"white\",\"showbackground\":true,\"ticks\":\"\",\"zerolinecolor\":\"white\",\"gridwidth\":2}},\"shapedefaults\":{\"line\":{\"color\":\"#2a3f5f\"}},\"annotationdefaults\":{\"arrowcolor\":\"#2a3f5f\",\"arrowhead\":0,\"arrowwidth\":1},\"geo\":{\"bgcolor\":\"white\",\"landcolor\":\"#E5ECF6\",\"subunitcolor\":\"white\",\"showland\":true,\"showlakes\":true,\"lakecolor\":\"white\"},\"title\":{\"x\":0.05},\"mapbox\":{\"style\":\"light\"}}},\"xaxis\":{\"anchor\":\"y\",\"domain\":[0.0,1.0],\"title\":{\"text\":\"kind\"},\"categoryorder\":\"array\",\"categoryarray\":[\"short\",\"long\"]},\"yaxis\":{\"anchor\":\"x\",\"domain\":[0.0,1.0],\"title\":{\"text\":\"duration\"}},\"legend\":{\"tracegroupgap\":0},\"title\":{\"text\":\"duration ~ kind\"},\"boxmode\":\"group\"},                        {\"responsive\": true}                    ).then(function(){\n",
       "                            \n",
       "var gd = document.getElementById('f5a2f9e1-615a-4578-a568-cdac4044a5a1');\n",
       "var x = new MutationObserver(function (mutations, observer) {{\n",
       "        var display = window.getComputedStyle(gd).display;\n",
       "        if (!display || display === 'none') {{\n",
       "            console.log([gd, 'removed!']);\n",
       "            Plotly.purge(gd);\n",
       "            observer.disconnect();\n",
       "        }}\n",
       "}});\n",
       "\n",
       "// Listen for the removal of the full notebook cells\n",
       "var notebookContainer = gd.closest('#notebook-container');\n",
       "if (notebookContainer) {{\n",
       "    x.observe(notebookContainer, {childList: true});\n",
       "}}\n",
       "\n",
       "// Listen for the clearing of the current output cell\n",
       "var outputEl = gd.closest('.output');\n",
       "if (outputEl) {{\n",
       "    x.observe(outputEl, {childList: true});\n",
       "}}\n",
       "\n",
       "                        })                };                });            </script>        </div>"
      ]
     },
     "metadata": {},
     "output_type": "display_data"
    }
   ],
   "source": [
    "from IPython.display import display\n",
    "\n",
    "display(smf.ols('duration ~ C(kind, Treatment(reference=\"short\"))', data=old_faithful).fit().summary().tables[1])\n",
    "\n",
    "fig = px.box(old_faithful, x='kind', y='duration', \n",
    "             title='duration ~ kind',\n",
    "             category_orders={'kind': ['short', 'long']})\n",
    "fig.show() # USE `fig.show(renderer=\"png\")` FOR ALL GitHub and MarkUs SUBMISSIONS"
   ]
  },
  {
   "cell_type": "markdown",
   "id": "3fee975f",
   "metadata": {},
   "source": [
    "<details class=\"details-example\"><summary style=\"color:blue\"><u>Further Guidance</u></summary>\n",
    "\n",
    "> _Don't forget to ask for summaries of all your different ChatBot sessions and organize and paste these into your homework notebook (including link(s) to chat log histories if you're using ChatBot) But if you're using the STA130 custom NBLM ChatBot, you'll only be able to ask for summaries, of course!_  \n",
    "</details>"
   ]
  },
  {
   "cell_type": "markdown",
   "id": "0f288839",
   "metadata": {},
   "source": [
    "### 12. Identify which of the histograms suggests the plausibility of the assumption that the distribution of *error* terms is normal for each of the models, and explain why the other three do not support this assumption.\n",
    "\n",
    "> Hint: Question 5 of the *Communication Activity #2* of the Oct25 TUT (addressing an *omitted* section of the TUT) discusses how the assumption in *Simple Linear Regression* that the *error* terms $\\epsilon_i \\sim \\mathcal N\\left(0, \\sigma\\right)$ is diagnostically assessed by evaluating distributional shape of the *residuals* $\\text{e}_i = \\hat \\epsilon_i = Y_i - \\hat y_i$\n"
   ]
  },
  {
   "cell_type": "code",
   "execution_count": 16,
   "id": "337e3a5f",
   "metadata": {},
   "outputs": [
    {
     "data": {
      "image/png": "[encoded data removed]"
     },
     "metadata": {},
     "output_type": "display_data"
    }
   ],
   "source": [
    "from plotly.subplots import make_subplots\n",
    "import plotly.graph_objects as go\n",
    "from scipy import stats\n",
    "import numpy as np\n",
    "\n",
    "model_residuals = {\n",
    "    '<br>Model 1:<br>All Data using slope': smf.ols('duration ~ waiting', data=old_faithful).fit().resid,\n",
    "    '<br>Model 2:<br>Short Wait Data': smf.ols('duration ~ waiting', data=old_faithful[short_wait]).fit().resid,\n",
    "    '<br>Model 3:<br>Long Wait Data': smf.ols('duration ~ waiting', data=old_faithful[long_wait]).fit().resid,\n",
    "    '<br>Model 4:<br>All Data using indicator': smf.ols('duration ~ C(kind, Treatment(reference=\"short\"))', data=old_faithful).fit().resid\n",
    "}\n",
    "\n",
    "fig = make_subplots(rows=2, cols=2, subplot_titles=list(model_residuals.keys()))\n",
    "for i, (title, resid) in enumerate(model_residuals.items()):\n",
    "\n",
    "    if i == 1:  # Apply different bins only to the second histogram (index 1)\n",
    "        bin_size = dict(start=-1.9, end=1.9, size=0.2)\n",
    "    else:\n",
    "        bin_size = dict(start=-1.95, end=1.95, size=0.3)\n",
    "\n",
    "    fig.add_trace(go.Histogram(x=resid, name=title, xbins=bin_size, histnorm='probability density'), \n",
    "                  row=int(i/2)+1, col=(i%2)+1)\n",
    "    fig.update_xaxes(title_text=\"n=\"+str(len(resid)), row=int(i/2)+1, col=(i%2)+1)    \n",
    "    \n",
    "    normal_range = np.arange(-3*resid.std(),3*resid.std(),0.01)\n",
    "    fig.add_trace(go.Scatter(x=normal_range, mode='lines', opacity=0.5,\n",
    "                             y=stats.norm(loc=0, scale=resid.std()).pdf(normal_range),\n",
    "                             line=dict(color='black', dash='dot', width=2),\n",
    "                             name='Normal Distribution<br>(99.7% of its area)'), \n",
    "                  row=int(i/2)+1, col=(i%2)+1)\n",
    "    \n",
    "fig.update_layout(title_text='Histograms of Residuals from Different Models')\n",
    "fig.update_xaxes(range=[-2,2])\n",
    "fig.show(renderer=\"png\") # USE `fig.show(renderer=\"png\")` FOR ALL GitHub and MarkUs SUBMISSIONS"
   ]
  },
  {
   "cell_type": "markdown",
   "id": "574bfc64",
   "metadata": {},
   "source": [
    "Model 1 best supports the assumption that the distribution of error terms is normal. It uses all the data points and aligns best with the normal distribution curve. Model 2, the short wait data is right skewed and not a normal distribution. Model 3, the long wait data is also skewed but left skewed and not a normal distribution. Model 4 is a normal distribution and also fits the normal distribution curve so it also supports the assumption. "
   ]
  },
  {
   "cell_type": "markdown",
   "id": "241f05d4",
   "metadata": {},
   "source": [
    "https://chatgpt.com/share/672d96c0-3f40-8001-b3a1-1c70959fcf3d"
   ]
  },
  {
   "cell_type": "markdown",
   "id": "f7413283",
   "metadata": {},
   "source": [
    "### 13. The \"short\" and \"long\" wait times are not \"before and after\" measurements so there are not natural pairs on which to base differences on which to do a \"one sample\" (paired differences) *hypothesis test*; but, we can do \"two sample\" hypothesis testing using a *permuation test*, or create a 95% *bootstrap confidence interval* for the difference in means of the two populations. \n",
    "\n",
    "### (A) Do a permuation test $\\;H_0: \\mu_{\\text{short}}=\\mu_{\\text{long}} \\; \\text{ no difference in duration between short and long groups}$ by \"shuffling\" the labels\n",
    "### (B) Create a 95% bootstrap confidence interval  by repeatedly bootstrapping within each group and applying *np.quantile(bootstrapped_mean_differences, [0.025, 0.975])* to the collection of differences between the sample means.    \n",
    "### (a) Explain how the sampling approaches work for the two simulations.\n",
    "### (b) Compare and contrast these two methods with the *indicator variable* based model approach used in Question 11, explaining how they're similar and different.<br>\n",
    "    \n",
    "<details class=\"details-example\"><summary style=\"color:blue\"><u>Further Guidance</u></summary>\n",
    "\n",
    "> _You'll need to create `for` loops for repeated (shuffling simulation) **permutation** and (subgroup) **bootstrapping**, where_\n",
    ">\n",
    "> - _\"shuffling\" for **permutation testing** is done like this `old_faithful.assign(kind_shuffled=old_faithful['kind'].sample(n=len(old_faithful), replace=False).values)#.groupby('kind').size()`; then, the **mean difference statistic** is then calculated using `.groupby('kind_shuffled')['duration'].mean().iloc[::-1].diff().values[1]` (so the **observed statistic** is `old_faithful.groupby('kind')['duration'].mean().iloc[::-1].diff().values[1]`_\n",
    "> \n",
    ">\n",
    "> - _\"two sample\" **bootstrapping** is done like this `old_faithful.groupby('kind').apply(lambda x: x.sample(n=len(x), replace=True)).reset_index(drop=True)#.groupby('kind').size()`; then, the **bootstrapped mean difference statistic** is then calculated using `.groupby('kind')['duration'].mean().iloc[::-1].diff().values[1]` (like the **observed statistic** except this is applied to the **bootstrapped** resampling of `old_faithful`)_\n",
    "> ---\n",
    "> \n",
    "> _Don't forget to ask for summaries of all your different ChatBot sessions and organize and paste these into your homework notebook (including link(s) to chat log histories if you're using ChatBot) But if you're using the STA130 custom NBLM ChatBot, you'll only be able to ask for summaries, of course!_\n",
    "</details>"
   ]
  },
  {
   "cell_type": "markdown",
   "id": "06fe02c1",
   "metadata": {},
   "source": [
    "### 14. Have you reviewed the course wiki-textbook and interacted with a ChatBot (or, if that wasn't sufficient, real people in the course piazza discussion board or TA office hours) to help you understand all the material in the tutorial and lecture that you didn't quite follow when you first saw it?<br>\n",
    "\n",
    "<details class=\"details-example\"><summary style=\"color:blue\"><u>Further Guidance</u></summary>\n",
    "\n",
    ">  _Here is the link of [wiki-textbook](https://github.com/pointOfive/stat130chat130/wiki) in case it gets lost among all the information you need to keep track of_  : )\n",
    ">\n",
    "> _Just answering \"Yes\" or \"No\" or \"Somewhat\" or \"Mostly\" or whatever here is fine as this question isn't a part of the rubric; but, the midterm and final exams may ask questions that are based on the tutorial and lecture materials; and, your own skills will be limited by your familiarity with these materials (which will determine your ability to actually do actual things effectively with these skills... like the course project...)_\n",
    "</details>    "
   ]
  },
  {
   "cell_type": "markdown",
   "id": "343db3e1",
   "metadata": {},
   "source": [
    "Yes"
   ]
  },
  {
   "cell_type": "markdown",
   "id": "bc0639e8",
   "metadata": {},
   "source": [
    "## Recommended Additional Useful Activities [Optional]\n",
    "\n",
    "The \"Ethical Profesionalism Considerations\" and \"Current Course Project Capability Level\" sections below **are not a part of the required homework assignment**; rather, they are regular weekly guides covering (a) relevant considerations regarding professional and ethical conduct, and (b) the analysis steps for the STA130 course project that are feasible at the current stage of the course \n",
    "\n",
    "<br>\n",
    "<details class=\"details-example\"><summary style=\"color:blue\"><u>Ethical Professionalism Considerations</u></summary>\n",
    "\n",
    "### Ethical Professionalism Considerations\n",
    "    \n",
    "The TUT and HW both addressed some of the assumptions used in **Simple Linear Regression**. The **p-values** provided by `statsmodels` via `smf.ols(...).fit()` depend on these assumptions, so if they are not (at least approximately) correct, the **p-values** (and any subsequent claims regarding the \"evidience against\" the **null hypothesis**) are not reliable. In light of this consideration, describe how you could diagnostically check the first three assumptions (given below) when using analyses based on **Simple Linear regression** model. From an Ethical and Professional perspective, do you think doing diagnostic checks on the assumptions of a **Simple Linear regression** model is something you can and should do whenever you're doing this kind of analysis? \n",
    "            \n",
    "> The first three assumptions associated with the **Simple Linear regression** model are that\n",
    "> \n",
    "> - the $\\epsilon_i$ **errors** (sometimes referred to as the **noise**) are **normally distributed**\n",
    "> - the $\\epsilon_i$ **errors** are **homoscedastic** (so their distributional variance $\\sigma^2$ does not change as a function of $x_i$)\n",
    "> - the linear form is [at least reasonably approximately] \"true\" (in the sense that the above two remain [at least reasonably approximately] \"true\") so that then behavior of the $Y_i$ **outcomes** are represented/determined on average by the **linear equation**)<br>\n",
    "> \n",
    ">    and there are additional assumptions; but, a deeper reflection on these is \"beyond the scope\" of STA130; nonetheless, they are that<br><br>\n",
    "> - the $x_i$ **predictor variable** is **measured without error**\n",
    "> - and the $\\epsilon_i$ **errors** are **statistically independent** (so their values do not depend on each other)\n",
    "> - and the $\\epsilon_i$ **errors** are **unbiased** relative to the **expected value** of **outcome** $E[Y_i|x_i]=\\beta_0 + \\beta_1x_i$ (which is equivalently stated by saying that the mean of the **error distribution** is $0$, or again equivalently, that the **expected value** of the **errors** $E[\\epsilon_i] = 0$)\n",
    "    \n",
    "</details>\n",
    "\n",
    "<details class=\"details-example\"><summary style=\"color:blue\"><u>Current Course Project Capability Level</u></summary>\n",
    "\n",
    "**Remember to abide by the [data use agreement](https://static1.squarespace.com/static/60283c2e174c122f8ebe0f39/t/6239c284d610f76fed5a2e69/1647952517436/Data+Use+Agreement+for+the+Canadian+Social+Connection+Survey.pdf) at all times.**\n",
    "\n",
    "Information about the course project is available on the course github repo [here](https://github.com/pointOfive/stat130chat130/tree/main/CP), including a draft [course project specfication](https://github.com/pointOfive/stat130chat130/blob/main/CP/STA130F23_course_project_specification.ipynb) (subject to change). \n",
    "- The Week 01 HW introduced [STA130F24_CourseProject.ipynb](https://github.com/pointOfive/stat130chat130/blob/main/CP/STA130F24_CourseProject.ipynb), and the [available variables](https://drive.google.com/file/d/1ISVymGn-WR1lcRs4psIym2N3or5onNBi/view). \n",
    "- Please do not download the [data](https://drive.google.com/file/d/1mbUQlMTrNYA7Ly5eImVRBn16Ehy9Lggo/view) accessible at the bottom of the [CSCS](https://casch.org/cscs) webpage (or the course github repo) multiple times.\n",
    "    \n",
    "> ### NEW DEVELOPMENT<br>New Abilities Achieved and New Levels Unlocked!!!    \n",
    "> **As noted, the Week 01 HW introduced the [STA130F24_CourseProject.ipynb](https://github.com/pointOfive/stat130chat130/blob/main/CP/STA130F24_CourseProject.ipynb) notebook.** _And there it instructed students to explore the notebook through the first 16 cells of the notebook._ The following cell in that notebook (there marked as \"run cell 17\") is preceded by an introductory section titled, \"**Now for some comparisons...**\", _**and all material from that point on provides an example to allow you to start applying what you're learning about Hypothesis Testing to the CSCS data**_ **using a paired samples (\"one sample\") framework.**\n",
    ">\n",
    "> **NOW, HOWEVER, YOU CAN DO MORE.** \n",
    "> - _**Now you can do \"two sample\" hypothesis testing without the need for paired samples.**_ All you need are two groups.\n",
    "> - _**And now you can do simple linear regression modeling.**_ All you need are two columns.\n",
    "\n",
    "### Current Course Project Capability Level\n",
    "\n",
    "At this point in the course you should be able to do a **Simple Linear Regression** analysis for data from the Canadian Social Connection Survey data\n",
    "    \n",
    "1. Create and test a **null hypothesis** of no linear association \"on average\" for a couple of columns of interest in the Canadian Social Connection Survey data using **Simple Linear Regression**\n",
    "\n",
    "2. Use the **residuals** of a fitted **Simple Linear Regression** model to diagnostically assess some of the assumptions of the analysis\n",
    "\n",
    "3. Use an **indicator variable** based **Simple Linear Regression** model to compare two groups from the Canadian Social Connection Survey data\n",
    "\n",
    "4. Compare and contrast the results of an **indicator variable** based **Simple Linear Regression** model to analyses based on a **permutation test** and a **bootstrapped confidence interval**   \n",
    "    \n",
    "</details>    "
   ]
  },
  {
   "cell_type": "code",
   "execution_count": null,
   "id": "4b4a0b4d",
   "metadata": {},
   "outputs": [],
   "source": []
  }
 ],
 "metadata": {
  "kernelspec": {
   "display_name": "Python 3 (ipykernel)",
   "language": "python",
   "name": "python3"
  },
  "language_info": {
   "codemirror_mode": {
    "name": "ipython",
    "version": 3
   },
   "file_extension": ".py",
   "mimetype": "text/x-python",
   "name": "python",
   "nbconvert_exporter": "python",
   "pygments_lexer": "ipython3",
   "version": "3.11.6"
  }
 },
 "nbformat": 4,
 "nbformat_minor": 5
}
