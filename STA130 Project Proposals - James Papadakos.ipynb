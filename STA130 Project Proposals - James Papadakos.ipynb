{
 "cells": [
  {
   "cell_type": "markdown",
   "id": "1b032e55",
   "metadata": {},
   "source": [
    "1.For my first research question, how does the ownership of pets have an impact on our mental health? Some variables in the survey include (GEO_housing_live_with_dogs, GEO_housing_live_with_cats, etc). The population parameter I would like to estimate is the level of: happiness, loneliness and stress of pet owners vs non pet owners. Furthermore, I could look at specific pets and how that may affect the same parameter. \n",
    "\n",
    "To summarise the statistics I would calculate the mean and standard deviation for both pet owners and non-pet owners. I would also show the amount of pet owners vs non pet owners to show the proportion. A box plot would be great to visualise the medians and potential outliers. Moreover, separate histograms to show the distribution of the various scores of pet owners vs non would be a great visualisation for looking at each statistic individually.  A bar plot that includes the mean or median values for pet owners vs non can show the comparison clearly. \n",
    "\n",
    "I would use linear regression to analyse my research question. My dependent variables would be happiness, loneliness and stress levels. My independent variables would be pet ownership, a binary variable 1 if they own a pet, 0 if not. With the survey being self-reported there is possible bias that should be considered for potential inaccuracies.\n",
    "\n",
    "Some hypotheses I would expect to produce would be: \n",
    "\"Pet ownership is positively associated with higher happiness levels”\n",
    "\n",
    "\"Pet ownership is positively associated with lower feelings of loneliness.\"\n",
    "\n",
    "\"Pet ownership is associated with lower stress levels, but this relationship may vary based on the type of pet owned.\"\n",
    "All of these hypotheses explain whether pet ownership impacts mental health as well as how. Which is the research question being asked. \n",
    "\n",
    "\n",
    "\n",
    "2.My second research question is, how does the support system around you affect your overall wellness? The survey focuses a lot on \"social_support_scale\" and overall social structure in that person's life, providing a wide variety of questions and data. I would like to see how different social support systems can affect a person's overall mental well being. For example the survey asks about the frequency of seeing family and friends as well as if they have various roles in their lives for social support. The population parameter, I would like to estimate is self rated mental health, subjective happiness scale and social interactions anxiety scale. As well as many more that display the various categories of mental health. Looking at all the different aspects of mental health will help me reach my hypothesis. In my report I would also show the amount of people who have a social support system and also if possible a recommendation on what you need to help improve your mental health if data reflects that way. \n",
    "\n",
    "To summarise the statistics I would calculate the mean and standard deviation for the mental health scores, amount of social interactions with friends or family and quality social support. To show the distribution of mental health scores, amount of social\tinteractions with friends or family and quality social support I would use a histogram. I would use bar charts to compare average mental health scores across different levels of social support or frequency of social interaction. To display the spread of the mental health scores for people with varying social support I could use a box plot. \n",
    "\n",
    "I would again use linear regression to analyse the research question. The frequency\t of social interactions/level of social support would be the independent variable. The various scales that represent mental health would be the dependent variable. With the survey being self-reported there is possible bias that should be considered for potential inaccuracies.\n",
    "\n",
    "Some hypotheses I would expect would include: \n",
    "\"People who frequently interact with friends and family have higher mental health \n",
    "scores compared to those who interact less frequently.\"\n",
    "\n",
    "\"The presence of a good social support system is associated with lower self-reported anxiety levels.\"\n",
    "\n",
    "\"People who both frequently interact with friends and have strong emotional support systems have the best mental health outcomes compared to those who have only one or neither of these factors.\"\n",
    "\n",
    "\"There is no significant relationship between the frequency of social interactions and mental health scores.\"\n",
    "All of these hypotheses answer my question on how social support in a person's life can affect their mental health. \n",
    "\n",
    "3.My last research question I am interested in is, what is the relationship between the amount of time spent on social media and self-reported levels of anxiety, loneliness, or self-esteem? This is a very relevant topic in today's technology dependent world. This has been a widely discussed topic for years, so I am interested in doing my own research to come up with my own conclusions. In the survey they ask many questions revolving around the total time spent on social media and a self reflection on if they spend too much time on social media. My population parameters would be anxiety, loneliness and self-esteem levels. I could also focus on the younger people who took the survey to see if it's affecting the younger generation more than the older and conclude if growing up with social media has a stronger impact on someones well being.\n",
    "\n",
    "To summarise the statistics I would calculate the mean and standard deviation for anxiety, loneliness and self-esteem scores for different levels of social media use. To show the distribution of the values I would use a histogram. A bar chart would be useful to show mean levels of the different scores for different categories of social media use. I would use a box plot to compare the values across the different levels of social media usage to best visualise the difference it makes. \n",
    "\n",
    "I would use a linear regression method to analyse my data. The anxiety, loneliness \tand self-esteem scores would be the dependent variables, each analysed separately. The social media use would be the independent variable. The intercept would be \twhen they don’t use social media at all. The relationship between social media use \tand the scores should be linear. \n",
    "\n",
    "Some possible hypotheses include: \n",
    "\"People who spend more than a certain threshold(ex. 3 hours) on \n",
    "social media report significantly higher anxiety scores compared to those who spend less time.\"\n",
    "\n",
    "\"The effect of social media use on anxiety and loneliness is moderated by age, such that younger individuals experience stronger negative effects.\"\n",
    "\n",
    "\"Social media use does not significantly affect loneliness or self-esteem.\"\n",
    "These hypotheses directly show the significance of social media in a persons mental health, which was the key idea in my research question. "
   ]
  }
 ],
 "metadata": {
  "kernelspec": {
   "display_name": "Python 3 (ipykernel)",
   "language": "python",
   "name": "python3"
  },
  "language_info": {
   "codemirror_mode": {
    "name": "ipython",
    "version": 3
   },
   "file_extension": ".py",
   "mimetype": "text/x-python",
   "name": "python",
   "nbconvert_exporter": "python",
   "pygments_lexer": "ipython3",
   "version": "3.11.6"
  }
 },
 "nbformat": 4,
 "nbformat_minor": 5
}
